{
 "cells": [
  {
   "cell_type": "code",
   "execution_count": null,
   "id": "faf7884e-3d4f-4080-b2f2-bef46b4f749e",
   "metadata": {},
   "outputs": [],
   "source": []
  }
 ],
 "metadata": {
  "kernelspec": {
   "display_name": "",
   "name": ""
  },
  "language_info": {
   "name": ""
  }
 },
 "nbformat": 4,
 "nbformat_minor": 5
}
