{
 "cells": [
  {
   "cell_type": "code",
   "execution_count": 1,
   "id": "21983c92-5500-40cc-8a7d-8acd1fb323b7",
   "metadata": {},
   "outputs": [
    {
     "data": {
      "text/plain": [
       "10"
      ]
     },
     "execution_count": 1,
     "metadata": {},
     "output_type": "execute_result"
    }
   ],
   "source": [
    "a=10\n",
    "a\n"
   ]
  },
  {
   "cell_type": "code",
   "execution_count": 3,
   "id": "dd00f2d0-67d2-4b46-869f-40200b71be43",
   "metadata": {},
   "outputs": [
    {
     "data": {
      "text/plain": [
       "int"
      ]
     },
     "execution_count": 3,
     "metadata": {},
     "output_type": "execute_result"
    }
   ],
   "source": [
    "type(a)\n"
   ]
  },
  {
   "cell_type": "code",
   "execution_count": 5,
   "id": "bfd26ee0-e85f-4f39-bf27-7efd4e0da4e7",
   "metadata": {},
   "outputs": [
    {
     "data": {
      "text/plain": [
       "10.2"
      ]
     },
     "execution_count": 5,
     "metadata": {},
     "output_type": "execute_result"
    }
   ],
   "source": [
    "b=10.2\n",
    "b"
   ]
  },
  {
   "cell_type": "code",
   "execution_count": 7,
   "id": "7c550741-2c74-4b10-8d73-076f30ff963a",
   "metadata": {},
   "outputs": [
    {
     "data": {
      "text/plain": [
       "float"
      ]
     },
     "execution_count": 7,
     "metadata": {},
     "output_type": "execute_result"
    }
   ],
   "source": [
    "type(b)\n"
   ]
  },
  {
   "cell_type": "code",
   "execution_count": 9,
   "id": "c73b98c2-a2dd-442c-8423-1aa0f6808212",
   "metadata": {},
   "outputs": [
    {
     "data": {
      "text/plain": [
       "True"
      ]
     },
     "execution_count": 9,
     "metadata": {},
     "output_type": "execute_result"
    }
   ],
   "source": [
    "c=True\n",
    "c"
   ]
  },
  {
   "cell_type": "code",
   "execution_count": 11,
   "id": "141988f2-d7cf-400a-8431-894e86643d7e",
   "metadata": {},
   "outputs": [
    {
     "data": {
      "text/plain": [
       "bool"
      ]
     },
     "execution_count": 11,
     "metadata": {},
     "output_type": "execute_result"
    }
   ],
   "source": [
    "type(c)"
   ]
  },
  {
   "cell_type": "code",
   "execution_count": 13,
   "id": "a0d140a5-140a-4b15-9efb-86ddbc8e1512",
   "metadata": {},
   "outputs": [
    {
     "data": {
      "text/plain": [
       "(3+5j)"
      ]
     },
     "execution_count": 13,
     "metadata": {},
     "output_type": "execute_result"
    }
   ],
   "source": [
    "e=3+5j\n",
    "e"
   ]
  },
  {
   "cell_type": "code",
   "execution_count": 15,
   "id": "8db975a3-3cc6-4267-a105-3356740de224",
   "metadata": {},
   "outputs": [
    {
     "data": {
      "text/plain": [
       "complex"
      ]
     },
     "execution_count": 15,
     "metadata": {},
     "output_type": "execute_result"
    }
   ],
   "source": [
    "type(e)"
   ]
  },
  {
   "cell_type": "code",
   "execution_count": 17,
   "id": "3780c3aa-a64e-46e2-adb7-b3ea0741bb01",
   "metadata": {},
   "outputs": [
    {
     "data": {
      "text/plain": [
       "'hi'"
      ]
     },
     "execution_count": 17,
     "metadata": {},
     "output_type": "execute_result"
    }
   ],
   "source": [
    "f='hi'\n",
    "f"
   ]
  },
  {
   "cell_type": "code",
   "execution_count": 19,
   "id": "a76ead87-4c4a-420d-a978-b57ea0344ff3",
   "metadata": {},
   "outputs": [
    {
     "data": {
      "text/plain": [
       "'welcome'"
      ]
     },
     "execution_count": 19,
     "metadata": {},
     "output_type": "execute_result"
    }
   ],
   "source": [
    "s='welcome'\n",
    "s"
   ]
  },
  {
   "cell_type": "code",
   "execution_count": 23,
   "id": "a1378061-5fb7-4872-aa22-6ceb7becf391",
   "metadata": {},
   "outputs": [
    {
     "data": {
      "text/plain": [
       "'hiwelcome'"
      ]
     },
     "execution_count": 23,
     "metadata": {},
     "output_type": "execute_result"
    }
   ],
   "source": [
    "f +s\n"
   ]
  },
  {
   "cell_type": "markdown",
   "id": "11576b15-155c-4e0f-9502-46253018675e",
   "metadata": {},
   "source": [
    "# addition +\n",
    "# substraction -\n",
    "# multiplication *\n",
    "# divison /\n",
    "# remainder %\n",
    "# power **\n",
    "# // float divison"
   ]
  },
  {
   "cell_type": "code",
   "execution_count": 2,
   "id": "cd7ce3d4-0fde-48b5-b251-e9ff0c90c72e",
   "metadata": {},
   "outputs": [],
   "source": [
    "a=109\n",
    "b=3"
   ]
  },
  {
   "cell_type": "code",
   "execution_count": 8,
   "id": "dd5792e7-59ba-4513-bb3a-22a39c1edeae",
   "metadata": {},
   "outputs": [
    {
     "data": {
      "text/plain": [
       "112"
      ]
     },
     "execution_count": 8,
     "metadata": {},
     "output_type": "execute_result"
    }
   ],
   "source": [
    "c=a+b\n",
    "c"
   ]
  },
  {
   "cell_type": "code",
   "execution_count": 10,
   "id": "abef5c6c-bc94-4653-b462-6b09eddad6a3",
   "metadata": {},
   "outputs": [
    {
     "data": {
      "text/plain": [
       "int"
      ]
     },
     "execution_count": 10,
     "metadata": {},
     "output_type": "execute_result"
    }
   ],
   "source": [
    "type(c)"
   ]
  },
  {
   "cell_type": "code",
   "execution_count": 12,
   "id": "4a28ee45-497d-4ed2-b172-d82d05875345",
   "metadata": {},
   "outputs": [
    {
     "data": {
      "text/plain": [
       "106"
      ]
     },
     "execution_count": 12,
     "metadata": {},
     "output_type": "execute_result"
    }
   ],
   "source": [
    "d=a-b\n",
    "d"
   ]
  },
  {
   "cell_type": "code",
   "execution_count": 14,
   "id": "7db8923d-60bc-4cc3-9bfe-90858a2c1591",
   "metadata": {},
   "outputs": [
    {
     "data": {
      "text/plain": [
       "int"
      ]
     },
     "execution_count": 14,
     "metadata": {},
     "output_type": "execute_result"
    }
   ],
   "source": [
    "type(d)"
   ]
  },
  {
   "cell_type": "code",
   "execution_count": 16,
   "id": "9b7f0ad7-6fae-4326-8223-8366b24db96e",
   "metadata": {},
   "outputs": [
    {
     "data": {
      "text/plain": [
       "327"
      ]
     },
     "execution_count": 16,
     "metadata": {},
     "output_type": "execute_result"
    }
   ],
   "source": [
    "e=a*b\n",
    "e"
   ]
  },
  {
   "cell_type": "code",
   "execution_count": 18,
   "id": "12e9ffcb-82c3-4ccd-a75a-1c5701c7186a",
   "metadata": {},
   "outputs": [
    {
     "data": {
      "text/plain": [
       "int"
      ]
     },
     "execution_count": 18,
     "metadata": {},
     "output_type": "execute_result"
    }
   ],
   "source": [
    "type(e)"
   ]
  },
  {
   "cell_type": "code",
   "execution_count": 20,
   "id": "49ce28c0-6078-4c20-aaa3-5cf9c53e729d",
   "metadata": {},
   "outputs": [
    {
     "data": {
      "text/plain": [
       "36.333333333333336"
      ]
     },
     "execution_count": 20,
     "metadata": {},
     "output_type": "execute_result"
    }
   ],
   "source": [
    "f=a/b\n",
    "f"
   ]
  },
  {
   "cell_type": "code",
   "execution_count": 34,
   "id": "13bd48ed-5943-45e8-9135-0856ca63dad9",
   "metadata": {},
   "outputs": [
    {
     "data": {
      "text/plain": [
       "float"
      ]
     },
     "execution_count": 34,
     "metadata": {},
     "output_type": "execute_result"
    }
   ],
   "source": [
    "type(f)"
   ]
  },
  {
   "cell_type": "code",
   "execution_count": 22,
   "id": "71a952b1-09da-4a64-b9f4-d80c7a5ce72d",
   "metadata": {},
   "outputs": [
    {
     "data": {
      "text/plain": [
       "1"
      ]
     },
     "execution_count": 22,
     "metadata": {},
     "output_type": "execute_result"
    }
   ],
   "source": [
    "g=a%b\n",
    "g"
   ]
  },
  {
   "cell_type": "code",
   "execution_count": 24,
   "id": "3bd6ef48-8039-4a25-ba92-b66182a2500b",
   "metadata": {},
   "outputs": [
    {
     "data": {
      "text/plain": [
       "int"
      ]
     },
     "execution_count": 24,
     "metadata": {},
     "output_type": "execute_result"
    }
   ],
   "source": [
    "type(g)"
   ]
  },
  {
   "cell_type": "code",
   "execution_count": 26,
   "id": "ad370f1d-56cc-4fa1-bcd8-2995dfd36ab2",
   "metadata": {},
   "outputs": [
    {
     "data": {
      "text/plain": [
       "1295029"
      ]
     },
     "execution_count": 26,
     "metadata": {},
     "output_type": "execute_result"
    }
   ],
   "source": [
    "h=a**b\n",
    "h"
   ]
  },
  {
   "cell_type": "code",
   "execution_count": 28,
   "id": "1eb77ed7-e74a-47ca-be25-264251b0ab2b",
   "metadata": {},
   "outputs": [
    {
     "data": {
      "text/plain": [
       "int"
      ]
     },
     "execution_count": 28,
     "metadata": {},
     "output_type": "execute_result"
    }
   ],
   "source": [
    "type(h)"
   ]
  },
  {
   "cell_type": "code",
   "execution_count": 30,
   "id": "ad9e9b19-959c-4db2-b605-64043157b293",
   "metadata": {},
   "outputs": [
    {
     "data": {
      "text/plain": [
       "36"
      ]
     },
     "execution_count": 30,
     "metadata": {},
     "output_type": "execute_result"
    }
   ],
   "source": [
    "i=a//b\n",
    "i"
   ]
  },
  {
   "cell_type": "code",
   "execution_count": 32,
   "id": "d27f50ed-fb61-485c-a042-f681d52a67a9",
   "metadata": {},
   "outputs": [
    {
     "data": {
      "text/plain": [
       "int"
      ]
     },
     "execution_count": 32,
     "metadata": {},
     "output_type": "execute_result"
    }
   ],
   "source": [
    "type(i)"
   ]
  },
  {
   "cell_type": "code",
   "execution_count": 39,
   "id": "e1e50e65-9a80-4249-b6a0-66fde0198667",
   "metadata": {},
   "outputs": [
    {
     "data": {
      "text/plain": [
       "True"
      ]
     },
     "execution_count": 39,
     "metadata": {},
     "output_type": "execute_result"
    }
   ],
   "source": [
    "a>b"
   ]
  },
  {
   "cell_type": "code",
   "execution_count": 41,
   "id": "5ed2af3a-721f-4941-8bfd-b1dc4d35b01c",
   "metadata": {},
   "outputs": [
    {
     "data": {
      "text/plain": [
       "False"
      ]
     },
     "execution_count": 41,
     "metadata": {},
     "output_type": "execute_result"
    }
   ],
   "source": [
    "a<b"
   ]
  },
  {
   "cell_type": "code",
   "execution_count": 43,
   "id": "3b81a9a0-db2e-46ec-9a4d-0d1892b984dd",
   "metadata": {},
   "outputs": [
    {
     "data": {
      "text/plain": [
       "False"
      ]
     },
     "execution_count": 43,
     "metadata": {},
     "output_type": "execute_result"
    }
   ],
   "source": [
    "a<=b"
   ]
  },
  {
   "cell_type": "code",
   "execution_count": 45,
   "id": "a9b11a8b-cf5c-4410-8169-d4476057dce0",
   "metadata": {},
   "outputs": [
    {
     "data": {
      "text/plain": [
       "True"
      ]
     },
     "execution_count": 45,
     "metadata": {},
     "output_type": "execute_result"
    }
   ],
   "source": [
    "a>=b"
   ]
  },
  {
   "cell_type": "code",
   "execution_count": 47,
   "id": "8a831d2d-2cfb-4a38-981b-ef049a4d2209",
   "metadata": {},
   "outputs": [
    {
     "data": {
      "text/plain": [
       "False"
      ]
     },
     "execution_count": 47,
     "metadata": {},
     "output_type": "execute_result"
    }
   ],
   "source": [
    "a==b"
   ]
  },
  {
   "cell_type": "code",
   "execution_count": 49,
   "id": "bfe377e7-be13-4b21-a2cf-981282089ca3",
   "metadata": {},
   "outputs": [
    {
     "data": {
      "text/plain": [
       "True"
      ]
     },
     "execution_count": 49,
     "metadata": {},
     "output_type": "execute_result"
    }
   ],
   "source": [
    "a!=b"
   ]
  },
  {
   "cell_type": "code",
   "execution_count": 51,
   "id": "c6f81ee9-aec0-40b9-b57e-41429ef475fd",
   "metadata": {},
   "outputs": [],
   "source": [
    "# logical operators"
   ]
  },
  {
   "cell_type": "code",
   "execution_count": null,
   "id": "8f85c498-3e3e-4c98-ae93-f0c2cfecbf02",
   "metadata": {},
   "outputs": [],
   "source": []
  },
  {
   "cell_type": "markdown",
   "id": "330e21e0-14f8-456b-b387-5724112c9d52",
   "metadata": {},
   "source": [
    "and\n",
    "or\n",
    "nor\n"
   ]
  },
  {
   "cell_type": "code",
   "execution_count": 71,
   "id": "505574d2-a86e-46ac-8cb0-3381b22f06ea",
   "metadata": {},
   "outputs": [],
   "source": []
  },
  {
   "cell_type": "code",
   "execution_count": 56,
   "id": "61664f69-cb8f-4d1b-ab8d-b52e6d857eab",
   "metadata": {},
   "outputs": [
    {
     "data": {
      "text/plain": [
       "False"
      ]
     },
     "execution_count": 56,
     "metadata": {},
     "output_type": "execute_result"
    }
   ],
   "source": [
    "a==b and a!=b"
   ]
  },
  {
   "cell_type": "code",
   "execution_count": 58,
   "id": "e2c9beb7-d150-458b-a124-239af3f65a0b",
   "metadata": {},
   "outputs": [
    {
     "data": {
      "text/plain": [
       "True"
      ]
     },
     "execution_count": 58,
     "metadata": {},
     "output_type": "execute_result"
    }
   ],
   "source": [
    "a==b or a!=b"
   ]
  },
  {
   "cell_type": "code",
   "execution_count": 65,
   "id": "ad207e68-0fff-45c2-8d1a-b8e8b86b42b6",
   "metadata": {},
   "outputs": [],
   "source": [
    "d=8.4"
   ]
  },
  {
   "cell_type": "code",
   "execution_count": 73,
   "id": "fbf91a00-f892-41ad-9647-8c2c88bee0b1",
   "metadata": {},
   "outputs": [
    {
     "data": {
      "text/plain": [
       "False"
      ]
     },
     "execution_count": 73,
     "metadata": {},
     "output_type": "execute_result"
    }
   ],
   "source": [
    "d>=8.1"
   ]
  },
  {
   "cell_type": "code",
   "execution_count": 75,
   "id": "53394bd3-8d69-4b2e-9358-b1f85fe789bb",
   "metadata": {},
   "outputs": [
    {
     "data": {
      "text/plain": [
       "True"
      ]
     },
     "execution_count": 75,
     "metadata": {},
     "output_type": "execute_result"
    }
   ],
   "source": [
    "d<=9.0"
   ]
  },
  {
   "cell_type": "code",
   "execution_count": 67,
   "id": "12afcd20-9217-4d3c-8625-2297174ff1ee",
   "metadata": {},
   "outputs": [
    {
     "data": {
      "text/plain": [
       "True"
      ]
     },
     "execution_count": 67,
     "metadata": {},
     "output_type": "execute_result"
    }
   ],
   "source": [
    "d>=8.1 and d<=9.0"
   ]
  },
  {
   "cell_type": "code",
   "execution_count": 69,
   "id": "ee64cae4-319c-4f49-bcc2-f76204dcaf85",
   "metadata": {},
   "outputs": [
    {
     "data": {
      "text/plain": [
       "True"
      ]
     },
     "execution_count": 69,
     "metadata": {},
     "output_type": "execute_result"
    }
   ],
   "source": [
    "d>=8.1 or d<=9.0"
   ]
  },
  {
   "cell_type": "code",
   "execution_count": 19,
   "id": "afd43c03-87c8-41f6-b91c-603eaf905c2f",
   "metadata": {},
   "outputs": [
    {
     "name": "stdin",
     "output_type": "stream",
     "text": [
      "enter 6.9\n"
     ]
    }
   ],
   "source": [
    "cgpa =float(input(\"enter\"))"
   ]
  },
  {
   "cell_type": "code",
   "execution_count": 3,
   "id": "c14c7b40-04a1-4bc5-935c-e8b7f2c586c3",
   "metadata": {},
   "outputs": [
    {
     "data": {
      "text/plain": [
       "False"
      ]
     },
     "execution_count": 3,
     "metadata": {},
     "output_type": "execute_result"
    }
   ],
   "source": [
    "cgpa>=8.1 and cgpa <=9.0"
   ]
  },
  {
   "cell_type": "code",
   "execution_count": 5,
   "id": "2743a6d6-34f7-4422-887b-ff60f5de448e",
   "metadata": {},
   "outputs": [
    {
     "data": {
      "text/plain": [
       "True"
      ]
     },
     "execution_count": 5,
     "metadata": {},
     "output_type": "execute_result"
    }
   ],
   "source": [
    "cgpa>=7.1 and cgpa <=8.0"
   ]
  },
  {
   "cell_type": "code",
   "execution_count": 7,
   "id": "7375932e-7ff7-4d80-b9e9-e3807fed00aa",
   "metadata": {},
   "outputs": [
    {
     "data": {
      "text/plain": [
       "False"
      ]
     },
     "execution_count": 7,
     "metadata": {},
     "output_type": "execute_result"
    }
   ],
   "source": [
    "cgpa>=6.1 and cgpa <=7.0"
   ]
  },
  {
   "cell_type": "code",
   "execution_count": 9,
   "id": "8b9ea575-517f-45f4-b348-7c94c995b2b1",
   "metadata": {},
   "outputs": [
    {
     "data": {
      "text/plain": [
       "False"
      ]
     },
     "execution_count": 9,
     "metadata": {},
     "output_type": "execute_result"
    }
   ],
   "source": [
    "cgpa>=5.1 and cgpa <=6.0"
   ]
  },
  {
   "cell_type": "code",
   "execution_count": 11,
   "id": "146f9ce0-c23e-4b38-9a3b-19c9c1ac239a",
   "metadata": {},
   "outputs": [
    {
     "data": {
      "text/plain": [
       "False"
      ]
     },
     "execution_count": 11,
     "metadata": {},
     "output_type": "execute_result"
    }
   ],
   "source": [
    "cgpa <=5.0"
   ]
  },
  {
   "cell_type": "code",
   "execution_count": 3,
   "id": "0c8254d1-4f83-4808-8963-169877660771",
   "metadata": {},
   "outputs": [
    {
     "data": {
      "text/plain": [
       "list"
      ]
     },
     "execution_count": 3,
     "metadata": {},
     "output_type": "execute_result"
    }
   ],
   "source": [
    "list \n"
   ]
  },
  {
   "cell_type": "code",
   "execution_count": 5,
   "id": "cb42b99d-540e-445b-be9f-cc7e46886062",
   "metadata": {},
   "outputs": [],
   "source": [
    "a=[2,3,4,5,9]"
   ]
  },
  {
   "cell_type": "code",
   "execution_count": 7,
   "id": "91bed893-467b-4f41-9b69-172017ebc528",
   "metadata": {},
   "outputs": [
    {
     "data": {
      "text/plain": [
       "[2, 3, 4, 5, 9]"
      ]
     },
     "execution_count": 7,
     "metadata": {},
     "output_type": "execute_result"
    }
   ],
   "source": [
    "a"
   ]
  },
  {
   "cell_type": "code",
   "execution_count": 9,
   "id": "2f52c751-1f78-490e-8192-2fb8667a0256",
   "metadata": {},
   "outputs": [
    {
     "data": {
      "text/plain": [
       "list"
      ]
     },
     "execution_count": 9,
     "metadata": {},
     "output_type": "execute_result"
    }
   ],
   "source": [
    "type(a)"
   ]
  },
  {
   "cell_type": "code",
   "execution_count": 104,
   "id": "4a54aa54-344c-4159-b3ef-c59f40a5a14e",
   "metadata": {},
   "outputs": [],
   "source": [
    "c=[8,8.9,'hi',5155,854,6654,'welcome back',54,54,841,'data']"
   ]
  },
  {
   "cell_type": "code",
   "execution_count": 106,
   "id": "314402ab-f9be-46fb-a61f-c71ac4a9ed25",
   "metadata": {},
   "outputs": [
    {
     "data": {
      "text/plain": [
       "[8, 8.9, 'hi', 5155, 854, 6654, 'welcome back', 54, 54, 841, 'data']"
      ]
     },
     "execution_count": 106,
     "metadata": {},
     "output_type": "execute_result"
    }
   ],
   "source": [
    "c\n"
   ]
  },
  {
   "cell_type": "code",
   "execution_count": 108,
   "id": "c12f3631-5852-4054-80d9-fef2e04ab822",
   "metadata": {},
   "outputs": [
    {
     "data": {
      "text/plain": [
       "list"
      ]
     },
     "execution_count": 108,
     "metadata": {},
     "output_type": "execute_result"
    }
   ],
   "source": [
    "type(c)"
   ]
  },
  {
   "cell_type": "code",
   "execution_count": 110,
   "id": "ba402bc8-f7d3-4507-88da-d218b1dee0b5",
   "metadata": {},
   "outputs": [
    {
     "data": {
      "text/plain": [
       "[8, 8.9, 'hi', 5155, 854]"
      ]
     },
     "execution_count": 110,
     "metadata": {},
     "output_type": "execute_result"
    }
   ],
   "source": [
    "c[0:5]"
   ]
  },
  {
   "cell_type": "code",
   "execution_count": 112,
   "id": "2d952807-84a4-4d2e-a997-0dd17569b991",
   "metadata": {},
   "outputs": [
    {
     "data": {
      "text/plain": [
       "[8, 8.9, 'hi', 5155, 854, 6654, 'welcome back', 54, 54, 841, 'data']"
      ]
     },
     "execution_count": 112,
     "metadata": {},
     "output_type": "execute_result"
    }
   ],
   "source": [
    "c"
   ]
  },
  {
   "cell_type": "code",
   "execution_count": 114,
   "id": "bc7f1aee-8b45-4a24-b9ae-8e39f6ce7ee6",
   "metadata": {},
   "outputs": [
    {
     "data": {
      "text/plain": [
       "[8, 'hi', 854, 'welcome back', 54, 'data']"
      ]
     },
     "execution_count": 114,
     "metadata": {},
     "output_type": "execute_result"
    }
   ],
   "source": [
    "c[0::2]"
   ]
  },
  {
   "cell_type": "code",
   "execution_count": 116,
   "id": "3374e75e-02a3-4df4-a0a0-513ab7ecdaaa",
   "metadata": {},
   "outputs": [
    {
     "data": {
      "text/plain": [
       "[8, 'hi', 854, 'welcome back']"
      ]
     },
     "execution_count": 116,
     "metadata": {},
     "output_type": "execute_result"
    }
   ],
   "source": [
    "c[0:8:2]"
   ]
  },
  {
   "cell_type": "code",
   "execution_count": 118,
   "id": "083885e3-255a-4562-977f-02aa0c62d8f2",
   "metadata": {},
   "outputs": [
    {
     "data": {
      "text/plain": [
       "'hi'"
      ]
     },
     "execution_count": 118,
     "metadata": {},
     "output_type": "execute_result"
    }
   ],
   "source": [
    "c[2]"
   ]
  },
  {
   "cell_type": "code",
   "execution_count": 120,
   "id": "d768e32e-3953-45fd-961b-66ec4c0ed221",
   "metadata": {},
   "outputs": [
    {
     "data": {
      "text/plain": [
       "'hi'"
      ]
     },
     "execution_count": 120,
     "metadata": {},
     "output_type": "execute_result"
    }
   ],
   "source": [
    "c[-9]"
   ]
  },
  {
   "cell_type": "code",
   "execution_count": 122,
   "id": "c6324ace-82ea-4d85-ad53-31b9197060c8",
   "metadata": {},
   "outputs": [
    {
     "data": {
      "text/plain": [
       "[]"
      ]
     },
     "execution_count": 122,
     "metadata": {},
     "output_type": "execute_result"
    }
   ],
   "source": [
    "c[-4:-8]"
   ]
  },
  {
   "cell_type": "code",
   "execution_count": 124,
   "id": "dd606762-676a-4b28-bf1b-cf6287c82dee",
   "metadata": {},
   "outputs": [
    {
     "data": {
      "text/plain": [
       "[8.9, 'hi', 5155, 854]"
      ]
     },
     "execution_count": 124,
     "metadata": {},
     "output_type": "execute_result"
    }
   ],
   "source": [
    "c[1:5]"
   ]
  },
  {
   "cell_type": "code",
   "execution_count": 126,
   "id": "837bc9ea-f49e-4688-91b1-ccbe12eb8935",
   "metadata": {},
   "outputs": [
    {
     "data": {
      "text/plain": [
       "[8, 8.9, 'hi', 5155, 854, 6654, 'welcome back', 54, 54, 841, 'data']"
      ]
     },
     "execution_count": 126,
     "metadata": {},
     "output_type": "execute_result"
    }
   ],
   "source": [
    "c"
   ]
  },
  {
   "cell_type": "markdown",
   "id": "f8644899-dc1d-403b-b2b1-20a660ad223a",
   "metadata": {},
   "source": [
    "8.9,841,hi,data"
   ]
  },
  {
   "cell_type": "code",
   "execution_count": 129,
   "id": "4e44122d-1f17-4ef9-8b6f-555f2b9cb008",
   "metadata": {},
   "outputs": [
    {
     "data": {
      "text/plain": [
       "[]"
      ]
     },
     "execution_count": 129,
     "metadata": {},
     "output_type": "execute_result"
    }
   ],
   "source": [
    "c[6:2]"
   ]
  },
  {
   "cell_type": "code",
   "execution_count": 131,
   "id": "80ee88ef-1707-4293-a461-4930c7606a48",
   "metadata": {},
   "outputs": [
    {
     "data": {
      "text/plain": [
       "['welcome back', 6654, 854, 5155]"
      ]
     },
     "execution_count": 131,
     "metadata": {},
     "output_type": "execute_result"
    }
   ],
   "source": [
    "c[6:2:-1]"
   ]
  },
  {
   "cell_type": "code",
   "execution_count": 133,
   "id": "6e410ec8-ab87-4343-8bf0-fa883cfa1547",
   "metadata": {},
   "outputs": [
    {
     "data": {
      "text/plain": [
       "[841, 54, 54, 'welcome back']"
      ]
     },
     "execution_count": 133,
     "metadata": {},
     "output_type": "execute_result"
    }
   ],
   "source": [
    "c[-2:-6:-1]"
   ]
  },
  {
   "cell_type": "code",
   "execution_count": 135,
   "id": "1829458d-14cf-4da2-992b-bdb27eb9762b",
   "metadata": {},
   "outputs": [
    {
     "data": {
      "text/plain": [
       "['welcome back', 6654, 854, 5155]"
      ]
     },
     "execution_count": 135,
     "metadata": {},
     "output_type": "execute_result"
    }
   ],
   "source": [
    "c[6:2:-1]"
   ]
  },
  {
   "cell_type": "code",
   "execution_count": 137,
   "id": "65dfe493-1771-4462-a6e1-811377a4b1cc",
   "metadata": {},
   "outputs": [
    {
     "data": {
      "text/plain": [
       "8"
      ]
     },
     "execution_count": 137,
     "metadata": {},
     "output_type": "execute_result"
    }
   ],
   "source": [
    "c[0]"
   ]
  },
  {
   "cell_type": "markdown",
   "id": "a30fe277-15b2-40f4-a5fe-14a1de083617",
   "metadata": {},
   "source": [
    "# lidt methods"
   ]
  },
  {
   "cell_type": "markdown",
   "id": "d84796b3-0478-47ea-a531-d37bc261f7e0",
   "metadata": {},
   "source": [
    "append\n",
    "insurt\n",
    "extend\n",
    "pop\n",
    "remove\n",
    "count\n"
   ]
  },
  {
   "cell_type": "code",
   "execution_count": 141,
   "id": "f8280afa-a6d5-4187-82ad-59a9977cae80",
   "metadata": {},
   "outputs": [
    {
     "data": {
      "text/plain": [
       "[8, 8.9, 'hi', 5155, 854, 6654, 'welcome back', 54, 54, 841, 'data']"
      ]
     },
     "execution_count": 141,
     "metadata": {},
     "output_type": "execute_result"
    }
   ],
   "source": [
    "c"
   ]
  },
  {
   "cell_type": "code",
   "execution_count": 143,
   "id": "8240f38e-9dea-4c30-8cde-8b4441893766",
   "metadata": {},
   "outputs": [],
   "source": [
    "c.append(80)"
   ]
  },
  {
   "cell_type": "code",
   "execution_count": 145,
   "id": "f88a89cd-7809-4060-bd6a-32ade0a75ce6",
   "metadata": {},
   "outputs": [
    {
     "data": {
      "text/plain": [
       "[8, 8.9, 'hi', 5155, 854, 6654, 'welcome back', 54, 54, 841, 'data', 80]"
      ]
     },
     "execution_count": 145,
     "metadata": {},
     "output_type": "execute_result"
    }
   ],
   "source": [
    "c"
   ]
  },
  {
   "cell_type": "code",
   "execution_count": 147,
   "id": "a7b13b77-9f3e-409b-aad8-e55b1f774c4c",
   "metadata": {},
   "outputs": [],
   "source": [
    "c.insert(1,90)"
   ]
  },
  {
   "cell_type": "code",
   "execution_count": 149,
   "id": "31728cb8-c4cf-4037-a1d2-445031cfc87c",
   "metadata": {},
   "outputs": [
    {
     "data": {
      "text/plain": [
       "[8, 90, 8.9, 'hi', 5155, 854, 6654, 'welcome back', 54, 54, 841, 'data', 80]"
      ]
     },
     "execution_count": 149,
     "metadata": {},
     "output_type": "execute_result"
    }
   ],
   "source": [
    "c"
   ]
  },
  {
   "cell_type": "code",
   "execution_count": 151,
   "id": "9e078c46-5e15-4941-9270-ea251b062d44",
   "metadata": {},
   "outputs": [],
   "source": [
    "c.remove(5155)"
   ]
  },
  {
   "cell_type": "code",
   "execution_count": 153,
   "id": "bf9e97ee-7c42-4818-9d46-e2da9084567b",
   "metadata": {},
   "outputs": [
    {
     "data": {
      "text/plain": [
       "[8, 90, 8.9, 'hi', 854, 6654, 'welcome back', 54, 54, 841, 'data', 80]"
      ]
     },
     "execution_count": 153,
     "metadata": {},
     "output_type": "execute_result"
    }
   ],
   "source": [
    "c"
   ]
  },
  {
   "cell_type": "code",
   "execution_count": 155,
   "id": "f55b6abd-aad3-484a-9542-762dc9eba1a4",
   "metadata": {},
   "outputs": [
    {
     "data": {
      "text/plain": [
       "8"
      ]
     },
     "execution_count": 155,
     "metadata": {},
     "output_type": "execute_result"
    }
   ],
   "source": [
    "c.pop(0)"
   ]
  },
  {
   "cell_type": "code",
   "execution_count": 157,
   "id": "ee0d31d8-dab0-438e-8997-b3a624b4f66c",
   "metadata": {},
   "outputs": [
    {
     "data": {
      "text/plain": [
       "[90, 8.9, 'hi', 854, 6654, 'welcome back', 54, 54, 841, 'data', 80]"
      ]
     },
     "execution_count": 157,
     "metadata": {},
     "output_type": "execute_result"
    }
   ],
   "source": [
    "c"
   ]
  },
  {
   "cell_type": "code",
   "execution_count": 159,
   "id": "9c685e68-f9a3-4d99-a392-6aeca7dcd160",
   "metadata": {},
   "outputs": [
    {
     "data": {
      "text/plain": [
       "854"
      ]
     },
     "execution_count": 159,
     "metadata": {},
     "output_type": "execute_result"
    }
   ],
   "source": [
    "c.pop(3)"
   ]
  },
  {
   "cell_type": "code",
   "execution_count": 161,
   "id": "9032e3d5-755f-4c3d-8a5e-caa91d43e51a",
   "metadata": {},
   "outputs": [
    {
     "data": {
      "text/plain": [
       "[90, 8.9, 'hi', 6654, 'welcome back', 54, 54, 841, 'data', 80]"
      ]
     },
     "execution_count": 161,
     "metadata": {},
     "output_type": "execute_result"
    }
   ],
   "source": [
    "c"
   ]
  },
  {
   "cell_type": "markdown",
   "id": "6933dc38-d2f2-4020-8216-d23ac84b93a8",
   "metadata": {},
   "source": [
    "# sets"
   ]
  },
  {
   "cell_type": "code",
   "execution_count": 8,
   "id": "e622b96b-f667-4b32-939f-5babab801e7b",
   "metadata": {},
   "outputs": [],
   "source": [
    "s={51,511,88,665,5611,564,8,665,51,511} "
   ]
  },
  {
   "cell_type": "code",
   "execution_count": 10,
   "id": "d3156eb7-a36e-4b36-bd10-db8ec6e2586f",
   "metadata": {},
   "outputs": [
    {
     "data": {
      "text/plain": [
       "{8, 51, 88, 511, 564, 665, 5611}"
      ]
     },
     "execution_count": 10,
     "metadata": {},
     "output_type": "execute_result"
    }
   ],
   "source": [
    "s"
   ]
  },
  {
   "cell_type": "code",
   "execution_count": 6,
   "id": "cf1aada4-9f4b-436b-8c32-b738754c5357",
   "metadata": {},
   "outputs": [
    {
     "data": {
      "text/plain": [
       "set"
      ]
     },
     "execution_count": 6,
     "metadata": {},
     "output_type": "execute_result"
    }
   ],
   "source": [
    "type(s)"
   ]
  },
  {
   "cell_type": "code",
   "execution_count": 12,
   "id": "e1e0d240-3616-44c2-8bfa-dce36da14c7d",
   "metadata": {},
   "outputs": [],
   "source": [
    "y= {51,484,511,48,584,58,544,665,}"
   ]
  },
  {
   "cell_type": "code",
   "execution_count": 14,
   "id": "33e1578d-79ec-408f-87b8-a52f1679a6a0",
   "metadata": {},
   "outputs": [
    {
     "data": {
      "text/plain": [
       "{48, 51, 58, 484, 511, 544, 584, 665}"
      ]
     },
     "execution_count": 14,
     "metadata": {},
     "output_type": "execute_result"
    }
   ],
   "source": [
    "y"
   ]
  },
  {
   "cell_type": "code",
   "execution_count": 16,
   "id": "481ec5f1-d975-4347-869a-f559ecded73a",
   "metadata": {},
   "outputs": [
    {
     "data": {
      "text/plain": [
       "{51, 511, 665}"
      ]
     },
     "execution_count": 16,
     "metadata": {},
     "output_type": "execute_result"
    }
   ],
   "source": [
    "s.intersection(y)"
   ]
  },
  {
   "cell_type": "code",
   "execution_count": 18,
   "id": "1a75f106-9639-4cdf-a9e9-5a881f84c880",
   "metadata": {},
   "outputs": [
    {
     "data": {
      "text/plain": [
       "{8, 48, 51, 58, 88, 484, 511, 544, 564, 584, 665, 5611}"
      ]
     },
     "execution_count": 18,
     "metadata": {},
     "output_type": "execute_result"
    }
   ],
   "source": [
    "s.union(y)"
   ]
  },
  {
   "cell_type": "code",
   "execution_count": 20,
   "id": "84d4bf74-4e35-4896-8db0-0e679a53d4ae",
   "metadata": {},
   "outputs": [
    {
     "data": {
      "text/plain": [
       "{8, 88, 564, 5611}"
      ]
     },
     "execution_count": 20,
     "metadata": {},
     "output_type": "execute_result"
    }
   ],
   "source": [
    "s.difference(y)"
   ]
  },
  {
   "cell_type": "markdown",
   "id": "2950f4d8-1a77-4d49-b65b-2e866a4df4d9",
   "metadata": {},
   "source": [
    "# dictinarirs"
   ]
  },
  {
   "cell_type": "code",
   "execution_count": 59,
   "id": "4135660f-7ee6-4a4e-93b2-5ae9cca9a0ef",
   "metadata": {},
   "outputs": [],
   "source": [
    "d={'a':4,102:7,'b':2,107:'india'}"
   ]
  },
  {
   "cell_type": "code",
   "execution_count": 61,
   "id": "5ef6af57-00e9-46d4-aed1-06dc71d6c805",
   "metadata": {},
   "outputs": [
    {
     "data": {
      "text/plain": [
       "{'a': 4, 102: 7, 'b': 2, 107: 'india'}"
      ]
     },
     "execution_count": 61,
     "metadata": {},
     "output_type": "execute_result"
    }
   ],
   "source": [
    "d"
   ]
  },
  {
   "cell_type": "code",
   "execution_count": 63,
   "id": "a72d60e2-6d7d-4449-b2d1-761f99ecd1e7",
   "metadata": {},
   "outputs": [
    {
     "data": {
      "text/plain": [
       "4"
      ]
     },
     "execution_count": 63,
     "metadata": {},
     "output_type": "execute_result"
    }
   ],
   "source": [
    "d[\"a\"]"
   ]
  },
  {
   "cell_type": "code",
   "execution_count": 65,
   "id": "2cd9160b-6360-4380-a6f0-b400a2eaf1a9",
   "metadata": {},
   "outputs": [
    {
     "data": {
      "text/plain": [
       "7"
      ]
     },
     "execution_count": 65,
     "metadata": {},
     "output_type": "execute_result"
    }
   ],
   "source": [
    "d[102]"
   ]
  },
  {
   "cell_type": "code",
   "execution_count": 67,
   "id": "6b690570-f2c5-422e-a2b3-f99d90e13f5e",
   "metadata": {},
   "outputs": [
    {
     "data": {
      "text/plain": [
       "{'a': 4, 102: 7, 'b': 2, 107: 'india'}"
      ]
     },
     "execution_count": 67,
     "metadata": {},
     "output_type": "execute_result"
    }
   ],
   "source": [
    "d"
   ]
  },
  {
   "cell_type": "code",
   "execution_count": 69,
   "id": "61c4913b-e80b-42a1-b5a5-85e2b807839d",
   "metadata": {},
   "outputs": [],
   "source": [
    "d[101]=200"
   ]
  },
  {
   "cell_type": "code",
   "execution_count": 71,
   "id": "2a991109-8434-4761-837b-f482319afecc",
   "metadata": {},
   "outputs": [
    {
     "data": {
      "text/plain": [
       "{'a': 4, 102: 7, 'b': 2, 107: 'india', 101: 200}"
      ]
     },
     "execution_count": 71,
     "metadata": {},
     "output_type": "execute_result"
    }
   ],
   "source": [
    "d"
   ]
  },
  {
   "cell_type": "code",
   "execution_count": 73,
   "id": "cc083fea-025d-4cc3-bf22-a78d25488318",
   "metadata": {},
   "outputs": [],
   "source": [
    "d[\"a\"]=44"
   ]
  },
  {
   "cell_type": "code",
   "execution_count": 75,
   "id": "427cde4a-7d32-47ac-a2ed-c7b6a3979e6a",
   "metadata": {},
   "outputs": [
    {
     "data": {
      "text/plain": [
       "{'a': 44, 102: 7, 'b': 2, 107: 'india', 101: 200}"
      ]
     },
     "execution_count": 75,
     "metadata": {},
     "output_type": "execute_result"
    }
   ],
   "source": [
    "d"
   ]
  },
  {
   "cell_type": "code",
   "execution_count": 77,
   "id": "8b7bfcdb-7dde-441a-885e-3d158383979f",
   "metadata": {},
   "outputs": [],
   "source": [
    "d.update({102:300})"
   ]
  },
  {
   "cell_type": "code",
   "execution_count": 79,
   "id": "79522292-b7ac-43d8-8479-d61562f40d6a",
   "metadata": {},
   "outputs": [
    {
     "data": {
      "text/plain": [
       "{'a': 44, 102: 300, 'b': 2, 107: 'india', 101: 200}"
      ]
     },
     "execution_count": 79,
     "metadata": {},
     "output_type": "execute_result"
    }
   ],
   "source": [
    "d"
   ]
  },
  {
   "cell_type": "code",
   "execution_count": 81,
   "id": "f793c73a-33c9-4032-a8f8-0df95b474f24",
   "metadata": {},
   "outputs": [
    {
     "data": {
      "text/plain": [
       "dict_keys(['a', 102, 'b', 107, 101])"
      ]
     },
     "execution_count": 81,
     "metadata": {},
     "output_type": "execute_result"
    }
   ],
   "source": [
    "d.keys()"
   ]
  },
  {
   "cell_type": "code",
   "execution_count": 83,
   "id": "e627f621-6fd8-44e4-aa46-e68d54386012",
   "metadata": {},
   "outputs": [
    {
     "data": {
      "text/plain": [
       "dict_values([44, 300, 2, 'india', 200])"
      ]
     },
     "execution_count": 83,
     "metadata": {},
     "output_type": "execute_result"
    }
   ],
   "source": [
    "d.values()"
   ]
  },
  {
   "cell_type": "code",
   "execution_count": 85,
   "id": "fef7421a-89b6-4bca-b425-a7e703bae9e8",
   "metadata": {},
   "outputs": [
    {
     "data": {
      "text/plain": [
       "dict_items([('a', 44), (102, 300), ('b', 2), (107, 'india'), (101, 200)])"
      ]
     },
     "execution_count": 85,
     "metadata": {},
     "output_type": "execute_result"
    }
   ],
   "source": [
    "d.items()"
   ]
  },
  {
   "cell_type": "code",
   "execution_count": 87,
   "id": "36bda256-4f34-45c0-b580-fffb20a25b9f",
   "metadata": {},
   "outputs": [],
   "source": [
    "del d[102]"
   ]
  },
  {
   "cell_type": "code",
   "execution_count": 89,
   "id": "662f9486-82d7-4023-bb07-74b944d48128",
   "metadata": {},
   "outputs": [
    {
     "data": {
      "text/plain": [
       "{'a': 44, 'b': 2, 107: 'india', 101: 200}"
      ]
     },
     "execution_count": 89,
     "metadata": {},
     "output_type": "execute_result"
    }
   ],
   "source": [
    "d"
   ]
  },
  {
   "cell_type": "code",
   "execution_count": 91,
   "id": "ff67eed5-c719-4ff3-bd2b-02dcba97dcf9",
   "metadata": {},
   "outputs": [
    {
     "data": {
      "text/plain": [
       "200"
      ]
     },
     "execution_count": 91,
     "metadata": {},
     "output_type": "execute_result"
    }
   ],
   "source": [
    "d.get(101)\n"
   ]
  },
  {
   "cell_type": "code",
   "execution_count": 93,
   "id": "e40d4623-4fd1-49a0-8d72-cf8e67d7031b",
   "metadata": {},
   "outputs": [
    {
     "data": {
      "text/plain": [
       "44"
      ]
     },
     "execution_count": 93,
     "metadata": {},
     "output_type": "execute_result"
    }
   ],
   "source": [
    "d.get(\"a\")"
   ]
  },
  {
   "cell_type": "code",
   "execution_count": 95,
   "id": "a21a156e-88f1-406b-8457-3f19c8d41858",
   "metadata": {},
   "outputs": [],
   "source": [
    "d[104]=[1000,5000,6000,7000]"
   ]
  },
  {
   "cell_type": "code",
   "execution_count": 97,
   "id": "dbeef779-cb48-43af-bf64-5f8937c774b0",
   "metadata": {},
   "outputs": [
    {
     "data": {
      "text/plain": [
       "dict"
      ]
     },
     "execution_count": 97,
     "metadata": {},
     "output_type": "execute_result"
    }
   ],
   "source": [
    "type(d)"
   ]
  },
  {
   "cell_type": "code",
   "execution_count": 99,
   "id": "e78bc755-e354-476c-ab04-bcd28d8dcb37",
   "metadata": {},
   "outputs": [
    {
     "data": {
      "text/plain": [
       "[1000, 5000, 6000, 7000]"
      ]
     },
     "execution_count": 99,
     "metadata": {},
     "output_type": "execute_result"
    }
   ],
   "source": [
    "d[104]"
   ]
  },
  {
   "cell_type": "code",
   "execution_count": 101,
   "id": "99066aa4-844a-4ec2-a6d3-b74e9e439983",
   "metadata": {},
   "outputs": [],
   "source": [
    "d[104].append(9000)"
   ]
  },
  {
   "cell_type": "code",
   "execution_count": 103,
   "id": "45e8265c-65d6-455f-80a2-bf55290a2b55",
   "metadata": {},
   "outputs": [
    {
     "data": {
      "text/plain": [
       "[1000, 5000, 6000, 7000, 9000]"
      ]
     },
     "execution_count": 103,
     "metadata": {},
     "output_type": "execute_result"
    }
   ],
   "source": [
    "d[104]"
   ]
  },
  {
   "cell_type": "code",
   "execution_count": 105,
   "id": "ea53e83a-9013-4097-a365-76f47ab9f9a8",
   "metadata": {},
   "outputs": [
    {
     "data": {
      "text/plain": [
       "1"
      ]
     },
     "execution_count": 105,
     "metadata": {},
     "output_type": "execute_result"
    }
   ],
   "source": [
    "d[104].count(5000)"
   ]
  },
  {
   "cell_type": "code",
   "execution_count": 109,
   "id": "7a627aa9-c2cc-4fd6-8b8e-e1182e901132",
   "metadata": {},
   "outputs": [
    {
     "data": {
      "text/plain": [
       "'india'"
      ]
     },
     "execution_count": 109,
     "metadata": {},
     "output_type": "execute_result"
    }
   ],
   "source": [
    "d[107]"
   ]
  },
  {
   "cell_type": "code",
   "execution_count": 111,
   "id": "1a1b7fc4-5225-4a3d-a07f-e5c989bf48cb",
   "metadata": {},
   "outputs": [
    {
     "data": {
      "text/plain": [
       "'INDIA'"
      ]
     },
     "execution_count": 111,
     "metadata": {},
     "output_type": "execute_result"
    }
   ],
   "source": [
    "d[107].upper()"
   ]
  },
  {
   "cell_type": "code",
   "execution_count": 113,
   "id": "cb4db565-b2f7-4deb-b6e3-2248a18acd96",
   "metadata": {},
   "outputs": [
    {
     "data": {
      "text/plain": [
       "'india'"
      ]
     },
     "execution_count": 113,
     "metadata": {},
     "output_type": "execute_result"
    }
   ],
   "source": [
    "d[107]"
   ]
  },
  {
   "cell_type": "code",
   "execution_count": 115,
   "id": "f563b7a7-5be9-4a10-8346-d66e407c58ed",
   "metadata": {},
   "outputs": [],
   "source": [
    "# upper is not pareminent"
   ]
  },
  {
   "cell_type": "code",
   "execution_count": 117,
   "id": "4b15d45b-d49f-4b18-837e-e3e039df1fcd",
   "metadata": {},
   "outputs": [
    {
     "data": {
      "text/plain": [
       "{'a': 44, 'b': 2, 107: 'india', 101: 200, 104: [1000, 5000, 6000, 7000, 9000]}"
      ]
     },
     "execution_count": 117,
     "metadata": {},
     "output_type": "execute_result"
    }
   ],
   "source": [
    "d"
   ]
  },
  {
   "cell_type": "code",
   "execution_count": 122,
   "id": "e1ed5951-ca99-445f-9a00-4f3928cd964c",
   "metadata": {},
   "outputs": [],
   "source": [
    "d[101]={58:[7,8,9,270],'apple':[90,180,270]}"
   ]
  },
  {
   "cell_type": "code",
   "execution_count": 124,
   "id": "00766272-2c96-4c52-99f7-3dc4a9a56a88",
   "metadata": {},
   "outputs": [],
   "source": [
    "d[104]={'a':(30,50,60),'b':(1000,5000,8000,9000)}"
   ]
  },
  {
   "cell_type": "code",
   "execution_count": 126,
   "id": "8b40fc1a-a379-42fb-a5da-e95d56fdd0a6",
   "metadata": {},
   "outputs": [
    {
     "data": {
      "text/plain": [
       "{'a': 44,\n",
       " 'b': 2,\n",
       " 107: 'india',\n",
       " 101: {58: [7, 8, 9, 270], 'apple': [90, 180, 270]},\n",
       " 104: {'a': (30, 50, 60), 'b': (1000, 5000, 8000, 9000)}}"
      ]
     },
     "execution_count": 126,
     "metadata": {},
     "output_type": "execute_result"
    }
   ],
   "source": [
    "d"
   ]
  },
  {
   "cell_type": "code",
   "execution_count": 134,
   "id": "b5389dbd-eb77-4351-ab3d-cab978d5255a",
   "metadata": {},
   "outputs": [
    {
     "data": {
      "text/plain": [
       "{58: [7, 8, 9, 270], 'apple': [90, 180, 270]}"
      ]
     },
     "execution_count": 134,
     "metadata": {},
     "output_type": "execute_result"
    }
   ],
   "source": [
    "d[101]"
   ]
  },
  {
   "cell_type": "code",
   "execution_count": 146,
   "id": "98559ff0-d327-403e-8e51-ee0ff3c480a5",
   "metadata": {},
   "outputs": [
    {
     "data": {
      "text/plain": [
       "8"
      ]
     },
     "execution_count": 146,
     "metadata": {},
     "output_type": "execute_result"
    }
   ],
   "source": [
    "d[101][58][1]"
   ]
  },
  {
   "cell_type": "code",
   "execution_count": null,
   "id": "a05a197b-82fd-4e26-af0f-4c733f89e757",
   "metadata": {},
   "outputs": [],
   "source": []
  },
  {
   "cell_type": "code",
   "execution_count": null,
   "id": "40fefd98-0396-4320-a7ac-bfb9cfb7057b",
   "metadata": {},
   "outputs": [],
   "source": []
  },
  {
   "cell_type": "code",
   "execution_count": null,
   "id": "8b005f2d-1893-4cfa-8d04-f4f0344c7a21",
   "metadata": {},
   "outputs": [],
   "source": []
  }
 ],
 "metadata": {
  "kernelspec": {
   "display_name": "Python [conda env:base] *",
   "language": "python",
   "name": "conda-base-py"
  },
  "language_info": {
   "codemirror_mode": {
    "name": "ipython",
    "version": 3
   },
   "file_extension": ".py",
   "mimetype": "text/x-python",
   "name": "python",
   "nbconvert_exporter": "python",
   "pygments_lexer": "ipython3",
   "version": "3.12.7"
  }
 },
 "nbformat": 4,
 "nbformat_minor": 5
}
