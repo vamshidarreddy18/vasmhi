{
 "cells": [
  {
   "cell_type": "raw",
   "id": "936fd8dd-2a2a-4025-9003-f205e8472d8f",
   "metadata": {},
   "source": [
    "def funnctionname(paeameter):\n",
    "    block of code\n",
    "    return output"
   ]
  },
  {
   "cell_type": "code",
   "execution_count": 5,
   "id": "ae639f62-d514-4279-ab06-ff2f309950fd",
   "metadata": {},
   "outputs": [],
   "source": [
    "def calArea(r):\n",
    "    a=3.14*r*r\n",
    "    return a"
   ]
  },
  {
   "cell_type": "code",
   "execution_count": 7,
   "id": "7c2b7245-6e15-4d35-8bab-4c11459faf0b",
   "metadata": {},
   "outputs": [],
   "source": [
    "def calArea(r):\n",
    "    a=3.14*r*r\n",
    "    print(a)"
   ]
  },
  {
   "cell_type": "code",
   "execution_count": 9,
   "id": "47a5745a-413b-4db2-8c93-23ae2290401d",
   "metadata": {},
   "outputs": [
    {
     "name": "stdout",
     "output_type": "stream",
     "text": [
      "314.0\n"
     ]
    }
   ],
   "source": [
    "calArea(r=10)"
   ]
  },
  {
   "cell_type": "code",
   "execution_count": 13,
   "id": "b3a58eef-e30a-4224-992c-617756615994",
   "metadata": {},
   "outputs": [
    {
     "name": "stdout",
     "output_type": "stream",
     "text": [
      "314.0\n"
     ]
    }
   ],
   "source": [
    "w=calArea(r=10)\n",
    "w"
   ]
  },
  {
   "cell_type": "code",
   "execution_count": 15,
   "id": "f0b49961-2ce9-4a6b-b173-b6e378038e6f",
   "metadata": {},
   "outputs": [
    {
     "data": {
      "text/plain": [
       "NoneType"
      ]
     },
     "execution_count": 15,
     "metadata": {},
     "output_type": "execute_result"
    }
   ],
   "source": [
    "type(w)"
   ]
  },
  {
   "cell_type": "code",
   "execution_count": 17,
   "id": "db187c1f-4b3f-4b21-ae8a-16b107733f27",
   "metadata": {},
   "outputs": [
    {
     "data": {
      "text/plain": [
       "123.45"
      ]
     },
     "execution_count": 17,
     "metadata": {},
     "output_type": "execute_result"
    }
   ],
   "source": [
    "a=123.45\n",
    "a"
   ]
  },
  {
   "cell_type": "code",
   "execution_count": 19,
   "id": "6ff90b27-9c1d-485a-9cb2-98b83913efe8",
   "metadata": {},
   "outputs": [
    {
     "data": {
      "text/plain": [
       "133.45"
      ]
     },
     "execution_count": 19,
     "metadata": {},
     "output_type": "execute_result"
    }
   ],
   "source": [
    "a+10"
   ]
  },
  {
   "cell_type": "code",
   "execution_count": 23,
   "id": "71e02de8-bd6f-430c-a4d9-177ba704d661",
   "metadata": {},
   "outputs": [],
   "source": [
    "#Nonetype is nothing (not to use)\n",
    "w+10 #not work"
   ]
  },
  {
   "cell_type": "code",
   "execution_count": null,
   "id": "8bf61af9-bc99-4d78-8f50-811272df7f95",
   "metadata": {},
   "outputs": [],
   "source": []
  },
  {
   "cell_type": "code",
   "execution_count": 27,
   "id": "611d9794-67c6-474e-aadb-a9f07ef44b17",
   "metadata": {},
   "outputs": [
    {
     "name": "stdout",
     "output_type": "stream",
     "text": [
      "India\n"
     ]
    }
   ],
   "source": [
    "a=print('India')\n",
    "a"
   ]
  },
  {
   "cell_type": "code",
   "execution_count": 29,
   "id": "0e6b045a-4087-4921-8520-a60843985a38",
   "metadata": {},
   "outputs": [
    {
     "data": {
      "text/plain": [
       "NoneType"
      ]
     },
     "execution_count": 29,
     "metadata": {},
     "output_type": "execute_result"
    }
   ],
   "source": [
    "type(a)"
   ]
  },
  {
   "cell_type": "code",
   "execution_count": 32,
   "id": "2a0f4800-3eb1-4efa-ab3e-25d5bb718bfc",
   "metadata": {},
   "outputs": [],
   "source": [
    "def aor(l,w):\n",
    "    area=l*w\n",
    "    return area"
   ]
  },
  {
   "cell_type": "code",
   "execution_count": 36,
   "id": "63c0c1a7-a42e-4e18-ba90-3fd6e0df2602",
   "metadata": {},
   "outputs": [
    {
     "data": {
      "text/plain": [
       "50"
      ]
     },
     "execution_count": 36,
     "metadata": {},
     "output_type": "execute_result"
    }
   ],
   "source": [
    "aor(5,10)"
   ]
  },
  {
   "cell_type": "code",
   "execution_count": 38,
   "id": "480c4671-27a3-44f6-b6c9-57ebb1b8f42e",
   "metadata": {},
   "outputs": [
    {
     "data": {
      "text/plain": [
       "50"
      ]
     },
     "execution_count": 38,
     "metadata": {},
     "output_type": "execute_result"
    }
   ],
   "source": [
    "aor(w=5,l=10)"
   ]
  },
  {
   "cell_type": "code",
   "execution_count": 40,
   "id": "0f0e31d0-6aad-4f9b-9311-078fa9156560",
   "metadata": {},
   "outputs": [
    {
     "data": {
      "text/plain": [
       "50"
      ]
     },
     "execution_count": 40,
     "metadata": {},
     "output_type": "execute_result"
    }
   ],
   "source": [
    "aor(l=10,w=5)"
   ]
  },
  {
   "cell_type": "code",
   "execution_count": 44,
   "id": "2c2a2995-d0f9-48ca-b13b-619ccc4b06cc",
   "metadata": {},
   "outputs": [
    {
     "data": {
      "text/plain": [
       "30"
      ]
     },
     "execution_count": 44,
     "metadata": {},
     "output_type": "execute_result"
    }
   ],
   "source": [
    "aor(l=5,w=6)"
   ]
  },
  {
   "cell_type": "code",
   "execution_count": 46,
   "id": "1952c356-057c-49a3-a605-7ac06e68f01e",
   "metadata": {},
   "outputs": [],
   "source": [
    "def area(rad,length,width):\n",
    "    aoc=3.45*rad*rad\n",
    "    aor=length*width\n",
    "    return aoc,aor"
   ]
  },
  {
   "cell_type": "code",
   "execution_count": 50,
   "id": "d201379e-b7f2-4838-bffb-0bf0a7d760fd",
   "metadata": {},
   "outputs": [
    {
     "data": {
      "text/plain": [
       "(345.0, 100)"
      ]
     },
     "execution_count": 50,
     "metadata": {},
     "output_type": "execute_result"
    }
   ],
   "source": [
    "area(rad=10,length=20,width=5)"
   ]
  },
  {
   "cell_type": "code",
   "execution_count": 52,
   "id": "aee4e7f7-506d-4625-bf6d-bce986bd2b05",
   "metadata": {},
   "outputs": [
    {
     "data": {
      "text/plain": [
       "(345.0, 100)"
      ]
     },
     "execution_count": 52,
     "metadata": {},
     "output_type": "execute_result"
    }
   ],
   "source": [
    "area(10,20,5)"
   ]
  },
  {
   "cell_type": "code",
   "execution_count": 54,
   "id": "25a8c62f-6cd7-472d-8d0b-a1770412b898",
   "metadata": {},
   "outputs": [],
   "source": [
    "a=area(rad=10,length=20,width=5)"
   ]
  },
  {
   "cell_type": "code",
   "execution_count": 57,
   "id": "6194f9ba-a0fc-48ad-a14f-a4eb674b20f0",
   "metadata": {},
   "outputs": [
    {
     "data": {
      "text/plain": [
       "(345.0, 100)"
      ]
     },
     "execution_count": 57,
     "metadata": {},
     "output_type": "execute_result"
    }
   ],
   "source": [
    "a"
   ]
  },
  {
   "cell_type": "code",
   "execution_count": 59,
   "id": "1a5f7e22-4e85-4a36-9f9e-ddea46b47d0b",
   "metadata": {},
   "outputs": [
    {
     "data": {
      "text/plain": [
       "345.0"
      ]
     },
     "execution_count": 59,
     "metadata": {},
     "output_type": "execute_result"
    }
   ],
   "source": [
    "a[0]"
   ]
  },
  {
   "cell_type": "code",
   "execution_count": 61,
   "id": "cf547c27-474e-4b94-b3e7-e8292a914961",
   "metadata": {},
   "outputs": [],
   "source": [
    "def area(rad,length,width):\n",
    "    aoc=3.45*rad*rad\n",
    "    aor=length*width\n",
    "    return {aoc,aor}"
   ]
  },
  {
   "cell_type": "code",
   "execution_count": 63,
   "id": "7fdc1aaf-d43b-4008-8c09-f5c2eba358c6",
   "metadata": {},
   "outputs": [],
   "source": [
    "a=area(rad=10,length=20,width=5)"
   ]
  },
  {
   "cell_type": "code",
   "execution_count": 65,
   "id": "9a53a936-9154-4fbd-9bd3-c53e2f13f853",
   "metadata": {},
   "outputs": [
    {
     "data": {
      "text/plain": [
       "{100, 345.0}"
      ]
     },
     "execution_count": 65,
     "metadata": {},
     "output_type": "execute_result"
    }
   ],
   "source": [
    "a"
   ]
  },
  {
   "cell_type": "code",
   "execution_count": 67,
   "id": "5bcb596f-0c3f-49dc-a31b-30203221da5a",
   "metadata": {},
   "outputs": [],
   "source": [
    "def area(rad,length,width):\n",
    "    aoc=3.45*rad*rad\n",
    "    aor=length*width\n",
    "    return {'Area of circle',aoc,'area of rectangle',aor}"
   ]
  },
  {
   "cell_type": "code",
   "execution_count": 69,
   "id": "23438d3e-c9ef-4bf7-998f-5d626d03f0a4",
   "metadata": {},
   "outputs": [],
   "source": [
    "a=area(rad=10,length=20,width=5)"
   ]
  },
  {
   "cell_type": "code",
   "execution_count": 71,
   "id": "8daf0b09-f5b8-4853-9066-3c482afcba88",
   "metadata": {},
   "outputs": [
    {
     "data": {
      "text/plain": [
       "{100, 345.0, 'Area of circle', 'area of rectangle'}"
      ]
     },
     "execution_count": 71,
     "metadata": {},
     "output_type": "execute_result"
    }
   ],
   "source": [
    "a"
   ]
  },
  {
   "cell_type": "code",
   "execution_count": 73,
   "id": "f04f7b67-f373-48c9-b4d2-29c71824ef1b",
   "metadata": {},
   "outputs": [],
   "source": [
    "t='Hyb 500008 Telangana'"
   ]
  },
  {
   "cell_type": "code",
   "execution_count": 75,
   "id": "cb241a40-725e-4461-9f8a-ca90a5d1a98a",
   "metadata": {},
   "outputs": [
    {
     "data": {
      "text/plain": [
       "'Hyb 500008 Telangana'"
      ]
     },
     "execution_count": 75,
     "metadata": {},
     "output_type": "execute_result"
    }
   ],
   "source": [
    "t"
   ]
  },
  {
   "cell_type": "code",
   "execution_count": null,
   "id": "0704cc43-0f8f-4531-8c92-94b65b53d7d3",
   "metadata": {},
   "outputs": [],
   "source": [
    "h=int(input())\n",
    "def countA(x):\n",
    "    d=x.lower()\n",
    "    return d.count('a')"
   ]
  },
  {
   "cell_type": "code",
   "execution_count": 96,
   "id": "5423cfc2-4103-4300-b725-17f66ca69eff",
   "metadata": {},
   "outputs": [],
   "source": [
    "\n",
    "def counnt_num_alpha(x):\n",
    "    c=0\n",
    "    d=0\n",
    "    for i in x:\n",
    "        if i.isalpha():\n",
    "            c+=1\n",
    "        elif i.isnumeric():\n",
    "            d+=1\n",
    "    return{c,d}\n"
   ]
  },
  {
   "cell_type": "code",
   "execution_count": null,
   "id": "71ea4de9-b5e6-47a8-aaac-77bbe1e16dfa",
   "metadata": {},
   "outputs": [],
   "source": []
  },
  {
   "cell_type": "code",
   "execution_count": null,
   "id": "a7fcdafc-a626-4014-93cf-802af280ad9f",
   "metadata": {},
   "outputs": [],
   "source": []
  }
 ],
 "metadata": {
  "kernelspec": {
   "display_name": "Python [conda env:base] *",
   "language": "python",
   "name": "conda-base-py"
  },
  "language_info": {
   "codemirror_mode": {
    "name": "ipython",
    "version": 3
   },
   "file_extension": ".py",
   "mimetype": "text/x-python",
   "name": "python",
   "nbconvert_exporter": "python",
   "pygments_lexer": "ipython3",
   "version": "3.12.7"
  }
 },
 "nbformat": 4,
 "nbformat_minor": 5
}
