{
 "cells": [
  {
   "cell_type": "code",
   "execution_count": 1,
   "id": "80535ebd-52cd-4609-824a-e9cee73138e2",
   "metadata": {},
   "outputs": [],
   "source": [
    "import numpy as np"
   ]
  },
  {
   "cell_type": "code",
   "execution_count": 5,
   "id": "b9a910b5-f0fa-4703-a66d-8de3da5ba065",
   "metadata": {},
   "outputs": [
    {
     "data": {
      "text/plain": [
       "array([35, 91, 78, 61, 83, 41, 43, 73, 97, 42, 37, 53, 71, 76, 48, 94, 82,\n",
       "       94, 80, 44, 60, 46, 65, 61, 87, 67, 84, 94, 59, 30, 65, 72, 92, 72,\n",
       "       52, 58, 64, 58, 37, 45, 70, 56, 90, 37, 75, 69, 79, 72, 55, 94])"
      ]
     },
     "execution_count": 5,
     "metadata": {},
     "output_type": "execute_result"
    }
   ],
   "source": [
    "a=np.random.randint(30,99,50)\n",
    "a"
   ]
  },
  {
   "cell_type": "code",
   "execution_count": 7,
   "id": "2fd3dbf4-120c-4ec0-a0b3-fc71f23f8d35",
   "metadata": {},
   "outputs": [
    {
     "data": {
      "text/plain": [
       "94"
      ]
     },
     "execution_count": 7,
     "metadata": {},
     "output_type": "execute_result"
    }
   ],
   "source": [
    "a[-1]"
   ]
  },
  {
   "cell_type": "code",
   "execution_count": 11,
   "id": "5898772b-27d0-4049-93be-d8b66607b42a",
   "metadata": {},
   "outputs": [
    {
     "data": {
      "text/plain": [
       "83"
      ]
     },
     "execution_count": 11,
     "metadata": {},
     "output_type": "execute_result"
    }
   ],
   "source": [
    "a[4]"
   ]
  },
  {
   "cell_type": "code",
   "execution_count": 13,
   "id": "1b2a64e7-9b66-4320-9964-647fe8af0d11",
   "metadata": {},
   "outputs": [
    {
     "data": {
      "text/plain": [
       "44"
      ]
     },
     "execution_count": 13,
     "metadata": {},
     "output_type": "execute_result"
    }
   ],
   "source": [
    "a[19]"
   ]
  },
  {
   "cell_type": "code",
   "execution_count": 21,
   "id": "79b19e39-63f0-4c51-938c-4c832c2e4091",
   "metadata": {},
   "outputs": [
    {
     "data": {
      "text/plain": [
       "75"
      ]
     },
     "execution_count": 21,
     "metadata": {},
     "output_type": "execute_result"
    }
   ],
   "source": [
    "a[44]"
   ]
  },
  {
   "cell_type": "code",
   "execution_count": 9,
   "id": "bc475471-6ac1-4379-b8c7-1cab08eaab32",
   "metadata": {},
   "outputs": [
    {
     "data": {
      "text/plain": [
       "array([[95, 91, 35, 22, 19, 10, 57, 64, 89],\n",
       "       [21, 50, 26, 46, 15, 83, 64, 23, 37],\n",
       "       [36, 86, 79, 26, 25, 37, 59, 16, 23],\n",
       "       [11, 70, 87, 54, 75, 70, 15, 73, 17],\n",
       "       [16, 86, 86, 85, 91, 35, 22, 88, 51],\n",
       "       [20, 12, 94, 41, 50, 17, 69, 94, 77],\n",
       "       [38, 11, 67, 23, 85, 73, 75, 95, 82],\n",
       "       [22, 55, 86, 44, 88, 78, 62, 66, 36]])"
      ]
     },
     "execution_count": 9,
     "metadata": {},
     "output_type": "execute_result"
    }
   ],
   "source": [
    "import numpy as np\n",
    "b=np.random.randint(10,99,(8,9))\n",
    "b"
   ]
  },
  {
   "cell_type": "code",
   "execution_count": 19,
   "id": "533b73a0-6894-4478-a22e-a6e5aca2c6f6",
   "metadata": {},
   "outputs": [
    {
     "data": {
      "text/plain": [
       "(8, 9)"
      ]
     },
     "execution_count": 19,
     "metadata": {},
     "output_type": "execute_result"
    }
   ],
   "source": [
    "b.shape"
   ]
  },
  {
   "cell_type": "code",
   "execution_count": 21,
   "id": "0ae35fa3-ea09-41d3-8833-ac9d4854e2da",
   "metadata": {},
   "outputs": [
    {
     "data": {
      "text/plain": [
       "array([[95, 91, 35, 22, 19, 10, 57, 64, 89],\n",
       "       [21, 50, 26, 46, 15, 83, 64, 23, 37],\n",
       "       [36, 86, 79, 26, 25, 37, 59, 16, 23],\n",
       "       [11, 70, 87, 54, 75, 70, 15, 73, 17],\n",
       "       [16, 86, 86, 85, 91, 35, 22, 88, 51],\n",
       "       [20, 12, 94, 41, 50, 17, 69, 94, 77],\n",
       "       [38, 11, 67, 23, 85, 73, 75, 95, 82],\n",
       "       [22, 55, 86, 44, 88, 78, 62, 66, 36]])"
      ]
     },
     "execution_count": 21,
     "metadata": {},
     "output_type": "execute_result"
    }
   ],
   "source": [
    "b"
   ]
  },
  {
   "cell_type": "code",
   "execution_count": 23,
   "id": "77bc3db0-4cce-4411-acee-a8661420d68c",
   "metadata": {},
   "outputs": [
    {
     "data": {
      "text/plain": [
       "22"
      ]
     },
     "execution_count": 23,
     "metadata": {},
     "output_type": "execute_result"
    }
   ],
   "source": [
    "b[7,0]"
   ]
  },
  {
   "cell_type": "code",
   "execution_count": 27,
   "id": "473afd7e-6bff-4208-b542-8a7cbfde567d",
   "metadata": {},
   "outputs": [],
   "source": [
    "import pandas as pd"
   ]
  },
  {
   "cell_type": "code",
   "execution_count": 29,
   "id": "6dd8422d-b8cb-4788-8eaa-ed93ab91d4e0",
   "metadata": {},
   "outputs": [
    {
     "data": {
      "text/plain": [
       "[4, 7, 2, 8, 7, 3, 90, 50]"
      ]
     },
     "execution_count": 29,
     "metadata": {},
     "output_type": "execute_result"
    }
   ],
   "source": [
    "k=[4,7,2,8,7,3,90,50]\n",
    "k"
   ]
  },
  {
   "cell_type": "code",
   "execution_count": 31,
   "id": "223f4bd5-c07e-4dd9-ad8c-5f4d6245a800",
   "metadata": {},
   "outputs": [
    {
     "data": {
      "text/plain": [
       "array([ 4,  7,  2,  8,  7,  3, 90, 50])"
      ]
     },
     "execution_count": 31,
     "metadata": {},
     "output_type": "execute_result"
    }
   ],
   "source": [
    "np.array(k)"
   ]
  },
  {
   "cell_type": "code",
   "execution_count": 35,
   "id": "52e51122-8eb6-4417-9f15-a08533c52383",
   "metadata": {},
   "outputs": [
    {
     "data": {
      "text/plain": [
       "0     4\n",
       "1     7\n",
       "2     2\n",
       "3     8\n",
       "4     7\n",
       "5     3\n",
       "6    90\n",
       "7    50\n",
       "dtype: int64"
      ]
     },
     "execution_count": 35,
     "metadata": {},
     "output_type": "execute_result"
    }
   ],
   "source": [
    "pd.Series(k)"
   ]
  },
  {
   "cell_type": "code",
   "execution_count": 37,
   "id": "be9a05ba-69c2-4b4d-ba3a-25ad959b0771",
   "metadata": {},
   "outputs": [],
   "source": [
    "t=np.array(k)"
   ]
  },
  {
   "cell_type": "code",
   "execution_count": 39,
   "id": "0ff412c4-284a-45c6-b969-d5ebe1edda5e",
   "metadata": {},
   "outputs": [
    {
     "data": {
      "text/plain": [
       "array([ 4,  7,  2,  8,  7,  3, 90, 50])"
      ]
     },
     "execution_count": 39,
     "metadata": {},
     "output_type": "execute_result"
    }
   ],
   "source": [
    "t"
   ]
  },
  {
   "cell_type": "code",
   "execution_count": 47,
   "id": "7bb522fa-86ca-439c-9264-7de080d26475",
   "metadata": {},
   "outputs": [
    {
     "data": {
      "text/plain": [
       "1"
      ]
     },
     "execution_count": 47,
     "metadata": {},
     "output_type": "execute_result"
    }
   ],
   "source": [
    "t.ndim"
   ]
  },
  {
   "cell_type": "code",
   "execution_count": 41,
   "id": "263a50bb-17b5-4653-9300-8661de518cac",
   "metadata": {},
   "outputs": [
    {
     "data": {
      "text/plain": [
       "0     4\n",
       "1     7\n",
       "2     2\n",
       "3     8\n",
       "4     7\n",
       "5     3\n",
       "6    90\n",
       "7    50\n",
       "dtype: int64"
      ]
     },
     "execution_count": 41,
     "metadata": {},
     "output_type": "execute_result"
    }
   ],
   "source": [
    "pd.Series(k)"
   ]
  },
  {
   "cell_type": "code",
   "execution_count": 45,
   "id": "b72c3295-be33-4c3d-9550-8b744aba420e",
   "metadata": {},
   "outputs": [
    {
     "data": {
      "text/html": [
       "<div>\n",
       "<style scoped>\n",
       "    .dataframe tbody tr th:only-of-type {\n",
       "        vertical-align: middle;\n",
       "    }\n",
       "\n",
       "    .dataframe tbody tr th {\n",
       "        vertical-align: top;\n",
       "    }\n",
       "\n",
       "    .dataframe thead th {\n",
       "        text-align: right;\n",
       "    }\n",
       "</style>\n",
       "<table border=\"1\" class=\"dataframe\">\n",
       "  <thead>\n",
       "    <tr style=\"text-align: right;\">\n",
       "      <th></th>\n",
       "      <th>0</th>\n",
       "    </tr>\n",
       "  </thead>\n",
       "  <tbody>\n",
       "    <tr>\n",
       "      <th>0</th>\n",
       "      <td>4</td>\n",
       "    </tr>\n",
       "    <tr>\n",
       "      <th>1</th>\n",
       "      <td>7</td>\n",
       "    </tr>\n",
       "    <tr>\n",
       "      <th>2</th>\n",
       "      <td>2</td>\n",
       "    </tr>\n",
       "    <tr>\n",
       "      <th>3</th>\n",
       "      <td>8</td>\n",
       "    </tr>\n",
       "    <tr>\n",
       "      <th>4</th>\n",
       "      <td>7</td>\n",
       "    </tr>\n",
       "    <tr>\n",
       "      <th>5</th>\n",
       "      <td>3</td>\n",
       "    </tr>\n",
       "    <tr>\n",
       "      <th>6</th>\n",
       "      <td>90</td>\n",
       "    </tr>\n",
       "    <tr>\n",
       "      <th>7</th>\n",
       "      <td>50</td>\n",
       "    </tr>\n",
       "  </tbody>\n",
       "</table>\n",
       "</div>"
      ],
      "text/plain": [
       "    0\n",
       "0   4\n",
       "1   7\n",
       "2   2\n",
       "3   8\n",
       "4   7\n",
       "5   3\n",
       "6  90\n",
       "7  50"
      ]
     },
     "execution_count": 45,
     "metadata": {},
     "output_type": "execute_result"
    }
   ],
   "source": [
    "pd.DataFrame(t)"
   ]
  },
  {
   "cell_type": "code",
   "execution_count": 59,
   "id": "4dc447ef-2ded-4f9f-9d00-a60b3e6242e2",
   "metadata": {},
   "outputs": [
    {
     "ename": "NameError",
     "evalue": "name 'db' is not defined",
     "output_type": "error",
     "traceback": [
      "\u001b[1;31m---------------------------------------------------------------------------\u001b[0m",
      "\u001b[1;31mNameError\u001b[0m                                 Traceback (most recent call last)",
      "Cell \u001b[1;32mIn[59], line 1\u001b[0m\n\u001b[1;32m----> 1\u001b[0m db[\u001b[38;5;124m'\u001b[39m\u001b[38;5;124msub\u001b[39m\u001b[38;5;124m'\u001b[39m]\u001b[38;5;241m.\u001b[39mmean90\n",
      "\u001b[1;31mNameError\u001b[0m: name 'db' is not defined"
     ]
    }
   ],
   "source": [
    "db['sub'].mean90"
   ]
  },
  {
   "cell_type": "code",
   "execution_count": null,
   "id": "7aae8cb5-38ff-48f1-a16c-8a9fb96218e1",
   "metadata": {},
   "outputs": [],
   "source": []
  }
 ],
 "metadata": {
  "kernelspec": {
   "display_name": "Python [conda env:base] *",
   "language": "python",
   "name": "conda-base-py"
  },
  "language_info": {
   "codemirror_mode": {
    "name": "ipython",
    "version": 3
   },
   "file_extension": ".py",
   "mimetype": "text/x-python",
   "name": "python",
   "nbconvert_exporter": "python",
   "pygments_lexer": "ipython3",
   "version": "3.12.7"
  }
 },
 "nbformat": 4,
 "nbformat_minor": 5
}
