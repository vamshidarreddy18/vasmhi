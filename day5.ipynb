{
 "cells": [
  {
   "cell_type": "markdown",
   "id": "c03573ac-d268-4502-aa5c-a944baa64e59",
   "metadata": {},
   "source": [
    "# while"
   ]
  },
  {
   "cell_type": "code",
   "execution_count": 2,
   "id": "a0c7da1e-b969-40cc-a7b9-b32b7f75480b",
   "metadata": {},
   "outputs": [
    {
     "name": "stdout",
     "output_type": "stream",
     "text": [
      "yes\n",
      "yes\n"
     ]
    }
   ],
   "source": [
    "x=0\n",
    "while x<10:\n",
    "    print('yes')\n",
    "    x=x+6"
   ]
  },
  {
   "cell_type": "code",
   "execution_count": 6,
   "id": "7ebc4e42-1b8d-4132-86fb-e390efaa0a28",
   "metadata": {},
   "outputs": [
    {
     "name": "stdout",
     "output_type": "stream",
     "text": [
      "yes\n",
      "yes\n",
      "yes\n",
      "yes\n",
      "yes\n"
     ]
    }
   ],
   "source": [
    "x=5\n",
    "while x<10:\n",
    "    print('yes')\n",
    "    x=x+1"
   ]
  },
  {
   "cell_type": "markdown",
   "id": "a4a8e5cc-000d-4897-a6e8-94d96b1e92d3",
   "metadata": {},
   "source": [
    "# For"
   ]
  },
  {
   "cell_type": "code",
   "execution_count": 4,
   "id": "f182b7a4-26d0-45e1-a41c-00d9782f1b72",
   "metadata": {},
   "outputs": [
    {
     "data": {
      "text/plain": [
       "[40, 20, 80, 50, 30, 60, 90]"
      ]
     },
     "execution_count": 4,
     "metadata": {},
     "output_type": "execute_result"
    }
   ],
   "source": [
    "y=[40,20,80,50,30,60,90]\n",
    "y"
   ]
  },
  {
   "cell_type": "code",
   "execution_count": 8,
   "id": "687ee4dc-a374-4987-840b-3809caf465aa",
   "metadata": {},
   "outputs": [
    {
     "data": {
      "text/plain": [
       "850"
      ]
     },
     "execution_count": 8,
     "metadata": {},
     "output_type": "execute_result"
    }
   ],
   "source": [
    "10*85"
   ]
  },
  {
   "cell_type": "code",
   "execution_count": 10,
   "id": "416011b9-3008-4bdf-ac0d-00c86f3a27c5",
   "metadata": {},
   "outputs": [
    {
     "data": {
      "text/plain": [
       "[40, 20, 80, 50, 30, 60, 90, 40, 20, 80, 50, 30, 60, 90]"
      ]
     },
     "execution_count": 10,
     "metadata": {},
     "output_type": "execute_result"
    }
   ],
   "source": [
    "y*2"
   ]
  },
  {
   "cell_type": "code",
   "execution_count": 17,
   "id": "5013d5e4-7ea0-4b54-a172-fa8e491c9533",
   "metadata": {},
   "outputs": [
    {
     "data": {
      "text/plain": [
       "[40,\n",
       " 20,\n",
       " 80,\n",
       " 50,\n",
       " 30,\n",
       " 60,\n",
       " 90,\n",
       " 40,\n",
       " 20,\n",
       " 80,\n",
       " 50,\n",
       " 30,\n",
       " 60,\n",
       " 90,\n",
       " 40,\n",
       " 20,\n",
       " 80,\n",
       " 50,\n",
       " 30,\n",
       " 60,\n",
       " 90,\n",
       " 40,\n",
       " 20,\n",
       " 80,\n",
       " 50,\n",
       " 30,\n",
       " 60,\n",
       " 90,\n",
       " 40,\n",
       " 20,\n",
       " 80,\n",
       " 50,\n",
       " 30,\n",
       " 60,\n",
       " 90,\n",
       " 40,\n",
       " 20,\n",
       " 80,\n",
       " 50,\n",
       " 30,\n",
       " 60,\n",
       " 90,\n",
       " 40,\n",
       " 20,\n",
       " 80,\n",
       " 50,\n",
       " 30,\n",
       " 60,\n",
       " 90,\n",
       " 40,\n",
       " 20,\n",
       " 80,\n",
       " 50,\n",
       " 30,\n",
       " 60,\n",
       " 90,\n",
       " 40,\n",
       " 20,\n",
       " 80,\n",
       " 50,\n",
       " 30,\n",
       " 60,\n",
       " 90,\n",
       " 40,\n",
       " 20,\n",
       " 80,\n",
       " 50,\n",
       " 30,\n",
       " 60,\n",
       " 90,\n",
       " 40,\n",
       " 20,\n",
       " 80,\n",
       " 50,\n",
       " 30,\n",
       " 60,\n",
       " 90,\n",
       " 40,\n",
       " 20,\n",
       " 80,\n",
       " 50,\n",
       " 30,\n",
       " 60,\n",
       " 90,\n",
       " 40,\n",
       " 20,\n",
       " 80,\n",
       " 50,\n",
       " 30,\n",
       " 60,\n",
       " 90,\n",
       " 40,\n",
       " 20,\n",
       " 80,\n",
       " 50,\n",
       " 30,\n",
       " 60,\n",
       " 90,\n",
       " 40,\n",
       " 20,\n",
       " 80,\n",
       " 50,\n",
       " 30,\n",
       " 60,\n",
       " 90,\n",
       " 40,\n",
       " 20,\n",
       " 80,\n",
       " 50,\n",
       " 30,\n",
       " 60,\n",
       " 90,\n",
       " 40,\n",
       " 20,\n",
       " 80,\n",
       " 50,\n",
       " 30,\n",
       " 60,\n",
       " 90,\n",
       " 40,\n",
       " 20,\n",
       " 80,\n",
       " 50,\n",
       " 30,\n",
       " 60,\n",
       " 90,\n",
       " 40,\n",
       " 20,\n",
       " 80,\n",
       " 50,\n",
       " 30,\n",
       " 60,\n",
       " 90,\n",
       " 40,\n",
       " 20,\n",
       " 80,\n",
       " 50,\n",
       " 30,\n",
       " 60,\n",
       " 90,\n",
       " 40,\n",
       " 20,\n",
       " 80,\n",
       " 50,\n",
       " 30,\n",
       " 60,\n",
       " 90,\n",
       " 40,\n",
       " 20,\n",
       " 80,\n",
       " 50,\n",
       " 30,\n",
       " 60,\n",
       " 90,\n",
       " 40,\n",
       " 20,\n",
       " 80,\n",
       " 50,\n",
       " 30,\n",
       " 60,\n",
       " 90,\n",
       " 40,\n",
       " 20,\n",
       " 80,\n",
       " 50,\n",
       " 30,\n",
       " 60,\n",
       " 90,\n",
       " 40,\n",
       " 20,\n",
       " 80,\n",
       " 50,\n",
       " 30,\n",
       " 60,\n",
       " 90,\n",
       " 40,\n",
       " 20,\n",
       " 80,\n",
       " 50,\n",
       " 30,\n",
       " 60,\n",
       " 90,\n",
       " 40,\n",
       " 20,\n",
       " 80,\n",
       " 50,\n",
       " 30,\n",
       " 60,\n",
       " 90,\n",
       " 40,\n",
       " 20,\n",
       " 80,\n",
       " 50,\n",
       " 30,\n",
       " 60,\n",
       " 90,\n",
       " 40,\n",
       " 20,\n",
       " 80,\n",
       " 50,\n",
       " 30,\n",
       " 60,\n",
       " 90,\n",
       " 40,\n",
       " 20,\n",
       " 80,\n",
       " 50,\n",
       " 30,\n",
       " 60,\n",
       " 90,\n",
       " 40,\n",
       " 20,\n",
       " 80,\n",
       " 50,\n",
       " 30,\n",
       " 60,\n",
       " 90,\n",
       " 40,\n",
       " 20,\n",
       " 80,\n",
       " 50,\n",
       " 30,\n",
       " 60,\n",
       " 90,\n",
       " 40,\n",
       " 20,\n",
       " 80,\n",
       " 50,\n",
       " 30,\n",
       " 60,\n",
       " 90,\n",
       " 40,\n",
       " 20,\n",
       " 80,\n",
       " 50,\n",
       " 30,\n",
       " 60,\n",
       " 90,\n",
       " 40,\n",
       " 20,\n",
       " 80,\n",
       " 50,\n",
       " 30,\n",
       " 60,\n",
       " 90,\n",
       " 40,\n",
       " 20,\n",
       " 80,\n",
       " 50,\n",
       " 30,\n",
       " 60,\n",
       " 90,\n",
       " 40,\n",
       " 20,\n",
       " 80,\n",
       " 50,\n",
       " 30,\n",
       " 60,\n",
       " 90,\n",
       " 40,\n",
       " 20,\n",
       " 80,\n",
       " 50,\n",
       " 30,\n",
       " 60,\n",
       " 90,\n",
       " 40,\n",
       " 20,\n",
       " 80,\n",
       " 50,\n",
       " 30,\n",
       " 60,\n",
       " 90,\n",
       " 40,\n",
       " 20,\n",
       " 80,\n",
       " 50,\n",
       " 30,\n",
       " 60,\n",
       " 90,\n",
       " 40,\n",
       " 20,\n",
       " 80,\n",
       " 50,\n",
       " 30,\n",
       " 60,\n",
       " 90,\n",
       " 40,\n",
       " 20,\n",
       " 80,\n",
       " 50,\n",
       " 30,\n",
       " 60,\n",
       " 90,\n",
       " 40,\n",
       " 20,\n",
       " 80,\n",
       " 50,\n",
       " 30,\n",
       " 60,\n",
       " 90,\n",
       " 40,\n",
       " 20,\n",
       " 80,\n",
       " 50,\n",
       " 30,\n",
       " 60,\n",
       " 90,\n",
       " 40,\n",
       " 20,\n",
       " 80,\n",
       " 50,\n",
       " 30,\n",
       " 60,\n",
       " 90,\n",
       " 40,\n",
       " 20,\n",
       " 80,\n",
       " 50,\n",
       " 30,\n",
       " 60,\n",
       " 90,\n",
       " 40,\n",
       " 20,\n",
       " 80,\n",
       " 50,\n",
       " 30,\n",
       " 60,\n",
       " 90,\n",
       " 40,\n",
       " 20,\n",
       " 80,\n",
       " 50,\n",
       " 30,\n",
       " 60,\n",
       " 90,\n",
       " 40,\n",
       " 20,\n",
       " 80,\n",
       " 50,\n",
       " 30,\n",
       " 60,\n",
       " 90,\n",
       " 40,\n",
       " 20,\n",
       " 80,\n",
       " 50,\n",
       " 30,\n",
       " 60,\n",
       " 90,\n",
       " 40,\n",
       " 20,\n",
       " 80,\n",
       " 50,\n",
       " 30,\n",
       " 60,\n",
       " 90,\n",
       " 40,\n",
       " 20,\n",
       " 80,\n",
       " 50,\n",
       " 30,\n",
       " 60,\n",
       " 90,\n",
       " 40,\n",
       " 20,\n",
       " 80,\n",
       " 50,\n",
       " 30,\n",
       " 60,\n",
       " 90,\n",
       " 40,\n",
       " 20,\n",
       " 80,\n",
       " 50,\n",
       " 30,\n",
       " 60,\n",
       " 90,\n",
       " 40,\n",
       " 20,\n",
       " 80,\n",
       " 50,\n",
       " 30,\n",
       " 60,\n",
       " 90,\n",
       " 40,\n",
       " 20,\n",
       " 80,\n",
       " 50,\n",
       " 30,\n",
       " 60,\n",
       " 90,\n",
       " 40,\n",
       " 20,\n",
       " 80,\n",
       " 50,\n",
       " 30,\n",
       " 60,\n",
       " 90,\n",
       " 40,\n",
       " 20,\n",
       " 80,\n",
       " 50,\n",
       " 30,\n",
       " 60,\n",
       " 90,\n",
       " 40,\n",
       " 20,\n",
       " 80,\n",
       " 50,\n",
       " 30,\n",
       " 60,\n",
       " 90,\n",
       " 40,\n",
       " 20,\n",
       " 80,\n",
       " 50,\n",
       " 30,\n",
       " 60,\n",
       " 90,\n",
       " 40,\n",
       " 20,\n",
       " 80,\n",
       " 50,\n",
       " 30,\n",
       " 60,\n",
       " 90,\n",
       " 40,\n",
       " 20,\n",
       " 80,\n",
       " 50,\n",
       " 30,\n",
       " 60,\n",
       " 90,\n",
       " 40,\n",
       " 20,\n",
       " 80,\n",
       " 50,\n",
       " 30,\n",
       " 60,\n",
       " 90,\n",
       " 40,\n",
       " 20,\n",
       " 80,\n",
       " 50,\n",
       " 30,\n",
       " 60,\n",
       " 90,\n",
       " 40,\n",
       " 20,\n",
       " 80,\n",
       " 50,\n",
       " 30,\n",
       " 60,\n",
       " 90,\n",
       " 40,\n",
       " 20,\n",
       " 80,\n",
       " 50,\n",
       " 30,\n",
       " 60,\n",
       " 90,\n",
       " 40,\n",
       " 20,\n",
       " 80,\n",
       " 50,\n",
       " 30,\n",
       " 60,\n",
       " 90,\n",
       " 40,\n",
       " 20,\n",
       " 80,\n",
       " 50,\n",
       " 30,\n",
       " 60,\n",
       " 90,\n",
       " 40,\n",
       " 20,\n",
       " 80,\n",
       " 50,\n",
       " 30,\n",
       " 60,\n",
       " 90,\n",
       " 40,\n",
       " 20,\n",
       " 80,\n",
       " 50,\n",
       " 30,\n",
       " 60,\n",
       " 90,\n",
       " 40,\n",
       " 20,\n",
       " 80,\n",
       " 50,\n",
       " 30,\n",
       " 60,\n",
       " 90,\n",
       " 40,\n",
       " 20,\n",
       " 80,\n",
       " 50,\n",
       " 30,\n",
       " 60,\n",
       " 90,\n",
       " 40,\n",
       " 20,\n",
       " 80,\n",
       " 50,\n",
       " 30,\n",
       " 60,\n",
       " 90,\n",
       " 40,\n",
       " 20,\n",
       " 80,\n",
       " 50,\n",
       " 30,\n",
       " 60,\n",
       " 90,\n",
       " 40,\n",
       " 20,\n",
       " 80,\n",
       " 50,\n",
       " 30,\n",
       " 60,\n",
       " 90,\n",
       " 40,\n",
       " 20,\n",
       " 80,\n",
       " 50,\n",
       " 30,\n",
       " 60,\n",
       " 90,\n",
       " 40,\n",
       " 20,\n",
       " 80,\n",
       " 50,\n",
       " 30,\n",
       " 60,\n",
       " 90,\n",
       " 40,\n",
       " 20,\n",
       " 80,\n",
       " 50,\n",
       " 30,\n",
       " 60,\n",
       " 90,\n",
       " 40,\n",
       " 20,\n",
       " 80,\n",
       " 50,\n",
       " 30,\n",
       " 60,\n",
       " 90,\n",
       " 40,\n",
       " 20,\n",
       " 80,\n",
       " 50,\n",
       " 30,\n",
       " 60,\n",
       " 90,\n",
       " 40,\n",
       " 20,\n",
       " 80,\n",
       " 50,\n",
       " 30,\n",
       " 60,\n",
       " 90,\n",
       " 40,\n",
       " 20,\n",
       " 80,\n",
       " 50,\n",
       " 30,\n",
       " 60,\n",
       " 90,\n",
       " 40,\n",
       " 20,\n",
       " 80,\n",
       " 50,\n",
       " 30,\n",
       " 60,\n",
       " 90,\n",
       " 40,\n",
       " 20,\n",
       " 80,\n",
       " 50,\n",
       " 30,\n",
       " 60,\n",
       " 90,\n",
       " 40,\n",
       " 20,\n",
       " 80,\n",
       " 50,\n",
       " 30,\n",
       " 60,\n",
       " 90]"
      ]
     },
     "execution_count": 17,
     "metadata": {},
     "output_type": "execute_result"
    }
   ],
   "source": [
    "y*85"
   ]
  },
  {
   "cell_type": "code",
   "execution_count": 19,
   "id": "2d0e7b1c-41a9-4a0e-9127-a9228a3a8c46",
   "metadata": {},
   "outputs": [
    {
     "name": "stdout",
     "output_type": "stream",
     "text": [
      "3400\n",
      "1700\n",
      "6800\n",
      "4250\n",
      "2550\n",
      "5100\n",
      "7650\n"
     ]
    }
   ],
   "source": [
    "for i in y:\n",
    "    print(i*85)"
   ]
  },
  {
   "cell_type": "code",
   "execution_count": 31,
   "id": "ed6725a5-182c-4240-9fc3-943ff47f4453",
   "metadata": {},
   "outputs": [],
   "source": [
    "i=[3400,1700,6800,4250,2550,5100,7650]"
   ]
  },
  {
   "cell_type": "code",
   "execution_count": 33,
   "id": "94ac66da-3519-48a2-a758-2d8cada8d680",
   "metadata": {},
   "outputs": [
    {
     "data": {
      "text/plain": [
       "[3400, 1700, 6800, 4250, 2550, 5100, 7650]"
      ]
     },
     "execution_count": 33,
     "metadata": {},
     "output_type": "execute_result"
    }
   ],
   "source": [
    "i"
   ]
  },
  {
   "cell_type": "code",
   "execution_count": 35,
   "id": "6d0d9884-1f04-4f93-9544-82f3054816eb",
   "metadata": {},
   "outputs": [
    {
     "name": "stdout",
     "output_type": "stream",
     "text": [
      "40.0\n",
      "20.0\n",
      "80.0\n",
      "50.0\n",
      "30.0\n",
      "60.0\n",
      "90.0\n"
     ]
    }
   ],
   "source": [
    "for z in i:\n",
    "    print(z/85)"
   ]
  },
  {
   "cell_type": "markdown",
   "id": "8f45de5e-4772-4f23-a78a-2ea0c8b3c8e9",
   "metadata": {},
   "source": [
    "# another way"
   ]
  },
  {
   "cell_type": "code",
   "execution_count": 40,
   "id": "e56100f5-2082-4e6c-a6e5-9a074c588daf",
   "metadata": {},
   "outputs": [],
   "source": [
    "Rup=[]\n",
    "for i in y:\n",
    "    Rup.append(i*85)"
   ]
  },
  {
   "cell_type": "code",
   "execution_count": 42,
   "id": "30480598-df26-4c51-a48f-b7f9ee879f85",
   "metadata": {},
   "outputs": [
    {
     "data": {
      "text/plain": [
       "[3400, 1700, 6800, 4250, 2550, 5100, 7650]"
      ]
     },
     "execution_count": 42,
     "metadata": {},
     "output_type": "execute_result"
    }
   ],
   "source": [
    "Rup"
   ]
  },
  {
   "cell_type": "code",
   "execution_count": 48,
   "id": "57e98a35-3cf1-45f2-8ad1-50750226c2e4",
   "metadata": {},
   "outputs": [
    {
     "name": "stdout",
     "output_type": "stream",
     "text": [
      "40.0\n",
      "20.0\n",
      "80.0\n",
      "50.0\n",
      "30.0\n",
      "60.0\n",
      "90.0\n"
     ]
    }
   ],
   "source": [
    "for z in Rup:\n",
    "    print(z/85)"
   ]
  },
  {
   "cell_type": "code",
   "execution_count": 52,
   "id": "ba020f5c-5f8e-44d9-829d-fd76d7c0dc9d",
   "metadata": {},
   "outputs": [
    {
     "data": {
      "text/plain": [
       "[31, 45, 66, 33, 90, 78, 67, 87, 89, 93, 25, 59, 9, 81]"
      ]
     },
     "execution_count": 52,
     "metadata": {},
     "output_type": "execute_result"
    }
   ],
   "source": [
    "num=[31,45,66,33,90,78,67,87,89,93,25,59,9,81]\n",
    "num"
   ]
  },
  {
   "cell_type": "code",
   "execution_count": 74,
   "id": "1f0565ce-13b8-4bdc-9d1e-93579f75831e",
   "metadata": {},
   "outputs": [],
   "source": [
    "i=[]\n",
    "j=[]\n",
    "for n in num: \n",
    "    if n % 2 == 0: \n",
    "        i.append(n) \n",
    "    else: \n",
    "        j.append(n) \n"
   ]
  },
  {
   "cell_type": "code",
   "execution_count": 76,
   "id": "d37cf637-f99c-465c-92d4-e88768bc46f0",
   "metadata": {},
   "outputs": [
    {
     "data": {
      "text/plain": [
       "[66, 90, 78]"
      ]
     },
     "execution_count": 76,
     "metadata": {},
     "output_type": "execute_result"
    }
   ],
   "source": [
    "i"
   ]
  },
  {
   "cell_type": "code",
   "execution_count": 78,
   "id": "72b91e03-0a43-4a8d-b048-7beed756f36a",
   "metadata": {},
   "outputs": [
    {
     "data": {
      "text/plain": [
       "[31, 45, 33, 67, 87, 89, 93, 25, 59, 9, 81]"
      ]
     },
     "execution_count": 78,
     "metadata": {},
     "output_type": "execute_result"
    }
   ],
   "source": [
    "j"
   ]
  },
  {
   "cell_type": "code",
   "execution_count": 149,
   "id": "e070af3b-22e1-48f1-8db3-14e0f5220796",
   "metadata": {},
   "outputs": [
    {
     "data": {
      "text/plain": [
       "[31, 45, 66, 93, 90, 78, 67, 87, 89, 93, 25, 59, 49, 91]"
      ]
     },
     "execution_count": 149,
     "metadata": {},
     "output_type": "execute_result"
    }
   ],
   "source": [
    "num=[31,45,66,93,90,78,67,87,89,93,25,59,49,91]\n",
    "num"
   ]
  },
  {
   "cell_type": "code",
   "execution_count": 151,
   "id": "c8a561b2-be94-4ca1-8a2d-a6ffff1eda84",
   "metadata": {},
   "outputs": [],
   "source": [
    "i=[]\n",
    "j=[]\n",
    "for n in num: \n",
    "    if n % 2 == 0: \n",
    "        i.append(n) \n",
    "    else: \n",
    "        j.append(n) \n"
   ]
  },
  {
   "cell_type": "code",
   "execution_count": 153,
   "id": "83e285a8-88e6-42e4-8121-279f80a29301",
   "metadata": {},
   "outputs": [
    {
     "data": {
      "text/plain": [
       "[66, 90, 78]"
      ]
     },
     "execution_count": 153,
     "metadata": {},
     "output_type": "execute_result"
    }
   ],
   "source": [
    "i"
   ]
  },
  {
   "cell_type": "code",
   "execution_count": 155,
   "id": "f3a8ecf4-c7b2-4f2f-b5ca-4dfd3b83e423",
   "metadata": {},
   "outputs": [
    {
     "data": {
      "text/plain": [
       "[31, 45, 93, 67, 87, 89, 93, 25, 59, 49, 91]"
      ]
     },
     "execution_count": 155,
     "metadata": {},
     "output_type": "execute_result"
    }
   ],
   "source": [
    "j"
   ]
  },
  {
   "cell_type": "code",
   "execution_count": 157,
   "id": "16bdd842-4d67-4e1d-a742-c8b0b7f66c24",
   "metadata": {},
   "outputs": [
    {
     "data": {
      "text/plain": [
       "[31, 45, 66, 93, 90, 78, 67, 87, 89, 93, 25, 59, 49, 91]"
      ]
     },
     "execution_count": 157,
     "metadata": {},
     "output_type": "execute_result"
    }
   ],
   "source": [
    "num"
   ]
  },
  {
   "cell_type": "markdown",
   "id": "45488982-6a6e-40c8-879a-ad016654298a",
   "metadata": {},
   "source": [
    "# replace 9 with 1"
   ]
  },
  {
   "cell_type": "code",
   "execution_count": 160,
   "id": "e8e336a3-8e24-4ccb-9339-44160a584c0a",
   "metadata": {},
   "outputs": [
    {
     "data": {
      "text/plain": [
       "[31, 45, 66, 93, 90, 78, 67, 87, 89, 93, 25, 59, 49, 91]"
      ]
     },
     "execution_count": 160,
     "metadata": {},
     "output_type": "execute_result"
    }
   ],
   "source": [
    "num"
   ]
  },
  {
   "cell_type": "code",
   "execution_count": 162,
   "id": "55a33491-976d-4548-99b6-64a4e03bf5fc",
   "metadata": {},
   "outputs": [],
   "source": [
    "h = []\n",
    " \n",
    "\n",
    "for i in num:\n",
    "    a = str(i) \n",
    "    b = a.replace('9', '1')  \n",
    "    c = int(b)  \n",
    "    h.append(c)  \n",
    "\n",
    "\n"
   ]
  },
  {
   "cell_type": "code",
   "execution_count": 164,
   "id": "3b7581e4-5288-4dcf-8d34-a4fc2a2567e4",
   "metadata": {},
   "outputs": [
    {
     "data": {
      "text/plain": [
       "[31, 45, 66, 13, 10, 78, 67, 87, 81, 13, 25, 51, 41, 11]"
      ]
     },
     "execution_count": 164,
     "metadata": {},
     "output_type": "execute_result"
    }
   ],
   "source": [
    "h"
   ]
  },
  {
   "cell_type": "code",
   "execution_count": null,
   "id": "7c945981-b1b6-4035-92d2-221cf5cc9031",
   "metadata": {},
   "outputs": [],
   "source": []
  }
 ],
 "metadata": {
  "kernelspec": {
   "display_name": "Python [conda env:base] *",
   "language": "python",
   "name": "conda-base-py"
  },
  "language_info": {
   "codemirror_mode": {
    "name": "ipython",
    "version": 3
   },
   "file_extension": ".py",
   "mimetype": "text/x-python",
   "name": "python",
   "nbconvert_exporter": "python",
   "pygments_lexer": "ipython3",
   "version": "3.12.7"
  }
 },
 "nbformat": 4,
 "nbformat_minor": 5
}
