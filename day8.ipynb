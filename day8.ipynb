{
 "cells": [
  {
   "cell_type": "code",
   "execution_count": 7,
   "id": "095c8e08-1002-4714-8bd0-daa83f35f193",
   "metadata": {},
   "outputs": [],
   "source": [
    "import numpy as np"
   ]
  },
  {
   "cell_type": "code",
   "execution_count": 9,
   "id": "5f19febf-476d-4389-9966-74fd60625a76",
   "metadata": {},
   "outputs": [
    {
     "data": {
      "text/plain": [
       "105.02658041085243"
      ]
     },
     "execution_count": 9,
     "metadata": {},
     "output_type": "execute_result"
    }
   ],
   "source": [
    "np.random.normal(58,54)"
   ]
  },
  {
   "cell_type": "code",
   "execution_count": 11,
   "id": "5b440c85-4f0e-4c97-89d0-5f8e341819a4",
   "metadata": {},
   "outputs": [
    {
     "data": {
      "text/plain": [
       "[19, 19, 19, 20, 18, 20, 19, 18, 20]"
      ]
     },
     "execution_count": 11,
     "metadata": {},
     "output_type": "execute_result"
    }
   ],
   "source": [
    "s=[19,19,19,20,18,20,19,18,20]\n",
    "s"
   ]
  },
  {
   "cell_type": "code",
   "execution_count": 13,
   "id": "3e114ede-48d3-4faa-bd04-1f9e3350b394",
   "metadata": {},
   "outputs": [
    {
     "data": {
      "text/plain": [
       "array([18, 20, 19, 19, 19, 18, 18, 19, 18, 18, 19, 18, 19, 19, 19, 20, 18,\n",
       "       19, 19, 20, 20, 18, 20, 19, 19, 18, 19, 18, 20, 18, 20, 18, 20, 18,\n",
       "       18, 18, 20, 19, 20, 18, 19, 19, 18, 18, 20, 19, 19, 20, 20, 19, 18,\n",
       "       18, 20, 20, 20, 18, 19, 19, 18, 19, 18, 19, 19, 19, 18, 19, 20, 18,\n",
       "       19, 19, 20, 19, 19, 20, 19, 20, 19, 20, 18, 19, 19, 20, 19, 20, 19,\n",
       "       18, 19, 19, 18, 20, 18, 19, 18, 18, 20, 19, 19, 20, 19, 18, 20, 19,\n",
       "       18, 18, 19, 20, 19, 20, 19, 19, 19, 19, 20, 18, 18, 20, 20, 20, 20,\n",
       "       18, 18, 20, 18, 20, 18, 19, 19, 19, 18, 20, 20, 19, 19, 20, 20, 19,\n",
       "       20, 18, 19, 18, 20, 19, 19, 20, 19, 19, 18, 19, 19, 20, 20, 18, 20,\n",
       "       18, 18, 18, 19, 19, 19, 20, 18, 19, 19, 19, 20, 20, 19, 18, 19, 20,\n",
       "       20, 18, 20, 18, 20, 19, 20, 18, 18, 20, 18, 20, 20, 20, 19, 18, 19,\n",
       "       19, 20, 20, 18, 20, 19, 20, 19, 18, 20, 19, 18, 20])"
      ]
     },
     "execution_count": 13,
     "metadata": {},
     "output_type": "execute_result"
    }
   ],
   "source": [
    "np.random.randint(18,21,200)"
   ]
  },
  {
   "cell_type": "code",
   "execution_count": 19,
   "id": "3df77a92-3dfa-4dfb-b17f-363ba06da8fe",
   "metadata": {},
   "outputs": [
    {
     "data": {
      "text/plain": [
       "array([20, 20, 19, 19, 20, 19, 20, 18, 20, 20, 19, 18, 19, 19, 20, 19, 20,\n",
       "       19, 18, 18, 20, 19, 18, 20, 19, 19, 18, 20, 20, 19, 18, 19, 18, 18,\n",
       "       18, 20, 20, 20, 20, 18, 20, 20, 19, 20, 18, 19, 20, 20, 20, 18, 20,\n",
       "       20, 19, 20, 19, 18, 18, 18, 19, 20, 20, 20, 20, 19, 20, 18, 18, 20,\n",
       "       20, 19, 18, 18, 20, 20, 19, 19, 18, 18, 19, 18, 19, 20, 20, 20, 19,\n",
       "       20, 19, 18, 18, 18, 20, 19, 20, 20, 19, 19, 18, 19, 18, 19, 20, 19,\n",
       "       20, 20, 20, 20, 19, 18, 20, 20, 18, 20, 19, 19, 20, 20, 18, 19, 18,\n",
       "       20, 19, 19, 19, 19, 19, 18, 18, 19, 20, 20, 20, 19, 18, 20, 20, 18,\n",
       "       19, 20, 18, 18, 20, 18, 20, 19, 18, 20, 19, 19, 20, 19, 20, 18, 19,\n",
       "       19, 20, 20, 19, 19, 19, 18, 18, 20, 19, 18, 18, 18, 20, 19, 20, 19,\n",
       "       18, 20, 18, 20, 19, 20, 18, 20, 20, 18, 19, 20, 20, 18, 20, 18, 19,\n",
       "       19, 18, 18, 19, 20, 19, 19, 19, 19, 18, 18, 20, 19, 20, 20, 18, 18,\n",
       "       18, 19, 18, 18, 19, 20, 18, 20, 19, 19, 20, 20, 20, 19, 19, 19, 20,\n",
       "       20, 20, 18, 20, 19, 19, 19, 20, 18, 20, 19, 20, 20, 18, 18, 20, 20,\n",
       "       20, 20, 18, 19, 20, 20, 18, 18, 19, 18, 18, 20, 18, 20, 20, 18, 20,\n",
       "       19, 18, 20, 20, 18, 19, 19, 18, 20, 20, 20, 18, 19, 20, 18, 19, 18,\n",
       "       18, 19, 20, 20, 20, 20, 19, 19, 20, 20, 19, 20, 20, 20, 20, 20, 18,\n",
       "       19, 18, 19, 18, 19, 19, 18, 19, 19, 18, 18, 19, 18, 19, 18, 18, 19,\n",
       "       19, 20, 20, 19, 19, 20, 18, 20, 20, 20, 20, 18, 19, 19, 18, 20, 20,\n",
       "       18, 18, 20, 18, 20, 20, 20, 18, 19, 19, 20, 19, 19, 19, 18, 19, 19,\n",
       "       18, 18, 20, 18, 20, 20, 18, 18, 20, 20, 20, 18, 18, 19, 20, 18, 20,\n",
       "       20, 18, 18, 19, 19, 19, 18, 20, 18, 20, 19, 19, 20, 19, 19, 20, 18,\n",
       "       19, 20, 20, 18, 18, 20, 18, 20, 18, 18, 19, 18, 19, 18, 18, 19, 18,\n",
       "       20, 20, 20, 20, 18, 19, 18, 20, 20, 19, 18, 20, 20, 20, 20, 18, 18,\n",
       "       20, 19, 18, 18, 19, 19, 18, 19, 20, 18, 19, 18, 20, 19, 18, 20, 20,\n",
       "       20, 20, 18, 19, 19, 18, 19, 20, 19, 20, 20, 19, 20, 20, 19, 19, 20,\n",
       "       18, 18, 19, 19, 20, 19, 20, 18, 18, 20, 20, 20, 18, 18, 18, 19, 20,\n",
       "       19, 18, 18, 20, 20, 19, 20, 19, 19, 19, 19, 19, 19, 19, 20, 18, 19,\n",
       "       20, 18, 19, 20, 20, 20, 19, 20, 19, 20, 20, 19, 20, 18, 19, 18, 19,\n",
       "       19, 20, 19, 20, 20, 18, 20])"
      ]
     },
     "execution_count": 19,
     "metadata": {},
     "output_type": "execute_result"
    }
   ],
   "source": [
    "np.random.randint(18,21,500)"
   ]
  },
  {
   "cell_type": "code",
   "execution_count": 21,
   "id": "3c2c1cca-6c92-4ce1-9314-f391352e9777",
   "metadata": {},
   "outputs": [
    {
     "data": {
      "text/plain": [
       "[30, 20, 5, 8, 9]"
      ]
     },
     "execution_count": 21,
     "metadata": {},
     "output_type": "execute_result"
    }
   ],
   "source": [
    "h=[30,20,5,8,9]\n",
    "h"
   ]
  },
  {
   "cell_type": "code",
   "execution_count": 23,
   "id": "96377943-5940-4f9f-9a50-88bd8c81c471",
   "metadata": {},
   "outputs": [],
   "source": [
    "d=[]\n",
    "for i in h:\n",
    "    d.append(i+5)"
   ]
  },
  {
   "cell_type": "code",
   "execution_count": 25,
   "id": "2fa34688-206f-45dd-bc41-b615df239f75",
   "metadata": {},
   "outputs": [
    {
     "data": {
      "text/plain": [
       "[35, 25, 10, 13, 14]"
      ]
     },
     "execution_count": 25,
     "metadata": {},
     "output_type": "execute_result"
    }
   ],
   "source": [
    "d"
   ]
  },
  {
   "cell_type": "code",
   "execution_count": 27,
   "id": "d69db43e-dc7d-4854-b510-fed6082a7298",
   "metadata": {},
   "outputs": [
    {
     "data": {
      "text/plain": [
       "[30, 20, 5, 8, 9]"
      ]
     },
     "execution_count": 27,
     "metadata": {},
     "output_type": "execute_result"
    }
   ],
   "source": [
    "h"
   ]
  },
  {
   "cell_type": "code",
   "execution_count": 29,
   "id": "9761c1cb-8b5e-4877-b3bc-10a184002017",
   "metadata": {},
   "outputs": [
    {
     "data": {
      "text/plain": [
       "(6, 2, 3, 9, 7, 5, 8)"
      ]
     },
     "execution_count": 29,
     "metadata": {},
     "output_type": "execute_result"
    }
   ],
   "source": [
    "s=(6,2,3,9,7,5,8)\n",
    "s"
   ]
  },
  {
   "cell_type": "code",
   "execution_count": 31,
   "id": "540e4a26-9c31-4729-9ece-ad71a04cc7da",
   "metadata": {},
   "outputs": [
    {
     "ename": "AttributeError",
     "evalue": "'tuple' object has no attribute 'append'",
     "output_type": "error",
     "traceback": [
      "\u001b[1;31m---------------------------------------------------------------------------\u001b[0m",
      "\u001b[1;31mAttributeError\u001b[0m                            Traceback (most recent call last)",
      "Cell \u001b[1;32mIn[31], line 3\u001b[0m\n\u001b[0;32m      1\u001b[0m d\u001b[38;5;241m=\u001b[39m()\n\u001b[0;32m      2\u001b[0m \u001b[38;5;28;01mfor\u001b[39;00m i \u001b[38;5;129;01min\u001b[39;00m s:\n\u001b[1;32m----> 3\u001b[0m     d\u001b[38;5;241m.\u001b[39mappend(i\u001b[38;5;241m+\u001b[39m\u001b[38;5;241m5\u001b[39m)\n",
      "\u001b[1;31mAttributeError\u001b[0m: 'tuple' object has no attribute 'append'"
     ]
    }
   ],
   "source": [
    "d=()\n",
    "for i in s:\n",
    "    d.append(i+5)"
   ]
  },
  {
   "cell_type": "code",
   "execution_count": 33,
   "id": "72bf94af-ddaf-484c-afac-b01407a5098e",
   "metadata": {},
   "outputs": [
    {
     "data": {
      "text/plain": [
       "(36, 4, 9, 81, 49, 25, 64)"
      ]
     },
     "execution_count": 33,
     "metadata": {},
     "output_type": "execute_result"
    }
   ],
   "source": [
    "y=list(s)\n",
    "k=[]\n",
    "for i in y:\n",
    "    k.append(i**2)\n",
    "s=tuple(k)\n",
    "s"
   ]
  },
  {
   "cell_type": "code",
   "execution_count": 35,
   "id": "e16cb721-45fa-4cdf-a05c-2fa2819e710d",
   "metadata": {},
   "outputs": [
    {
     "data": {
      "text/plain": [
       "(36, 4, 9, 81, 49, 25, 64)"
      ]
     },
     "execution_count": 35,
     "metadata": {},
     "output_type": "execute_result"
    }
   ],
   "source": [
    "s"
   ]
  },
  {
   "cell_type": "code",
   "execution_count": 37,
   "id": "5825a67b-f409-4db7-89d5-55ee1c231907",
   "metadata": {},
   "outputs": [
    {
     "ename": "SyntaxError",
     "evalue": "invalid syntax (3941973670.py, line 1)",
     "output_type": "error",
     "traceback": [
      "\u001b[1;36m  Cell \u001b[1;32mIn[37], line 1\u001b[1;36m\u001b[0m\n\u001b[1;33m    m[]\u001b[0m\n\u001b[1;37m      ^\u001b[0m\n\u001b[1;31mSyntaxError\u001b[0m\u001b[1;31m:\u001b[0m invalid syntax\n"
     ]
    }
   ],
   "source": [
    "m[]\n",
    "for i in s:\n",
    "    if>30:\n",
    "        m.append(i)"
   ]
  },
  {
   "cell_type": "code",
   "execution_count": 41,
   "id": "49732ed0-4ace-4ec1-9341-eaf86c222e15",
   "metadata": {},
   "outputs": [
    {
     "ename": "NameError",
     "evalue": "name 'array' is not defined",
     "output_type": "error",
     "traceback": [
      "\u001b[1;31m---------------------------------------------------------------------------\u001b[0m",
      "\u001b[1;31mNameError\u001b[0m                                 Traceback (most recent call last)",
      "Cell \u001b[1;32mIn[41], line 1\u001b[0m\n\u001b[1;32m----> 1\u001b[0m arr\u001b[38;5;241m=\u001b[39marray(\u001b[38;5;241m4\u001b[39m,\u001b[38;5;241m15\u001b[39m,\u001b[38;5;241m165\u001b[39m,\u001b[38;5;241m2\u001b[39m,\u001b[38;5;241m265\u001b[39m,\u001b[38;5;241m2645\u001b[39m,\u001b[38;5;241m352\u001b[39m,\u001b[38;5;241m65\u001b[39m,\u001b[38;5;241m61\u001b[39m,\u001b[38;5;241m65\u001b[39m)\n",
      "\u001b[1;31mNameError\u001b[0m: name 'array' is not defined"
     ]
    }
   ],
   "source": [
    "arr=array(4,15,165,2,265,2645,352,65,61,65)"
   ]
  },
  {
   "cell_type": "code",
   "execution_count": null,
   "id": "e9c3e4ac-3874-4611-a2d1-fbac2eb2f252",
   "metadata": {},
   "outputs": [],
   "source": []
  }
 ],
 "metadata": {
  "kernelspec": {
   "display_name": "Python [conda env:base] *",
   "language": "python",
   "name": "conda-base-py"
  },
  "language_info": {
   "codemirror_mode": {
    "name": "ipython",
    "version": 3
   },
   "file_extension": ".py",
   "mimetype": "text/x-python",
   "name": "python",
   "nbconvert_exporter": "python",
   "pygments_lexer": "ipython3",
   "version": "3.12.7"
  }
 },
 "nbformat": 4,
 "nbformat_minor": 5
}
