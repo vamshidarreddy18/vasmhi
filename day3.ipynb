{
 "cells": [
  {
   "cell_type": "raw",
   "id": "c08b96fb-8c6b-423d-90ca-f502b98e33b7",
   "metadata": {},
   "source": [
    "if condition1:\n",
    "    task1 black code\n",
    "elif condition2:\n",
    "    task2 black code\n",
    "elif condition3:\n",
    "    task3 black code\n",
    "    .\n",
    "    .\n",
    "    .\n",
    "    .\n",
    "elif condition n:\n",
    "    task n black code\n",
    "else: \n",
    "    task4 black code"
   ]
  },
  {
   "cell_type": "code",
   "execution_count": 1,
   "id": "16ac2d92-223a-4967-8a25-dadb3a4269ce",
   "metadata": {},
   "outputs": [
    {
     "name": "stdout",
     "output_type": "stream",
     "text": [
      "Odd\n"
     ]
    }
   ],
   "source": [
    "x= 9\n",
    "if x%2==0:\n",
    "    print(\"Even\")\n",
    "else:\n",
    "    print(\"Odd\")"
   ]
  },
  {
   "cell_type": "code",
   "execution_count": 3,
   "id": "ee3cf88b-dea1-4978-bbe4-04711954b3a1",
   "metadata": {},
   "outputs": [
    {
     "data": {
      "text/plain": [
       "False"
      ]
     },
     "execution_count": 3,
     "metadata": {},
     "output_type": "execute_result"
    }
   ],
   "source": [
    "x%2==0"
   ]
  },
  {
   "cell_type": "code",
   "execution_count": 5,
   "id": "5a5195e7-41be-4cd9-8988-5ab304fd6f8f",
   "metadata": {},
   "outputs": [],
   "source": [
    "x=8"
   ]
  },
  {
   "cell_type": "code",
   "execution_count": 7,
   "id": "ce8ecbea-8ed9-46cc-8818-ef777e4e8e4c",
   "metadata": {},
   "outputs": [
    {
     "data": {
      "text/plain": [
       "True"
      ]
     },
     "execution_count": 7,
     "metadata": {},
     "output_type": "execute_result"
    }
   ],
   "source": [
    "x%2==0"
   ]
  },
  {
   "cell_type": "raw",
   "id": "ba83b060-0803-4925-8352-b13b6b72f362",
   "metadata": {},
   "source": [
    "wap to know number is positive nagative or zero  "
   ]
  },
  {
   "cell_type": "code",
   "execution_count": 16,
   "id": "c46c5bfe-540a-4a5b-82c1-0bfb31cd7867",
   "metadata": {},
   "outputs": [
    {
     "name": "stdout",
     "output_type": "stream",
     "text": [
      "Even\n"
     ]
    }
   ],
   "source": [
    "x= 5565\n",
    "if x+6:\n",
    "    print(\"Even\")\n",
    "else:\n",
    "    print(\"Odd\")"
   ]
  },
  {
   "cell_type": "code",
   "execution_count": 22,
   "id": "b86154ce-2ac0-4209-b7e3-9d8c56abe936",
   "metadata": {},
   "outputs": [
    {
     "name": "stdout",
     "output_type": "stream",
     "text": [
      "Odd\n"
     ]
    }
   ],
   "source": [
    "x= -6 #only-6 we get odd\n",
    "if x+6:\n",
    "    print(\"Even\")\n",
    "else:\n",
    "    print(\"Odd\")"
   ]
  },
  {
   "cell_type": "code",
   "execution_count": 26,
   "id": "13f5d4db-1d70-40cf-83b3-d6b41310c059",
   "metadata": {},
   "outputs": [
    {
     "name": "stdout",
     "output_type": "stream",
     "text": [
      "pos\n"
     ]
    }
   ],
   "source": [
    "x=6\n",
    "if x>0:\n",
    "    print('pos')\n",
    "elif x<0:\n",
    "    print('neg')\n",
    "else:\n",
    "    print('zero')"
   ]
  },
  {
   "cell_type": "code",
   "execution_count": 30,
   "id": "3ca23a21-9e3d-4c98-a92f-067e0b835e8c",
   "metadata": {},
   "outputs": [
    {
     "name": "stdout",
     "output_type": "stream",
     "text": [
      "pos\n",
      "n\n"
     ]
    }
   ],
   "source": [
    "x=6\n",
    "if x>0:\n",
    "    print('pos')\n",
    "    if x>10:\n",
    "        print('p')\n",
    "    elif x<10:\n",
    "        print('n')\n",
    "    else:\n",
    "        print('z')  \n",
    "elif x<0:\n",
    "    print('neg')\n",
    "else:\n",
    "    print('zero')"
   ]
  },
  {
   "cell_type": "code",
   "execution_count": 32,
   "id": "d471fc11-91c2-46e8-9abf-40218b2f11d7",
   "metadata": {},
   "outputs": [
    {
     "name": "stdout",
     "output_type": "stream",
     "text": [
      "pos\n",
      "z\n"
     ]
    }
   ],
   "source": [
    "x=10\n",
    "if x>0:\n",
    "    print('pos')\n",
    "    if x>10:\n",
    "        print('p')\n",
    "    elif x<10:\n",
    "        print('n')\n",
    "    else:\n",
    "        print('z')  \n",
    "elif x<0:\n",
    "    print('neg')\n",
    "    if x>-10:\n",
    "        print('p')\n",
    "    elif x<-10:\n",
    "        print('n')\n",
    "    else:\n",
    "        print('z')  \n",
    "else:\n",
    "    print('zero')"
   ]
  },
  {
   "cell_type": "code",
   "execution_count": 36,
   "id": "fa2de836-e555-4acb-9c75-bce2e8b0d526",
   "metadata": {},
   "outputs": [
    {
     "name": "stdout",
     "output_type": "stream",
     "text": [
      "neg\n",
      "p\n"
     ]
    }
   ],
   "source": [
    "x=-6\n",
    "if x>0:\n",
    "    print('pos')\n",
    "    if x>10:\n",
    "        print('p')\n",
    "    elif x<10:\n",
    "        print('n')\n",
    "      \n",
    "elif x<0:\n",
    "    print('neg')\n",
    "    if x>-10:\n",
    "        print('p')\n",
    "    elif x<-10:\n",
    "        print('n')\n",
    "      \n",
    "else:\n",
    "    print('zero')"
   ]
  },
  {
   "cell_type": "code",
   "execution_count": 38,
   "id": "07ce5f18-1a0e-426a-86bf-c001c7281be0",
   "metadata": {},
   "outputs": [
    {
     "name": "stdout",
     "output_type": "stream",
     "text": [
      "neg\n",
      "n\n"
     ]
    }
   ],
   "source": [
    "x=-25\n",
    "if x>0:\n",
    "    print('pos')\n",
    "    if x>10:\n",
    "        print('p')\n",
    "    elif x<10:\n",
    "        print('n')\n",
    "      \n",
    "elif x<0:\n",
    "    print('neg')\n",
    "    if x>-10:\n",
    "        print('p')\n",
    "    elif x<-10:\n",
    "        print('n')\n",
    "      \n",
    "else:\n",
    "    print('zero')"
   ]
  },
  {
   "cell_type": "code",
   "execution_count": 40,
   "id": "84203a0e-b749-48c8-913d-fd333a320571",
   "metadata": {},
   "outputs": [
    {
     "name": "stdout",
     "output_type": "stream",
     "text": [
      "pos\n",
      "p\n"
     ]
    }
   ],
   "source": [
    "\n",
    "x=25\n",
    "if x>0:\n",
    "    print('pos')\n",
    "    if x>10:\n",
    "        print('p')\n",
    "    elif x<10:\n",
    "        print('n')\n",
    "      \n",
    "elif x<0:\n",
    "    print('neg')\n",
    "    if x>-10:\n",
    "        print('p')\n",
    "    elif x<-10:\n",
    "        print('n')\n",
    "      \n",
    "else:\n",
    "    print('zero')"
   ]
  },
  {
   "cell_type": "code",
   "execution_count": 42,
   "id": "33864aa9-8ec4-4f88-9cf6-d01c6ce5a9d9",
   "metadata": {},
   "outputs": [
    {
     "name": "stdout",
     "output_type": "stream",
     "text": [
      "zero\n"
     ]
    }
   ],
   "source": [
    "x=0\n",
    "if x>0:\n",
    "    print('pos')\n",
    "    if x>10:\n",
    "        print('p')\n",
    "    elif x<10:\n",
    "        print('n')\n",
    "      \n",
    "elif x<0:\n",
    "    print('neg')\n",
    "    if x>-10:\n",
    "        print('p')\n",
    "    elif x<-10:\n",
    "        print('n')\n",
    "      \n",
    "else:\n",
    "    print('zero')"
   ]
  },
  {
   "cell_type": "code",
   "execution_count": 58,
   "id": "41b0a78b-7897-4a91-a32b-2b48b23b74d8",
   "metadata": {},
   "outputs": [
    {
     "name": "stdin",
     "output_type": "stream",
     "text": [
      " Tiger\n"
     ]
    },
    {
     "name": "stdout",
     "output_type": "stream",
     "text": [
      "yes\n"
     ]
    }
   ],
   "source": [
    "x=str(input())\n",
    "if x[0]=='T' or x[0]=='t' :\n",
    "    print('yes')\n",
    "else:\n",
    "    print('no')\n"
   ]
  },
  {
   "cell_type": "code",
   "execution_count": 72,
   "id": "839e07e0-64d8-446a-bb1e-1da25d1931de",
   "metadata": {},
   "outputs": [
    {
     "name": "stdin",
     "output_type": "stream",
     "text": [
      " super\n"
     ]
    },
    {
     "name": "stdout",
     "output_type": "stream",
     "text": [
      "yes\n"
     ]
    }
   ],
   "source": [
    "x=str(input())\n",
    "if (x[0]=='T'or'S'or'M')or (x[0]=='t'or's'or'm') :\n",
    "    print('yes')\n",
    "else:\n",
    "    print('no')\n",
    "    \n"
   ]
  },
  {
   "cell_type": "code",
   "execution_count": 74,
   "id": "aaf1cbac-5213-4bbc-8e57-5b444467b332",
   "metadata": {},
   "outputs": [
    {
     "name": "stdin",
     "output_type": "stream",
     "text": [
      " tiger\n"
     ]
    },
    {
     "name": "stdout",
     "output_type": "stream",
     "text": [
      "yes\n"
     ]
    }
   ],
   "source": [
    "x=str(input())\n",
    "if x[0].lower()=='t'or'T' :\n",
    "    print('yes')\n",
    "else:\n",
    "    print('no')\n"
   ]
  },
  {
   "cell_type": "code",
   "execution_count": 76,
   "id": "95d1993a-4d1c-462b-a9c7-5aced1d571a4",
   "metadata": {},
   "outputs": [
    {
     "name": "stdin",
     "output_type": "stream",
     "text": [
      " Tree\n"
     ]
    },
    {
     "name": "stdout",
     "output_type": "stream",
     "text": [
      "yes\n"
     ]
    }
   ],
   "source": [
    "x=str(input())\n",
    "if x[0].lower()=='t'or'T' :\n",
    "    print('yes')\n",
    "else:\n",
    "    print('no')\n"
   ]
  },
  {
   "cell_type": "code",
   "execution_count": 78,
   "id": "ae959555-247c-4e18-8f63-bea781255480",
   "metadata": {},
   "outputs": [
    {
     "name": "stdin",
     "output_type": "stream",
     "text": [
      " mouse\n"
     ]
    },
    {
     "name": "stdout",
     "output_type": "stream",
     "text": [
      "yes\n"
     ]
    }
   ],
   "source": [
    "x=str(input())\n",
    "if x[0].lower() in ('t','s','m') :\n",
    "    print('yes')\n",
    "else:\n",
    "    print('no')\n"
   ]
  },
  {
   "cell_type": "code",
   "execution_count": 80,
   "id": "38bb0404-d665-4383-90e4-1bbd4a102855",
   "metadata": {},
   "outputs": [
    {
     "name": "stdin",
     "output_type": "stream",
     "text": [
      " home\n"
     ]
    },
    {
     "name": "stdout",
     "output_type": "stream",
     "text": [
      "no\n"
     ]
    }
   ],
   "source": [
    "x=str(input())\n",
    "if x[0].lower() in ('t','s','m') :\n",
    "    print('yes')\n",
    "else:\n",
    "    print('no')\n"
   ]
  },
  {
   "cell_type": "code",
   "execution_count": null,
   "id": "6d810b65-fcba-44e3-a89b-e4e1e616e97f",
   "metadata": {},
   "outputs": [],
   "source": []
  }
 ],
 "metadata": {
  "kernelspec": {
   "display_name": "Python [conda env:base] *",
   "language": "python",
   "name": "conda-base-py"
  },
  "language_info": {
   "codemirror_mode": {
    "name": "ipython",
    "version": 3
   },
   "file_extension": ".py",
   "mimetype": "text/x-python",
   "name": "python",
   "nbconvert_exporter": "python",
   "pygments_lexer": "ipython3",
   "version": "3.12.7"
  }
 },
 "nbformat": 4,
 "nbformat_minor": 5
}
