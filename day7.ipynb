{
 "cells": [
  {
   "cell_type": "code",
   "execution_count": 1,
   "id": "153b4b93-c0f6-4fba-9957-54a044707d61",
   "metadata": {},
   "outputs": [],
   "source": [
    "import numpy as np"
   ]
  },
  {
   "cell_type": "code",
   "execution_count": 42,
   "id": "6b27d130-e59d-4292-9c88-1c8306636a38",
   "metadata": {},
   "outputs": [],
   "source": [
    "j=[4,6,2,3,8,9]"
   ]
  },
  {
   "cell_type": "code",
   "execution_count": 43,
   "id": "3a074af0-ea4a-40e7-9f8b-b898d59a7f13",
   "metadata": {},
   "outputs": [],
   "source": [
    "d=np.array(j)"
   ]
  },
  {
   "cell_type": "code",
   "execution_count": 44,
   "id": "dbd3b2f6-5d59-44a0-9362-1b05be082b30",
   "metadata": {},
   "outputs": [
    {
     "data": {
      "text/plain": [
       "list"
      ]
     },
     "execution_count": 44,
     "metadata": {},
     "output_type": "execute_result"
    }
   ],
   "source": [
    "type(j)"
   ]
  },
  {
   "cell_type": "code",
   "execution_count": 45,
   "id": "09f1df6e-a1b9-48ca-9c72-4cca763151c4",
   "metadata": {},
   "outputs": [
    {
     "data": {
      "text/plain": [
       "[4, 6, 2, 3, 8, 9]"
      ]
     },
     "execution_count": 45,
     "metadata": {},
     "output_type": "execute_result"
    }
   ],
   "source": [
    "j"
   ]
  },
  {
   "cell_type": "code",
   "execution_count": 46,
   "id": "69d2c8bc-f739-484b-8587-79e66f97b355",
   "metadata": {},
   "outputs": [
    {
     "data": {
      "text/plain": [
       "array([4, 6, 2, 3, 8, 9])"
      ]
     },
     "execution_count": 46,
     "metadata": {},
     "output_type": "execute_result"
    }
   ],
   "source": [
    "d"
   ]
  },
  {
   "cell_type": "code",
   "execution_count": 47,
   "id": "7771980a-e6d1-4707-8865-13b399ade613",
   "metadata": {},
   "outputs": [
    {
     "data": {
      "text/plain": [
       "numpy.ndarray"
      ]
     },
     "execution_count": 47,
     "metadata": {},
     "output_type": "execute_result"
    }
   ],
   "source": [
    "type(d)"
   ]
  },
  {
   "cell_type": "code",
   "execution_count": 48,
   "id": "fa495210-e68f-4dd8-b832-305329b1cca3",
   "metadata": {},
   "outputs": [
    {
     "data": {
      "text/plain": [
       "(4, 6, 2, 3, 8, 9)"
      ]
     },
     "execution_count": 48,
     "metadata": {},
     "output_type": "execute_result"
    }
   ],
   "source": [
    "tuple(j)"
   ]
  },
  {
   "cell_type": "code",
   "execution_count": 49,
   "id": "f072e3fc-6664-4021-abd1-68894614f661",
   "metadata": {},
   "outputs": [
    {
     "data": {
      "text/plain": [
       "[4, 6, 2, 3, 8, 9]"
      ]
     },
     "execution_count": 49,
     "metadata": {},
     "output_type": "execute_result"
    }
   ],
   "source": [
    "j"
   ]
  },
  {
   "cell_type": "code",
   "execution_count": 50,
   "id": "caf750d2-7906-48be-940e-20b90d12c00a",
   "metadata": {},
   "outputs": [
    {
     "data": {
      "text/plain": [
       "(6,)"
      ]
     },
     "execution_count": 50,
     "metadata": {},
     "output_type": "execute_result"
    }
   ],
   "source": [
    "d.shape"
   ]
  },
  {
   "cell_type": "code",
   "execution_count": 51,
   "id": "85486a46-2ec2-483a-8ad2-6ce9faf5961b",
   "metadata": {},
   "outputs": [
    {
     "data": {
      "text/plain": [
       "1"
      ]
     },
     "execution_count": 51,
     "metadata": {},
     "output_type": "execute_result"
    }
   ],
   "source": [
    "d.ndim"
   ]
  },
  {
   "cell_type": "code",
   "execution_count": 52,
   "id": "55865006-4824-43d4-aeaa-8398a2501372",
   "metadata": {},
   "outputs": [
    {
     "data": {
      "text/plain": [
       "[[4, 8, 90, 12],\n",
       " [56, 7, 54, 20],\n",
       " [67, 89, 50, 49],\n",
       " [77, 88, 22, 55],\n",
       " [90, 40, 70, 60]]"
      ]
     },
     "execution_count": 52,
     "metadata": {},
     "output_type": "execute_result"
    }
   ],
   "source": [
    "s=[[4,8,90,12],[56,7,54,20],[67,89,50,49],[77,88,22,55],[90,40,70,60]]\n",
    "s"
   ]
  },
  {
   "cell_type": "code",
   "execution_count": 53,
   "id": "8bd6d370-caf7-4d5c-a766-68bae55fb001",
   "metadata": {},
   "outputs": [
    {
     "data": {
      "text/plain": [
       "list"
      ]
     },
     "execution_count": 53,
     "metadata": {},
     "output_type": "execute_result"
    }
   ],
   "source": [
    "type(s)"
   ]
  },
  {
   "cell_type": "code",
   "execution_count": 54,
   "id": "1a8d19f4-4abb-49ce-a206-e76c465bac68",
   "metadata": {},
   "outputs": [],
   "source": [
    "arr1=np.array(s)"
   ]
  },
  {
   "cell_type": "code",
   "execution_count": 55,
   "id": "5aca99a5-9bb1-46c7-bf14-366d3acb71f6",
   "metadata": {},
   "outputs": [
    {
     "data": {
      "text/plain": [
       "array([[ 4,  8, 90, 12],\n",
       "       [56,  7, 54, 20],\n",
       "       [67, 89, 50, 49],\n",
       "       [77, 88, 22, 55],\n",
       "       [90, 40, 70, 60]])"
      ]
     },
     "execution_count": 55,
     "metadata": {},
     "output_type": "execute_result"
    }
   ],
   "source": [
    "arr1"
   ]
  },
  {
   "cell_type": "code",
   "execution_count": 56,
   "id": "e164cf80-9637-4d23-9906-2378bfe2a264",
   "metadata": {},
   "outputs": [
    {
     "data": {
      "text/plain": [
       "(5, 4)"
      ]
     },
     "execution_count": 56,
     "metadata": {},
     "output_type": "execute_result"
    }
   ],
   "source": [
    "arr1.shape"
   ]
  },
  {
   "cell_type": "code",
   "execution_count": 57,
   "id": "2f69ad16-5ef1-4d88-92a1-3a2ced3fa336",
   "metadata": {},
   "outputs": [
    {
     "data": {
      "text/plain": [
       "20"
      ]
     },
     "execution_count": 57,
     "metadata": {},
     "output_type": "execute_result"
    }
   ],
   "source": [
    "arr1.size"
   ]
  },
  {
   "cell_type": "code",
   "execution_count": 58,
   "id": "569c939d-04ac-4a46-bb4c-5113e9fb334b",
   "metadata": {},
   "outputs": [
    {
     "data": {
      "text/plain": [
       "2"
      ]
     },
     "execution_count": 58,
     "metadata": {},
     "output_type": "execute_result"
    }
   ],
   "source": [
    "arr1.ndim"
   ]
  },
  {
   "cell_type": "code",
   "execution_count": 69,
   "id": "255493ef-34af-4a0b-a8fa-68d6d0d167b0",
   "metadata": {},
   "outputs": [
    {
     "data": {
      "text/plain": [
       "array([[4, 6],\n",
       "       [2, 3],\n",
       "       [8, 9]])"
      ]
     },
     "execution_count": 69,
     "metadata": {},
     "output_type": "execute_result"
    }
   ],
   "source": [
    "h=d.reshape(3,2)\n",
    "h"
   ]
  },
  {
   "cell_type": "code",
   "execution_count": 62,
   "id": "6bf9e616-56ad-4682-b6db-68578d67fc6a",
   "metadata": {},
   "outputs": [
    {
     "data": {
      "text/plain": [
       "array([[4],\n",
       "       [6],\n",
       "       [2],\n",
       "       [3],\n",
       "       [8],\n",
       "       [9]])"
      ]
     },
     "execution_count": 62,
     "metadata": {},
     "output_type": "execute_result"
    }
   ],
   "source": [
    "d.reshape(6,1)"
   ]
  },
  {
   "cell_type": "code",
   "execution_count": 63,
   "id": "8ae65b16-f4c5-41b3-b371-be2a62f1f9fb",
   "metadata": {},
   "outputs": [
    {
     "data": {
      "text/plain": [
       "6"
      ]
     },
     "execution_count": 63,
     "metadata": {},
     "output_type": "execute_result"
    }
   ],
   "source": [
    "h.size"
   ]
  },
  {
   "cell_type": "code",
   "execution_count": 64,
   "id": "6d810225-4121-4bb5-9a19-7de0f7263847",
   "metadata": {},
   "outputs": [
    {
     "data": {
      "text/plain": [
       "2"
      ]
     },
     "execution_count": 64,
     "metadata": {},
     "output_type": "execute_result"
    }
   ],
   "source": [
    "h.ndim\n"
   ]
  },
  {
   "cell_type": "code",
   "execution_count": 65,
   "id": "4e97db6c-24b4-4672-8bbd-d002db72d9f7",
   "metadata": {},
   "outputs": [
    {
     "data": {
      "text/plain": [
       "(5, 4)"
      ]
     },
     "execution_count": 65,
     "metadata": {},
     "output_type": "execute_result"
    }
   ],
   "source": [
    "arr1.shape"
   ]
  },
  {
   "cell_type": "code",
   "execution_count": 66,
   "id": "9a7150fc-1ad2-493f-a982-665690e84027",
   "metadata": {},
   "outputs": [],
   "source": [
    "k=[8,4,5,84,54,58,44,54,15,17,15,16,165,235,3565,236,2652,86,286,235,35,74,5,36,25,354]"
   ]
  },
  {
   "cell_type": "code",
   "execution_count": 67,
   "id": "42cb4f15-a014-4853-93ec-a016fb1b7496",
   "metadata": {},
   "outputs": [],
   "source": [
    "z=np.array(k)"
   ]
  },
  {
   "cell_type": "code",
   "execution_count": 68,
   "id": "62659548-7534-4e39-82eb-b9618e92fcaa",
   "metadata": {},
   "outputs": [
    {
     "data": {
      "text/plain": [
       "array([   8,    4,    5,   84,   54,   58,   44,   54,   15,   17,   15,\n",
       "         16,  165,  235, 3565,  236, 2652,   86,  286,  235,   35,   74,\n",
       "          5,   36,   25,  354])"
      ]
     },
     "execution_count": 68,
     "metadata": {},
     "output_type": "execute_result"
    }
   ],
   "source": [
    "z"
   ]
  },
  {
   "cell_type": "code",
   "execution_count": 73,
   "id": "b7f83560-c47f-43fa-b929-58ddd66e07c0",
   "metadata": {},
   "outputs": [],
   "source": [
    "y=z.reshape(1,26)"
   ]
  },
  {
   "cell_type": "code",
   "execution_count": 74,
   "id": "f0d5f875-855e-45d1-bac1-7187eb699af3",
   "metadata": {},
   "outputs": [
    {
     "data": {
      "text/plain": [
       "array([[   8,    4,    5,   84,   54,   58,   44,   54,   15,   17,   15,\n",
       "          16,  165,  235, 3565,  236, 2652,   86,  286,  235,   35,   74,\n",
       "           5,   36,   25,  354]])"
      ]
     },
     "execution_count": 74,
     "metadata": {},
     "output_type": "execute_result"
    }
   ],
   "source": [
    "y"
   ]
  },
  {
   "cell_type": "code",
   "execution_count": 76,
   "id": "3b0fb421-8861-4924-ae5d-7d9caf878f90",
   "metadata": {},
   "outputs": [
    {
     "data": {
      "text/plain": [
       "array([[   8],\n",
       "       [   4],\n",
       "       [   5],\n",
       "       [  84],\n",
       "       [  54],\n",
       "       [  58],\n",
       "       [  44],\n",
       "       [  54],\n",
       "       [  15],\n",
       "       [  17],\n",
       "       [  15],\n",
       "       [  16],\n",
       "       [ 165],\n",
       "       [ 235],\n",
       "       [3565],\n",
       "       [ 236],\n",
       "       [2652],\n",
       "       [  86],\n",
       "       [ 286],\n",
       "       [ 235],\n",
       "       [  35],\n",
       "       [  74],\n",
       "       [   5],\n",
       "       [  36],\n",
       "       [  25],\n",
       "       [ 354]])"
      ]
     },
     "execution_count": 76,
     "metadata": {},
     "output_type": "execute_result"
    }
   ],
   "source": [
    "z.reshape(26,1)"
   ]
  },
  {
   "cell_type": "code",
   "execution_count": 77,
   "id": "b71605c2-11bc-43f9-b356-a125695d01d7",
   "metadata": {},
   "outputs": [
    {
     "data": {
      "text/plain": [
       "[8,\n",
       " 4,\n",
       " 5,\n",
       " 84,\n",
       " 54,\n",
       " 58,\n",
       " 44,\n",
       " 54,\n",
       " 15,\n",
       " 17,\n",
       " 15,\n",
       " 16,\n",
       " 165,\n",
       " 235,\n",
       " 3565,\n",
       " 236,\n",
       " 2652,\n",
       " 86,\n",
       " 286,\n",
       " 235,\n",
       " 35,\n",
       " 74,\n",
       " 5,\n",
       " 36,\n",
       " 25,\n",
       " 354]"
      ]
     },
     "execution_count": 77,
     "metadata": {},
     "output_type": "execute_result"
    }
   ],
   "source": [
    "k"
   ]
  },
  {
   "cell_type": "code",
   "execution_count": 79,
   "id": "3a3792a8-a934-4ed7-92ed-06049d41aacf",
   "metadata": {},
   "outputs": [
    {
     "data": {
      "text/plain": [
       "[3,\n",
       " 4,\n",
       " 5,\n",
       " 6,\n",
       " 7,\n",
       " 8,\n",
       " 9,\n",
       " 10,\n",
       " 11,\n",
       " 12,\n",
       " 13,\n",
       " 14,\n",
       " 15,\n",
       " 16,\n",
       " 17,\n",
       " 18,\n",
       " 19,\n",
       " 20,\n",
       " 21,\n",
       " 22,\n",
       " 23,\n",
       " 24,\n",
       " 25,\n",
       " 26,\n",
       " 27,\n",
       " 28,\n",
       " 29,\n",
       " 30,\n",
       " 31,\n",
       " 32,\n",
       " 33,\n",
       " 34,\n",
       " 35,\n",
       " 36,\n",
       " 37,\n",
       " 38,\n",
       " 39,\n",
       " 40,\n",
       " 41,\n",
       " 42,\n",
       " 43,\n",
       " 44,\n",
       " 45,\n",
       " 46,\n",
       " 47,\n",
       " 48,\n",
       " 49,\n",
       " 50,\n",
       " 51,\n",
       " 52,\n",
       " 53,\n",
       " 54,\n",
       " 55,\n",
       " 56,\n",
       " 57,\n",
       " 58,\n",
       " 59,\n",
       " 60,\n",
       " 61,\n",
       " 62,\n",
       " 63,\n",
       " 64,\n",
       " 65,\n",
       " 66,\n",
       " 67,\n",
       " 68,\n",
       " 69,\n",
       " 70,\n",
       " 71,\n",
       " 72,\n",
       " 73,\n",
       " 74,\n",
       " 75,\n",
       " 76,\n",
       " 77,\n",
       " 78,\n",
       " 79,\n",
       " 80,\n",
       " 81,\n",
       " 82,\n",
       " 83,\n",
       " 84,\n",
       " 85,\n",
       " 86,\n",
       " 87,\n",
       " 88,\n",
       " 89,\n",
       " 90,\n",
       " 91,\n",
       " 92,\n",
       " 93,\n",
       " 94,\n",
       " 95,\n",
       " 96,\n",
       " 97,\n",
       " 98,\n",
       " 99]"
      ]
     },
     "execution_count": 79,
     "metadata": {},
     "output_type": "execute_result"
    }
   ],
   "source": [
    "list(range(3,100))"
   ]
  },
  {
   "cell_type": "code",
   "execution_count": 80,
   "id": "543bf8b2-6e80-4887-be0a-41d5be4c3e4d",
   "metadata": {},
   "outputs": [
    {
     "data": {
      "text/plain": [
       "[3,\n",
       " 5,\n",
       " 7,\n",
       " 9,\n",
       " 11,\n",
       " 13,\n",
       " 15,\n",
       " 17,\n",
       " 19,\n",
       " 21,\n",
       " 23,\n",
       " 25,\n",
       " 27,\n",
       " 29,\n",
       " 31,\n",
       " 33,\n",
       " 35,\n",
       " 37,\n",
       " 39,\n",
       " 41,\n",
       " 43,\n",
       " 45,\n",
       " 47,\n",
       " 49,\n",
       " 51,\n",
       " 53,\n",
       " 55,\n",
       " 57,\n",
       " 59,\n",
       " 61,\n",
       " 63,\n",
       " 65,\n",
       " 67,\n",
       " 69,\n",
       " 71,\n",
       " 73,\n",
       " 75,\n",
       " 77,\n",
       " 79,\n",
       " 81,\n",
       " 83,\n",
       " 85,\n",
       " 87,\n",
       " 89,\n",
       " 91,\n",
       " 93,\n",
       " 95,\n",
       " 97,\n",
       " 99]"
      ]
     },
     "execution_count": 80,
     "metadata": {},
     "output_type": "execute_result"
    }
   ],
   "source": [
    "list(range(3,100,2))"
   ]
  },
  {
   "cell_type": "code",
   "execution_count": 81,
   "id": "9ce3d83c-889b-410e-91df-a0fe57a00c40",
   "metadata": {},
   "outputs": [
    {
     "data": {
      "text/plain": [
       "[3, 13, 23, 33, 43, 53, 63, 73, 83, 93]"
      ]
     },
     "execution_count": 81,
     "metadata": {},
     "output_type": "execute_result"
    }
   ],
   "source": [
    "list(range(3,100,10))"
   ]
  },
  {
   "cell_type": "code",
   "execution_count": 83,
   "id": "d1fe6bf0-a3eb-493d-ad59-880f8fb9b692",
   "metadata": {},
   "outputs": [
    {
     "data": {
      "text/plain": [
       "(3,\n",
       " 4,\n",
       " 5,\n",
       " 6,\n",
       " 7,\n",
       " 8,\n",
       " 9,\n",
       " 10,\n",
       " 11,\n",
       " 12,\n",
       " 13,\n",
       " 14,\n",
       " 15,\n",
       " 16,\n",
       " 17,\n",
       " 18,\n",
       " 19,\n",
       " 20,\n",
       " 21,\n",
       " 22,\n",
       " 23,\n",
       " 24,\n",
       " 25,\n",
       " 26,\n",
       " 27,\n",
       " 28,\n",
       " 29,\n",
       " 30,\n",
       " 31,\n",
       " 32,\n",
       " 33,\n",
       " 34,\n",
       " 35,\n",
       " 36,\n",
       " 37,\n",
       " 38,\n",
       " 39,\n",
       " 40,\n",
       " 41,\n",
       " 42,\n",
       " 43,\n",
       " 44,\n",
       " 45,\n",
       " 46,\n",
       " 47,\n",
       " 48,\n",
       " 49,\n",
       " 50,\n",
       " 51,\n",
       " 52,\n",
       " 53,\n",
       " 54,\n",
       " 55,\n",
       " 56,\n",
       " 57,\n",
       " 58,\n",
       " 59,\n",
       " 60,\n",
       " 61,\n",
       " 62,\n",
       " 63,\n",
       " 64,\n",
       " 65,\n",
       " 66,\n",
       " 67,\n",
       " 68,\n",
       " 69,\n",
       " 70,\n",
       " 71,\n",
       " 72,\n",
       " 73,\n",
       " 74,\n",
       " 75,\n",
       " 76,\n",
       " 77,\n",
       " 78,\n",
       " 79,\n",
       " 80,\n",
       " 81,\n",
       " 82,\n",
       " 83,\n",
       " 84,\n",
       " 85,\n",
       " 86,\n",
       " 87,\n",
       " 88,\n",
       " 89,\n",
       " 90,\n",
       " 91,\n",
       " 92,\n",
       " 93,\n",
       " 94,\n",
       " 95,\n",
       " 96,\n",
       " 97,\n",
       " 98,\n",
       " 99)"
      ]
     },
     "execution_count": 83,
     "metadata": {},
     "output_type": "execute_result"
    }
   ],
   "source": [
    "tuple(range(3,100))"
   ]
  },
  {
   "cell_type": "code",
   "execution_count": 84,
   "id": "98c7d91f-557a-4439-8e46-4edfe2f55dff",
   "metadata": {},
   "outputs": [
    {
     "data": {
      "text/plain": [
       "(3,\n",
       " 6,\n",
       " 9,\n",
       " 12,\n",
       " 15,\n",
       " 18,\n",
       " 21,\n",
       " 24,\n",
       " 27,\n",
       " 30,\n",
       " 33,\n",
       " 36,\n",
       " 39,\n",
       " 42,\n",
       " 45,\n",
       " 48,\n",
       " 51,\n",
       " 54,\n",
       " 57,\n",
       " 60,\n",
       " 63,\n",
       " 66,\n",
       " 69,\n",
       " 72,\n",
       " 75,\n",
       " 78,\n",
       " 81,\n",
       " 84,\n",
       " 87,\n",
       " 90,\n",
       " 93,\n",
       " 96,\n",
       " 99)"
      ]
     },
     "execution_count": 84,
     "metadata": {},
     "output_type": "execute_result"
    }
   ],
   "source": [
    "tuple(range(3,100,3))"
   ]
  },
  {
   "cell_type": "code",
   "execution_count": 85,
   "id": "a4ec8468-f079-45c8-8d45-d69e5db71b62",
   "metadata": {},
   "outputs": [
    {
     "data": {
      "text/plain": [
       "(3, 13, 23, 33, 43, 53, 63, 73, 83, 93)"
      ]
     },
     "execution_count": 85,
     "metadata": {},
     "output_type": "execute_result"
    }
   ],
   "source": [
    "tuple(range(3,100,10))"
   ]
  },
  {
   "cell_type": "code",
   "execution_count": 86,
   "id": "f10083eb-8b7f-4f20-b0ab-10b7c2836cea",
   "metadata": {},
   "outputs": [
    {
     "data": {
      "text/plain": [
       "[-30,\n",
       " -29,\n",
       " -28,\n",
       " -27,\n",
       " -26,\n",
       " -25,\n",
       " -24,\n",
       " -23,\n",
       " -22,\n",
       " -21,\n",
       " -20,\n",
       " -19,\n",
       " -18,\n",
       " -17,\n",
       " -16,\n",
       " -15,\n",
       " -14,\n",
       " -13,\n",
       " -12,\n",
       " -11,\n",
       " -10,\n",
       " -9,\n",
       " -8,\n",
       " -7,\n",
       " -6,\n",
       " -5,\n",
       " -4,\n",
       " -3,\n",
       " -2,\n",
       " -1,\n",
       " 0,\n",
       " 1,\n",
       " 2,\n",
       " 3,\n",
       " 4,\n",
       " 5,\n",
       " 6,\n",
       " 7,\n",
       " 8,\n",
       " 9,\n",
       " 10,\n",
       " 11,\n",
       " 12,\n",
       " 13,\n",
       " 14,\n",
       " 15,\n",
       " 16,\n",
       " 17,\n",
       " 18,\n",
       " 19,\n",
       " 20,\n",
       " 21,\n",
       " 22,\n",
       " 23,\n",
       " 24,\n",
       " 25,\n",
       " 26,\n",
       " 27,\n",
       " 28,\n",
       " 29,\n",
       " 30,\n",
       " 31,\n",
       " 32,\n",
       " 33,\n",
       " 34,\n",
       " 35,\n",
       " 36,\n",
       " 37,\n",
       " 38,\n",
       " 39,\n",
       " 40,\n",
       " 41,\n",
       " 42,\n",
       " 43,\n",
       " 44,\n",
       " 45,\n",
       " 46,\n",
       " 47,\n",
       " 48,\n",
       " 49,\n",
       " 50,\n",
       " 51,\n",
       " 52,\n",
       " 53,\n",
       " 54,\n",
       " 55,\n",
       " 56,\n",
       " 57,\n",
       " 58,\n",
       " 59,\n",
       " 60,\n",
       " 61,\n",
       " 62,\n",
       " 63,\n",
       " 64,\n",
       " 65,\n",
       " 66,\n",
       " 67,\n",
       " 68,\n",
       " 69,\n",
       " 70,\n",
       " 71,\n",
       " 72,\n",
       " 73,\n",
       " 74,\n",
       " 75,\n",
       " 76,\n",
       " 77,\n",
       " 78,\n",
       " 79,\n",
       " 80,\n",
       " 81,\n",
       " 82,\n",
       " 83,\n",
       " 84,\n",
       " 85,\n",
       " 86,\n",
       " 87,\n",
       " 88,\n",
       " 89,\n",
       " 90,\n",
       " 91,\n",
       " 92,\n",
       " 93,\n",
       " 94,\n",
       " 95,\n",
       " 96,\n",
       " 97,\n",
       " 98,\n",
       " 99]"
      ]
     },
     "execution_count": 86,
     "metadata": {},
     "output_type": "execute_result"
    }
   ],
   "source": [
    "list(range(-30,100))"
   ]
  },
  {
   "cell_type": "code",
   "execution_count": 87,
   "id": "c1f5d502-7fbf-456f-a08a-1f4d679ed52f",
   "metadata": {},
   "outputs": [
    {
     "data": {
      "text/plain": [
       "[]"
      ]
     },
     "execution_count": 87,
     "metadata": {},
     "output_type": "execute_result"
    }
   ],
   "source": [
    "list(range(-1,-10))"
   ]
  },
  {
   "cell_type": "code",
   "execution_count": 88,
   "id": "76471718-ab43-4652-8bda-a55f8fd9da73",
   "metadata": {},
   "outputs": [
    {
     "data": {
      "text/plain": [
       "[-1, -2, -3, -4, -5, -6, -7, -8, -9]"
      ]
     },
     "execution_count": 88,
     "metadata": {},
     "output_type": "execute_result"
    }
   ],
   "source": [
    "list(range(-1,-10,-1))"
   ]
  },
  {
   "cell_type": "code",
   "execution_count": 92,
   "id": "9ea94d4e-1ea1-4892-8995-d7defa122c6e",
   "metadata": {},
   "outputs": [
    {
     "data": {
      "text/plain": [
       "array([], dtype=float64)"
      ]
     },
     "execution_count": 92,
     "metadata": {},
     "output_type": "execute_result"
    }
   ],
   "source": [
    "np.arange(-1,-10,0.5)"
   ]
  },
  {
   "cell_type": "code",
   "execution_count": 94,
   "id": "6914a667-c28d-4906-80ae-9034e558a544",
   "metadata": {},
   "outputs": [
    {
     "ename": "NameError",
     "evalue": "name 'arange' is not defined",
     "output_type": "error",
     "traceback": [
      "\u001b[1;31m---------------------------------------------------------------------------\u001b[0m",
      "\u001b[1;31mNameError\u001b[0m                                 Traceback (most recent call last)",
      "Cell \u001b[1;32mIn[94], line 1\u001b[0m\n\u001b[1;32m----> 1\u001b[0m \u001b[38;5;28mlist\u001b[39m(arange(\u001b[38;5;241m-\u001b[39m\u001b[38;5;241m1\u001b[39m,\u001b[38;5;241m-\u001b[39m\u001b[38;5;241m10\u001b[39m,\u001b[38;5;241m0.5\u001b[39m))\n",
      "\u001b[1;31mNameError\u001b[0m: name 'arange' is not defined"
     ]
    }
   ],
   "source": [
    "list(arange(-1,-10,0.5))"
   ]
  },
  {
   "cell_type": "code",
   "execution_count": 99,
   "id": "1d46b0a7-5a5a-40e1-aa57-b8caa4b1d3a3",
   "metadata": {},
   "outputs": [
    {
     "name": "stdout",
     "output_type": "stream",
     "text": [
      "data 5\n",
      "data 10\n",
      "data 15\n",
      "data 20\n",
      "data 25\n",
      "data 30\n",
      "data 35\n",
      "data 40\n",
      "data 45\n",
      "data 50\n",
      "data 55\n",
      "data 60\n",
      "data 65\n",
      "data 70\n",
      "data 75\n",
      "data 80\n",
      "data 85\n",
      "data 90\n",
      "data 95\n",
      "data 100\n",
      "data 105\n",
      "data 110\n",
      "data 115\n",
      "data 120\n",
      "data 125\n",
      "data 130\n",
      "data 135\n",
      "data 140\n",
      "data 145\n",
      "data 150\n",
      "data 155\n",
      "data 160\n",
      "data 165\n",
      "data 170\n",
      "data 175\n",
      "data 180\n",
      "data 185\n",
      "data 190\n",
      "data 195\n",
      "data 200\n",
      "data 205\n",
      "data 210\n",
      "data 215\n",
      "data 220\n",
      "data 225\n",
      "data 230\n",
      "data 235\n",
      "data 240\n",
      "data 245\n",
      "data 250\n",
      "data 255\n",
      "data 260\n",
      "data 265\n",
      "data 270\n",
      "data 275\n",
      "data 280\n",
      "data 285\n",
      "data 290\n",
      "data 295\n",
      "data 300\n",
      "data 305\n",
      "data 310\n",
      "data 315\n",
      "data 320\n",
      "data 325\n",
      "data 330\n",
      "data 335\n",
      "data 340\n",
      "data 345\n",
      "data 350\n",
      "data 355\n",
      "data 360\n",
      "data 365\n",
      "data 370\n",
      "data 375\n",
      "data 380\n",
      "data 385\n",
      "data 390\n",
      "data 395\n",
      "data 400\n",
      "data 405\n",
      "data 410\n",
      "data 415\n",
      "data 420\n",
      "data 425\n",
      "data 430\n",
      "data 435\n",
      "data 440\n",
      "data 445\n",
      "data 450\n",
      "data 455\n",
      "data 460\n",
      "data 465\n",
      "data 470\n",
      "data 475\n",
      "data 480\n",
      "data 485\n",
      "data 490\n",
      "data 495\n"
     ]
    }
   ],
   "source": [
    "for i in range(5,500,5):\n",
    "    print('data',i)"
   ]
  },
  {
   "cell_type": "code",
   "execution_count": 95,
   "id": "79470c12-63c9-435d-b9e3-5928d648e9e6",
   "metadata": {},
   "outputs": [],
   "source": [
    "j=[5,45,42,65,64,25,14,254,124,6,5,54,2,5]"
   ]
  },
  {
   "cell_type": "code",
   "execution_count": 96,
   "id": "e14a9b4d-4323-483d-8e50-e2b6cc7a75fe",
   "metadata": {},
   "outputs": [
    {
     "data": {
      "text/plain": [
       "[5, 45, 42, 65, 64, 25, 14, 254, 124, 6, 5, 54, 2, 5]"
      ]
     },
     "execution_count": 96,
     "metadata": {},
     "output_type": "execute_result"
    }
   ],
   "source": [
    "j"
   ]
  },
  {
   "cell_type": "code",
   "execution_count": 102,
   "id": "ec0a350f-386e-41e5-8cce-c21999e81083",
   "metadata": {},
   "outputs": [],
   "source": [
    "even = [] \n",
    "odd = [] \n",
    "for i in range(len(j)):\n",
    "    if i % 2 == 0: \n",
    "        even.append(j[i]) \n",
    "    else: \n",
    "        odd.append(j[i]) \n",
    "        "
   ]
  },
  {
   "cell_type": "code",
   "execution_count": 106,
   "id": "ff7d2d15-04d0-4f02-b515-fa074784be95",
   "metadata": {},
   "outputs": [
    {
     "name": "stdout",
     "output_type": "stream",
     "text": [
      "5\n",
      "45\n",
      "42\n",
      "65\n",
      "64\n",
      "25\n",
      "14\n",
      "254\n",
      "124\n",
      "6\n",
      "5\n",
      "54\n",
      "2\n",
      "5\n"
     ]
    }
   ],
   "source": [
    "for i in j:\n",
    "    print(i)"
   ]
  },
  {
   "cell_type": "code",
   "execution_count": 103,
   "id": "36031379-1825-45a9-99f5-712184251ec8",
   "metadata": {},
   "outputs": [
    {
     "data": {
      "text/plain": [
       "[5, 42, 64, 14, 124, 5, 2]"
      ]
     },
     "execution_count": 103,
     "metadata": {},
     "output_type": "execute_result"
    }
   ],
   "source": [
    "even"
   ]
  },
  {
   "cell_type": "code",
   "execution_count": 104,
   "id": "fe807d6e-6146-4817-8505-4021992e5cc9",
   "metadata": {},
   "outputs": [
    {
     "data": {
      "text/plain": [
       "[45, 65, 25, 254, 6, 54, 5]"
      ]
     },
     "execution_count": 104,
     "metadata": {},
     "output_type": "execute_result"
    }
   ],
   "source": [
    "odd"
   ]
  },
  {
   "cell_type": "code",
   "execution_count": 11,
   "id": "51313f4d-e380-4fe6-a0c4-37290fb8bf41",
   "metadata": {},
   "outputs": [],
   "source": [
    "import numpy as np"
   ]
  },
  {
   "cell_type": "code",
   "execution_count": 13,
   "id": "f152c8dc-1ec7-449c-ac40-ac49d1465fc1",
   "metadata": {},
   "outputs": [
    {
     "data": {
      "text/plain": [
       "[5, 45, 42, 65, 64, 25, 14, 254, 124, 6, 5, 54, 2, 5]"
      ]
     },
     "execution_count": 13,
     "metadata": {},
     "output_type": "execute_result"
    }
   ],
   "source": [
    "j=[5,45,42,65,64,25,14,254,124,6,5,54,2,5]\n",
    "j"
   ]
  },
  {
   "cell_type": "code",
   "execution_count": null,
   "id": "f31798d4-beba-4f6e-8ac8-257222602891",
   "metadata": {},
   "outputs": [],
   "source": []
  },
  {
   "cell_type": "code",
   "execution_count": 15,
   "id": "3515796d-ca9e-492b-a47a-0293c9045214",
   "metadata": {},
   "outputs": [
    {
     "data": {
      "text/plain": [
       "array([  5,  45,  42,  65,  64,  25,  14, 254, 124,   6,   5,  54,   2,\n",
       "         5])"
      ]
     },
     "execution_count": 15,
     "metadata": {},
     "output_type": "execute_result"
    }
   ],
   "source": [
    "np.array([5,45,42,65,64,25,14,254,124,6,5,54,2,5])"
   ]
  },
  {
   "cell_type": "code",
   "execution_count": 17,
   "id": "882cd7e5-be49-47c3-a51d-66b4fa54c033",
   "metadata": {},
   "outputs": [
    {
     "data": {
      "text/plain": [
       "50.714285714285715"
      ]
     },
     "execution_count": 17,
     "metadata": {},
     "output_type": "execute_result"
    }
   ],
   "source": [
    "np.mean(j)"
   ]
  },
  {
   "cell_type": "code",
   "execution_count": 19,
   "id": "ca4fb6dd-6778-41ea-99da-c13e223ea3ca",
   "metadata": {},
   "outputs": [
    {
     "data": {
      "text/plain": [
       "33.5"
      ]
     },
     "execution_count": 19,
     "metadata": {},
     "output_type": "execute_result"
    }
   ],
   "source": [
    "np.median(j)"
   ]
  },
  {
   "cell_type": "code",
   "execution_count": 25,
   "id": "7e2ec75f-3d58-4ac7-aee3-946703343cac",
   "metadata": {},
   "outputs": [
    {
     "data": {
      "text/plain": [
       "5.25"
      ]
     },
     "execution_count": 25,
     "metadata": {},
     "output_type": "execute_result"
    }
   ],
   "source": [
    "np.quantile(j,0.25)"
   ]
  },
  {
   "cell_type": "code",
   "execution_count": 31,
   "id": "13444f6b-9fbd-4620-9124-8b472e8aab08",
   "metadata": {},
   "outputs": [
    {
     "data": {
      "text/plain": [
       "array([6.42170127e-01, 5.01380089e-01, 7.80178265e-01, 8.91095205e-01,\n",
       "       8.78163785e-01, 8.75270970e-01, 2.48678244e-01, 1.48707910e-01,\n",
       "       6.19824493e-03, 8.15900645e-01, 2.19854555e-01, 1.52698532e-01,\n",
       "       6.28390098e-01, 1.82121728e-01, 3.97202125e-01, 7.63621084e-01,\n",
       "       3.07677341e-01, 9.30322841e-01, 6.99836508e-01, 5.96050915e-02,\n",
       "       4.39682353e-01, 5.97955742e-01, 2.78454891e-01, 8.10031072e-01,\n",
       "       7.25639344e-01, 7.37877365e-02, 3.94460251e-01, 4.85597365e-01,\n",
       "       7.99742831e-01, 3.37535199e-01, 4.74117980e-01, 2.26346060e-01,\n",
       "       4.18412684e-01, 5.15554582e-01, 2.88773013e-01, 6.56355237e-03,\n",
       "       9.40629982e-01, 5.18808782e-01, 6.00436341e-01, 9.74712017e-01,\n",
       "       9.50360616e-01, 1.94480963e-01, 4.04743393e-01, 8.71032106e-01,\n",
       "       9.20825860e-01, 6.71971530e-01, 7.19604430e-01, 3.47434124e-01,\n",
       "       5.18520527e-01, 8.25700012e-01, 9.22498556e-01, 2.86350663e-01,\n",
       "       9.30625443e-01, 3.56627997e-02, 8.39642894e-01, 1.39119422e-02,\n",
       "       3.78531770e-01, 5.97659612e-01, 8.37908077e-01, 8.44596369e-01,\n",
       "       2.82113718e-01, 6.67632874e-01, 6.46812586e-01, 3.91321122e-01,\n",
       "       1.56388042e-01, 3.03318502e-01, 1.10696425e-01, 5.98501175e-02,\n",
       "       6.87621596e-01, 8.50462654e-01, 1.34479505e-02, 9.50668866e-01,\n",
       "       3.04128901e-01, 6.67332285e-01, 2.88589406e-02, 2.95072814e-01,\n",
       "       5.19104514e-01, 6.70700774e-01, 3.31960195e-01, 6.40728290e-01,\n",
       "       3.10485290e-04, 6.75627686e-01, 3.51415977e-01, 5.17735967e-01,\n",
       "       5.06957295e-01, 7.11220139e-01, 5.47208901e-01, 7.29972298e-01,\n",
       "       8.68379693e-01, 8.45087263e-01, 2.28215835e-01, 4.27547152e-01,\n",
       "       9.24520056e-01, 5.57789009e-01, 6.47083061e-01, 7.74108797e-01,\n",
       "       5.90790695e-01, 7.23548758e-01, 7.53097082e-01, 7.71408768e-01,\n",
       "       3.66928003e-01, 6.57946842e-01, 9.44356940e-01, 8.89259975e-01,\n",
       "       5.43759990e-01, 7.09694761e-01, 8.20439646e-01, 4.68610667e-01,\n",
       "       6.67590688e-01, 5.92022318e-01, 5.95849172e-01, 3.31055852e-01,\n",
       "       4.17512710e-02, 9.20423949e-01, 2.87255544e-01, 3.39781983e-01,\n",
       "       7.70532979e-01, 6.31135521e-01, 9.39825033e-01, 1.39231162e-01,\n",
       "       8.14912508e-01, 1.39271490e-01, 4.05600282e-01, 2.58845075e-01,\n",
       "       2.57898561e-01, 1.34018698e-01, 1.75496857e-01, 1.39214108e-01,\n",
       "       4.98268217e-01, 1.51750380e-01, 5.08988945e-01, 2.47230474e-01,\n",
       "       9.47861103e-01, 9.27811090e-01, 3.40883982e-01, 3.56955784e-01,\n",
       "       9.42094675e-01, 2.48293635e-01, 5.35335848e-01, 5.33883059e-01,\n",
       "       4.19380074e-01, 1.09466403e-01, 1.34168635e-01, 8.96254904e-01,\n",
       "       9.59375739e-02, 8.89529774e-02, 5.50385613e-02, 3.90395954e-01,\n",
       "       9.92262306e-01, 7.51520363e-01, 7.74313684e-01, 5.37959590e-01,\n",
       "       4.01655460e-01, 1.37039257e-01, 2.56757988e-01, 8.18465936e-01,\n",
       "       3.37799354e-01, 8.55939757e-01, 8.04521330e-01, 2.58921479e-02,\n",
       "       5.31635734e-02, 1.16968003e-01, 4.82091839e-01, 7.52527101e-01,\n",
       "       9.54529952e-01, 4.28726869e-01, 6.45486940e-01, 5.76988696e-01,\n",
       "       2.60657716e-01, 5.61760941e-01, 6.81343288e-01, 7.18843879e-01,\n",
       "       5.63630999e-01, 3.94104545e-01, 3.64344366e-01, 4.68184213e-01,\n",
       "       4.32723950e-01, 7.40059371e-01, 5.84439791e-01, 6.23741390e-01,\n",
       "       3.44169537e-01, 1.28753154e-01, 9.02197165e-01, 6.21015973e-01,\n",
       "       9.34772772e-01, 5.24940807e-01, 6.22172692e-01, 4.48847635e-01,\n",
       "       8.20681203e-01, 7.94638243e-01, 6.49145929e-01, 4.61708462e-01,\n",
       "       4.29344967e-01, 6.78373876e-01, 3.98306400e-01, 2.69487581e-01,\n",
       "       9.63806518e-01, 6.10531139e-01, 5.97370140e-01, 9.04046861e-01,\n",
       "       2.26542465e-01, 1.87756512e-01, 6.24590920e-01, 7.74474185e-01,\n",
       "       5.24315952e-01, 6.11964928e-01, 3.18223116e-01, 3.29033308e-01,\n",
       "       9.83908705e-01, 4.42289913e-01, 5.44010463e-01, 3.70286370e-01,\n",
       "       6.41945200e-01, 5.63466591e-01, 5.94805923e-01, 6.96019499e-01,\n",
       "       8.14740011e-01, 7.03731386e-01, 1.17946886e-01, 6.50093848e-01,\n",
       "       8.84541591e-01, 6.13806346e-02, 2.81852249e-01, 6.25860797e-01,\n",
       "       7.41031560e-01, 9.20059295e-01, 3.03217964e-01, 2.83628263e-01,\n",
       "       7.88031582e-01, 7.28495857e-01, 5.12526033e-01, 1.90825590e-01,\n",
       "       5.00696497e-01, 3.61965260e-01, 5.96648482e-02, 7.95338111e-01,\n",
       "       6.18268144e-01, 6.89457054e-01, 9.97066695e-01, 6.76108884e-01,\n",
       "       7.34759381e-01, 3.46776058e-01, 2.78782549e-01, 9.49979026e-01,\n",
       "       5.54102585e-01, 8.58543315e-01, 3.32836208e-02, 6.77359087e-01,\n",
       "       7.88638589e-01, 6.52688540e-01, 5.76797856e-01, 4.97058263e-01,\n",
       "       9.86452766e-01, 9.20087403e-01, 8.35240911e-01, 3.62511832e-01,\n",
       "       8.32849456e-01, 5.17068615e-01, 2.57357065e-02, 5.04436130e-01,\n",
       "       2.55474267e-01, 7.77501237e-02, 2.40948909e-01, 4.61459867e-01,\n",
       "       7.47625446e-01, 9.90094728e-01, 4.70039966e-01, 6.72779487e-01,\n",
       "       6.14213809e-01, 2.63640751e-01, 8.27560659e-01, 6.22528296e-01,\n",
       "       7.30635525e-01, 9.01262885e-01, 2.51215457e-01, 4.77782140e-01,\n",
       "       7.33820249e-01, 9.49285983e-01, 8.06897857e-01, 6.56519547e-01,\n",
       "       1.49979024e-01, 5.23053257e-01, 2.95882619e-01, 2.42180509e-02,\n",
       "       2.36513768e-01, 6.67908878e-01, 7.49890508e-02, 8.81561645e-01,\n",
       "       5.73310484e-02, 7.54418509e-01, 2.23763800e-01, 1.38074826e-01,\n",
       "       1.67056463e-01, 3.34274420e-01, 4.79624325e-01, 2.23870230e-01,\n",
       "       5.62139521e-01, 3.69861424e-01, 8.19065573e-01, 9.56243385e-01,\n",
       "       8.59998776e-01, 5.02911595e-01, 3.92678780e-01, 9.36512945e-01,\n",
       "       3.99808019e-01, 7.12664323e-01, 6.54206102e-01, 4.93532304e-01,\n",
       "       2.97255203e-01, 4.25292878e-01, 6.81015143e-01, 3.87459435e-01,\n",
       "       4.14521585e-01, 9.40256674e-01, 5.23118585e-01, 4.76674087e-01,\n",
       "       3.00058732e-01, 3.74765917e-01, 6.76296451e-01, 9.05409876e-01,\n",
       "       9.54413683e-01, 8.82885575e-01, 2.45297462e-01, 9.93965691e-01,\n",
       "       7.33159207e-01, 1.87785352e-01, 3.47827802e-01, 1.68654063e-01,\n",
       "       5.82196458e-01, 5.39917668e-01, 6.60755494e-01, 9.83873999e-01,\n",
       "       6.57823564e-01, 4.58014348e-01, 2.62491809e-01, 1.75216332e-01,\n",
       "       9.24099003e-01, 9.23900209e-02, 7.53474144e-01, 7.17310987e-01,\n",
       "       7.03739739e-01, 3.11636340e-01, 2.82660365e-01, 4.82040006e-01,\n",
       "       2.62972109e-01, 7.67946870e-01, 8.38539344e-01, 8.71128714e-01,\n",
       "       9.82729590e-01, 2.72895559e-01, 9.03007388e-01, 7.08781576e-01,\n",
       "       7.80238415e-01, 1.81398109e-02, 9.64177841e-01, 6.86914167e-01,\n",
       "       1.43652369e-01, 4.36854006e-01, 5.30999113e-01, 2.45001344e-01,\n",
       "       7.24137236e-01, 4.98093082e-01, 4.14897532e-01, 4.24889017e-01,\n",
       "       4.74469575e-01, 9.34694942e-01, 9.31161173e-02, 6.77835669e-01,\n",
       "       6.03155593e-01, 8.95250368e-01, 1.02333010e-01, 5.83227089e-01,\n",
       "       8.36171280e-01, 8.72081110e-01, 8.89900524e-02, 4.56843090e-01,\n",
       "       7.67382819e-01, 2.46943658e-01, 6.88587689e-01, 5.40749483e-02,\n",
       "       6.65726071e-01, 8.87905602e-01, 1.10158588e-03, 6.69326487e-01,\n",
       "       5.99202214e-01, 1.74742739e-01, 7.90185487e-01, 5.79200494e-01,\n",
       "       6.42348845e-01, 8.87712530e-01, 6.97405601e-01, 2.78939514e-01,\n",
       "       5.49290291e-01, 4.67338106e-01, 6.21999780e-01, 9.93293915e-01,\n",
       "       2.00017794e-02, 5.21548442e-02, 2.96545425e-01, 5.65602099e-01,\n",
       "       5.12874660e-01, 4.37671460e-01, 6.12530242e-01, 3.77914763e-01,\n",
       "       7.90059207e-01, 4.59901867e-01, 1.45143277e-01, 4.51910961e-01,\n",
       "       1.52000839e-02, 2.02000300e-01, 6.08082233e-01, 1.51629218e-01,\n",
       "       3.08144254e-01, 7.66163497e-02, 6.03316440e-01, 7.91387862e-01,\n",
       "       9.04553388e-01, 9.19991267e-01, 6.42115252e-02, 4.57723706e-01,\n",
       "       5.78240267e-01, 7.55863054e-01, 1.10059738e-01, 2.64585992e-01,\n",
       "       2.01097371e-01, 4.34581646e-01, 4.54678019e-01, 7.03226221e-01,\n",
       "       8.29821711e-01, 3.72738291e-01, 2.79031374e-02, 4.83651082e-01,\n",
       "       4.36441183e-01, 6.98471986e-01, 4.99985481e-01, 5.30275494e-01,\n",
       "       5.08962784e-01, 7.33397902e-01, 7.68044962e-01, 8.90368303e-01,\n",
       "       3.69607873e-01, 2.15084221e-02, 9.03610028e-01, 2.71365104e-01,\n",
       "       4.22779657e-01, 3.74645692e-01, 5.57483517e-01, 9.65750348e-01,\n",
       "       6.36784196e-01, 8.37988893e-01, 7.46017305e-01, 4.87681045e-01,\n",
       "       2.15058134e-01, 9.94658328e-01, 3.50102752e-01, 4.00269086e-01,\n",
       "       4.47455617e-01, 5.61725604e-01, 6.69485893e-01, 3.49251722e-01,\n",
       "       3.73430735e-02, 7.96870737e-02, 8.59839987e-01, 6.89048874e-01,\n",
       "       6.48812923e-02, 8.54444743e-02, 3.38534372e-01, 2.82319642e-01,\n",
       "       3.49023305e-01, 9.45428941e-01, 4.22613253e-02, 9.82439177e-01,\n",
       "       9.06430063e-01, 8.65885375e-01, 9.48673009e-01, 8.73616330e-01,\n",
       "       8.66371360e-01, 4.35193509e-01, 6.52152448e-01, 7.56199826e-01,\n",
       "       7.90171714e-01, 6.21050442e-01, 6.48603345e-01, 5.97486667e-01,\n",
       "       1.25135722e-01, 7.65016715e-02, 1.21919914e-01, 5.25395252e-01,\n",
       "       2.93093080e-01, 2.05668726e-01, 6.85144618e-01, 6.52931611e-01,\n",
       "       4.05316865e-01, 2.41886899e-01, 1.67453518e-01, 6.01314245e-01,\n",
       "       5.57930528e-01, 9.83595014e-02, 9.70544056e-01, 4.09808155e-02])"
      ]
     },
     "execution_count": 31,
     "metadata": {},
     "output_type": "execute_result"
    }
   ],
   "source": [
    "r=np.random.rand(500)\n",
    "r"
   ]
  },
  {
   "cell_type": "code",
   "execution_count": 33,
   "id": "3574fdb8-6182-4e45-afdc-64ac693e6971",
   "metadata": {},
   "outputs": [
    {
     "data": {
      "text/plain": [
       "500"
      ]
     },
     "execution_count": 33,
     "metadata": {},
     "output_type": "execute_result"
    }
   ],
   "source": [
    "r.size"
   ]
  },
  {
   "cell_type": "code",
   "execution_count": 37,
   "id": "197f1899-f163-4dea-86e9-cb7f8c7fc3c7",
   "metadata": {},
   "outputs": [
    {
     "data": {
      "text/plain": [
       "array([[3.81022109e-01, 6.74362626e-01, 6.85120337e-02, 3.10004049e-01,\n",
       "        2.18594121e-01, 6.63416800e-01, 8.67734917e-01, 4.26051221e-01,\n",
       "        2.35248795e-01, 4.76505144e-01],\n",
       "       [4.13064440e-01, 1.51622854e-02, 8.25637598e-01, 3.43579600e-01,\n",
       "        6.64613056e-03, 3.76466610e-01, 7.66215347e-01, 3.84823894e-01,\n",
       "        9.05543308e-01, 4.20128857e-01],\n",
       "       [3.75397872e-01, 3.66641416e-01, 2.49951825e-01, 4.70635899e-01,\n",
       "        6.85852879e-01, 7.67355058e-01, 6.11084513e-01, 5.31943594e-01,\n",
       "        1.73784072e-01, 6.43642235e-01],\n",
       "       [6.28214032e-01, 4.05308428e-01, 1.19571883e-01, 2.41410634e-02,\n",
       "        8.09096405e-01, 2.88775146e-01, 6.07073270e-01, 5.38173091e-01,\n",
       "        1.68358213e-01, 2.64428059e-01],\n",
       "       [5.78376613e-01, 1.01075522e-01, 2.69354144e-01, 3.52289797e-01,\n",
       "        7.44100169e-01, 1.67895827e-01, 6.66120825e-01, 1.98200379e-01,\n",
       "        4.27671045e-01, 1.73465867e-02],\n",
       "       [4.77494132e-01, 3.80139396e-02, 6.09945761e-02, 8.80734579e-01,\n",
       "        6.54829604e-03, 9.78386229e-01, 3.96672989e-01, 8.36398862e-01,\n",
       "        4.58067484e-01, 2.45829227e-02],\n",
       "       [6.11035399e-01, 7.89879447e-01, 9.63804292e-01, 9.24286824e-01,\n",
       "        3.73474792e-01, 8.33622581e-01, 3.16706160e-01, 5.15496904e-01,\n",
       "        3.68547835e-01, 4.24125358e-01],\n",
       "       [8.27973630e-01, 2.37381357e-02, 5.25463994e-01, 8.53345568e-01,\n",
       "        7.21036203e-01, 7.04324825e-01, 7.90185684e-01, 8.71926512e-01,\n",
       "        5.23572534e-02, 2.59120951e-02],\n",
       "       [2.66666005e-02, 4.28954173e-01, 9.62856128e-01, 4.82442573e-01,\n",
       "        7.61742041e-01, 7.88806557e-01, 4.52639295e-01, 4.05264564e-01,\n",
       "        1.43744315e-01, 2.93024086e-01],\n",
       "       [7.47254253e-01, 6.38381102e-01, 4.52148171e-01, 5.52087469e-01,\n",
       "        4.15853329e-01, 2.31234504e-01, 7.71533763e-01, 1.90073147e-01,\n",
       "        1.20438018e-01, 1.81893522e-01],\n",
       "       [7.76783206e-04, 1.27268165e-01, 6.57004342e-01, 2.09218362e-01,\n",
       "        1.34139073e-01, 4.90661983e-01, 7.68137394e-01, 2.28134715e-01,\n",
       "        2.38832536e-01, 9.54492073e-01],\n",
       "       [9.13466702e-02, 8.99823327e-02, 2.40796572e-01, 5.64696432e-01,\n",
       "        8.95278714e-01, 2.64599439e-01, 1.09596827e-01, 6.13437961e-01,\n",
       "        4.10508821e-01, 9.71649225e-01],\n",
       "       [2.72872835e-01, 6.71530683e-01, 9.89827817e-01, 3.51368010e-01,\n",
       "        3.60203413e-01, 5.41622115e-01, 1.37494745e-01, 6.27424077e-01,\n",
       "        4.79577567e-01, 8.26824252e-01],\n",
       "       [5.66617497e-01, 4.46566044e-01, 2.69895198e-01, 5.75984185e-01,\n",
       "        2.27515907e-01, 6.84143162e-01, 2.06019709e-02, 4.83195837e-01,\n",
       "        5.28102205e-01, 6.10483020e-01],\n",
       "       [3.19878861e-01, 6.28366771e-01, 5.35627656e-01, 4.27520634e-01,\n",
       "        7.01110514e-01, 4.86455589e-01, 9.40042121e-01, 6.75527864e-01,\n",
       "        5.72445811e-01, 6.09741577e-01],\n",
       "       [1.43672774e-01, 2.11879186e-01, 3.29491353e-02, 2.13187104e-01,\n",
       "        9.06189908e-01, 6.49721229e-01, 3.73737459e-01, 3.86420871e-01,\n",
       "        1.89683580e-01, 4.37855865e-01],\n",
       "       [8.52328900e-01, 5.40339894e-01, 5.30533678e-01, 3.78271933e-01,\n",
       "        6.17175882e-02, 5.97550815e-01, 1.17492397e-01, 6.46968338e-01,\n",
       "        5.14491504e-01, 1.95941924e-01],\n",
       "       [4.74792073e-01, 7.98100420e-01, 4.98163135e-01, 4.79582940e-02,\n",
       "        7.67489538e-01, 8.59997417e-01, 7.91523966e-02, 7.61338102e-01,\n",
       "        4.29067274e-01, 2.92489285e-02],\n",
       "       [2.74224358e-01, 4.67736494e-01, 8.34810437e-01, 7.73059129e-01,\n",
       "        8.36075445e-01, 6.80569366e-01, 4.11437603e-01, 2.56852558e-01,\n",
       "        7.41053995e-01, 5.77260499e-01],\n",
       "       [1.72788785e-02, 2.84045007e-01, 1.16901701e-01, 7.44526996e-01,\n",
       "        4.82715817e-01, 5.02054461e-01, 9.51128241e-01, 2.12404540e-01,\n",
       "        1.03083142e-01, 8.38258645e-01],\n",
       "       [4.15471680e-01, 6.43468641e-02, 1.47027711e-01, 5.45972429e-01,\n",
       "        3.88858773e-01, 6.98501013e-01, 4.83507715e-01, 2.24212165e-01,\n",
       "        8.71095580e-01, 2.67116560e-01],\n",
       "       [8.27899060e-01, 8.97549005e-01, 6.38173422e-01, 5.65384894e-01,\n",
       "        1.45401097e-01, 7.62745901e-01, 7.71595346e-01, 7.39077416e-01,\n",
       "        1.04847189e-01, 4.52358275e-01],\n",
       "       [7.83019999e-01, 5.88404109e-01, 1.67697991e-01, 3.68497006e-01,\n",
       "        8.52854000e-01, 9.88811911e-01, 3.43568315e-01, 6.65361967e-01,\n",
       "        4.19888205e-01, 2.19605508e-01],\n",
       "       [2.50824397e-01, 2.23481558e-01, 4.58555343e-02, 7.20837370e-01,\n",
       "        3.68831157e-02, 8.90815367e-01, 8.56004864e-01, 8.94742574e-01,\n",
       "        8.87063922e-03, 5.42130400e-01],\n",
       "       [6.31933489e-01, 2.14555299e-01, 8.18139613e-01, 5.35463766e-01,\n",
       "        7.90751187e-01, 8.96151094e-01, 1.56375467e-01, 6.20333906e-02,\n",
       "        8.48233591e-01, 1.83338875e-01],\n",
       "       [8.24680684e-01, 2.89734332e-01, 7.62401459e-01, 8.26387106e-01,\n",
       "        8.65156690e-01, 3.42763597e-01, 9.59338424e-01, 9.78251227e-01,\n",
       "        5.68469462e-01, 3.59027953e-01],\n",
       "       [6.27413584e-01, 9.51085312e-01, 3.74618773e-01, 5.30002206e-01,\n",
       "        1.17373805e-01, 5.44120864e-01, 2.08552960e-01, 4.65729802e-01,\n",
       "        8.61413647e-01, 8.57514778e-01],\n",
       "       [7.09033211e-01, 2.36840118e-01, 5.86104130e-01, 2.61055396e-01,\n",
       "        4.51995282e-01, 8.63430279e-01, 9.65838856e-01, 5.77157861e-01,\n",
       "        6.28979269e-01, 4.82408062e-01],\n",
       "       [5.33992852e-02, 1.37516978e-02, 3.88394698e-01, 3.38059200e-01,\n",
       "        1.31750804e-01, 3.62975882e-01, 6.88687947e-01, 5.83100587e-01,\n",
       "        2.00132621e-01, 1.43119125e-01],\n",
       "       [4.80920393e-01, 2.23885696e-01, 5.61331486e-01, 6.34852490e-01,\n",
       "        1.39186687e-01, 7.64279129e-01, 5.91080480e-01, 4.75318653e-02,\n",
       "        4.19742608e-01, 4.76078571e-01],\n",
       "       [2.76278545e-02, 1.47683854e-02, 8.21560425e-02, 3.03370922e-01,\n",
       "        1.77758277e-01, 3.67562512e-01, 7.38178067e-01, 3.81902235e-01,\n",
       "        7.35529753e-01, 8.43666418e-01],\n",
       "       [2.27920325e-01, 7.71497359e-01, 4.20306454e-02, 8.71769540e-02,\n",
       "        2.78809209e-01, 8.67785654e-02, 6.18613358e-01, 7.31350252e-01,\n",
       "        9.15378497e-02, 2.28419499e-01],\n",
       "       [5.59843113e-01, 3.24880283e-01, 5.35312521e-01, 1.50862442e-02,\n",
       "        5.90753661e-01, 9.40668230e-01, 9.47964626e-01, 1.77831380e-01,\n",
       "        9.31341840e-01, 6.64835819e-01],\n",
       "       [5.64602640e-01, 3.92218288e-01, 5.25642843e-01, 4.65565213e-01,\n",
       "        3.38826997e-01, 5.41769441e-01, 2.48603428e-01, 6.72818629e-01,\n",
       "        7.35087807e-01, 1.21623025e-01],\n",
       "       [9.68702055e-01, 9.51450747e-01, 2.83691690e-02, 8.25197406e-01,\n",
       "        7.34129600e-01, 4.95060413e-01, 8.29392365e-01, 2.29949097e-01,\n",
       "        6.67411247e-01, 4.64645638e-01],\n",
       "       [7.57325454e-01, 1.09381744e-02, 6.60103112e-01, 7.28812623e-03,\n",
       "        1.14667589e-01, 8.67295327e-01, 3.57265590e-01, 4.86646811e-01,\n",
       "        1.92168963e-01, 6.11046102e-01],\n",
       "       [6.57686779e-01, 6.17396278e-01, 6.20942605e-01, 2.95630544e-01,\n",
       "        7.74109408e-01, 6.68657442e-02, 5.61339952e-01, 1.58063516e-02,\n",
       "        3.10201122e-01, 3.90798138e-01],\n",
       "       [4.86822482e-01, 6.04235105e-01, 4.66898690e-01, 1.99232952e-01,\n",
       "        4.42096769e-01, 7.38442971e-01, 3.79658651e-01, 5.84171770e-01,\n",
       "        5.33441695e-01, 4.32345572e-01],\n",
       "       [7.26725876e-01, 8.75254214e-01, 2.91017828e-01, 1.30247448e-01,\n",
       "        6.04790102e-01, 3.38649199e-01, 9.29073128e-01, 9.69748470e-03,\n",
       "        8.09185398e-01, 2.57901749e-01],\n",
       "       [5.67872176e-01, 6.01112617e-01, 2.22432326e-01, 9.81720055e-01,\n",
       "        2.18617718e-01, 3.32568329e-01, 6.29734467e-01, 4.52613952e-01,\n",
       "        3.87582532e-01, 3.94545495e-01],\n",
       "       [8.73814282e-01, 2.92597279e-01, 3.97214822e-01, 1.99619981e-01,\n",
       "        4.21642452e-01, 3.88697407e-01, 9.21402272e-02, 9.84216824e-01,\n",
       "        1.62072751e-01, 7.36822617e-01],\n",
       "       [3.39341092e-01, 3.24442947e-01, 8.06046652e-02, 3.88646951e-01,\n",
       "        8.13469951e-01, 5.30646705e-01, 1.06696213e-01, 7.96923251e-01,\n",
       "        5.80935438e-01, 3.68280224e-01],\n",
       "       [4.76869599e-02, 2.31299038e-02, 4.07289324e-01, 1.67552310e-01,\n",
       "        1.85917490e-01, 6.28588768e-01, 1.44053535e-01, 6.07955945e-01,\n",
       "        1.42281236e-01, 6.81310875e-02],\n",
       "       [2.36423439e-02, 1.19031885e-01, 5.91350994e-01, 2.41096271e-01,\n",
       "        6.99354716e-01, 9.53269963e-01, 5.59670233e-01, 4.59298692e-01,\n",
       "        2.16216762e-01, 3.07264063e-01],\n",
       "       [2.36538795e-01, 7.52632725e-02, 8.96293426e-01, 5.56871211e-01,\n",
       "        4.84061068e-01, 5.37315860e-01, 7.43326108e-01, 9.02231613e-01,\n",
       "        7.60529617e-01, 1.56235193e-01],\n",
       "       [4.14664347e-01, 1.51854128e-02, 6.26435829e-01, 2.72987884e-01,\n",
       "        8.19194625e-01, 5.31302651e-01, 3.70754467e-01, 8.39799233e-01,\n",
       "        4.64251832e-01, 8.35761478e-01],\n",
       "       [8.04819632e-01, 1.71715832e-01, 8.91034957e-01, 2.21078146e-02,\n",
       "        7.16336460e-01, 2.71671360e-01, 2.94861858e-01, 8.31195569e-01,\n",
       "        9.65354638e-01, 7.30970418e-01],\n",
       "       [5.70063136e-01, 2.70846191e-02, 8.46495690e-01, 4.41431486e-01,\n",
       "        5.60474095e-01, 4.13182083e-01, 2.74272483e-01, 5.66098017e-01,\n",
       "        2.63716752e-01, 5.57787750e-01],\n",
       "       [6.41380264e-01, 8.70431412e-01, 1.73268338e-01, 1.06782476e-01,\n",
       "        4.74430791e-01, 3.25088189e-01, 2.10010486e-01, 7.28186481e-02,\n",
       "        3.29618861e-01, 6.77291828e-01],\n",
       "       [2.86639347e-01, 8.95432954e-01, 7.94754796e-01, 9.24286847e-01,\n",
       "        9.91754746e-01, 4.32272024e-01, 1.15325949e-02, 8.73840125e-01,\n",
       "        2.09552193e-01, 7.13061189e-01]])"
      ]
     },
     "execution_count": 37,
     "metadata": {},
     "output_type": "execute_result"
    }
   ],
   "source": [
    "np.random.rand(50,10)"
   ]
  },
  {
   "cell_type": "code",
   "execution_count": 39,
   "id": "c7ced098-0e4b-4ce4-b650-fb163e73ae2c",
   "metadata": {},
   "outputs": [
    {
     "data": {
      "text/plain": [
       "array([[ 5.45043801e-01, -4.57199426e-01,  5.56993777e-01,\n",
       "         1.09385989e+00,  4.29431490e-01, -7.99712506e-01,\n",
       "        -1.99462160e-01, -4.05267258e-01,  2.23994017e-01,\n",
       "        -5.43509452e-01],\n",
       "       [ 3.74858454e-01,  2.49036085e-02, -7.68293707e-01,\n",
       "         6.49235805e-01, -5.42500283e-01, -1.81847532e+00,\n",
       "        -3.56340187e-01,  1.37869839e+00, -1.50211464e-01,\n",
       "        -3.07531956e-01],\n",
       "       [ 1.34290997e+00, -6.00777467e-02,  1.21514026e+00,\n",
       "        -3.04479360e-01,  1.63330895e+00,  6.31250924e-01,\n",
       "        -2.15300757e-01, -4.61296644e-01,  7.80855937e-01,\n",
       "         6.67373244e-01],\n",
       "       [-1.81938997e+00, -2.07881269e+00, -1.28927720e+00,\n",
       "         2.07280817e+00,  2.01288096e+00, -1.21959120e-01,\n",
       "         6.37493934e-01, -4.46347355e-01,  1.76562076e+00,\n",
       "        -3.24974448e-01],\n",
       "       [-7.91166174e-01, -2.24346308e+00,  1.65211004e+00,\n",
       "        -1.63145074e+00,  1.20111334e+00, -5.66730994e-01,\n",
       "        -1.83420436e+00, -7.86754770e-02, -1.17169377e+00,\n",
       "         4.19176905e-01],\n",
       "       [-1.56035016e+00, -3.13282625e-01, -2.19302967e+00,\n",
       "        -1.56916578e+00, -3.96020020e-01,  6.00264404e-01,\n",
       "         6.46160162e-01, -8.50570537e-01, -1.74453633e-01,\n",
       "         3.05838080e-01],\n",
       "       [-2.23178620e-01,  4.14257817e-01,  3.71197979e-01,\n",
       "         6.43400853e-01, -1.87406487e+00,  3.35866874e-01,\n",
       "         4.50673854e-01,  1.58085715e+00,  6.56387349e-02,\n",
       "         9.82165729e-01],\n",
       "       [ 7.82050261e-01,  2.72851448e+00,  1.79118613e+00,\n",
       "        -6.65387912e-01,  9.33059763e-01,  3.65922739e-01,\n",
       "         7.49140769e-01, -4.03054018e-01,  8.77092465e-01,\n",
       "         1.16061854e+00],\n",
       "       [-5.82974826e-01,  1.58014011e+00, -3.11678216e-01,\n",
       "        -7.65248154e-01, -3.28197377e-01,  9.55865983e-01,\n",
       "         2.45290402e-03,  1.08696541e+00, -7.39668573e-01,\n",
       "         3.19304604e-01],\n",
       "       [ 1.10976645e+00,  1.11222035e+00, -3.16861764e-01,\n",
       "        -1.36078985e+00,  5.19327432e-02, -1.94525742e-01,\n",
       "        -3.54114859e-01,  2.63018020e+00, -3.20411699e-01,\n",
       "         1.10918355e+00],\n",
       "       [-4.79457682e-01,  2.04006965e+00, -1.18841042e+00,\n",
       "        -1.51296077e+00,  2.02127515e+00,  4.57743988e-02,\n",
       "         7.55088163e-01,  8.28592921e-01,  5.49673681e-01,\n",
       "        -5.24289810e-01],\n",
       "       [-8.62445249e-01, -8.18118019e-02,  1.06905824e+00,\n",
       "         5.78887622e-02,  7.93695138e-01,  4.16383149e-01,\n",
       "        -4.18859645e-01, -7.80777483e-01, -6.01155011e-01,\n",
       "         9.53956911e-01],\n",
       "       [ 1.79948921e-01, -3.17304397e-02, -7.02714016e-01,\n",
       "         1.16667937e+00,  2.04740378e+00,  3.71137272e-01,\n",
       "        -1.08932065e+00,  1.41521237e+00,  2.89438304e-01,\n",
       "        -1.20705176e-01],\n",
       "       [ 1.62833503e+00,  7.50296796e-02,  4.60776181e-01,\n",
       "         1.33791235e+00,  3.02969181e-02,  3.09416463e-01,\n",
       "        -1.04316361e+00, -2.84291692e+00,  1.05476937e-02,\n",
       "         1.22261126e-01],\n",
       "       [ 9.68964820e-01,  1.03303593e+00, -1.90710394e+00,\n",
       "        -1.53618623e+00,  1.76960064e+00, -1.32183053e+00,\n",
       "        -2.45894564e+00, -4.31155173e-01, -1.91359004e-01,\n",
       "         1.72474690e+00],\n",
       "       [ 3.31758088e-01,  1.27417088e+00, -2.01816585e-01,\n",
       "        -3.16213113e-01,  1.26619259e+00, -1.34929721e+00,\n",
       "         1.47026818e+00,  3.78314450e-01,  1.84090412e-01,\n",
       "        -1.23769964e+00],\n",
       "       [-1.14124305e-01, -1.78356945e+00,  1.10309404e+00,\n",
       "        -1.60346570e+00,  2.75963539e-01, -9.16041081e-01,\n",
       "         6.02351407e-01,  4.53217913e-01,  1.69933997e+00,\n",
       "        -7.97305587e-02],\n",
       "       [ 7.87455657e-01,  1.07613284e+00, -8.30360810e-01,\n",
       "         1.55288215e+00, -6.52988353e-02, -1.32758194e+00,\n",
       "        -5.65506250e-01,  9.96986509e-01, -6.66146343e-01,\n",
       "        -1.04200383e+00],\n",
       "       [-4.23781146e-01,  3.02387784e-01,  2.14238385e-01,\n",
       "        -9.42314143e-01,  1.25665232e-01, -1.43752002e+00,\n",
       "         1.93693053e+00, -2.91870259e-01,  1.46416126e+00,\n",
       "         9.88432566e-01],\n",
       "       [ 7.73521231e-01, -5.43287126e-02,  7.87080363e-01,\n",
       "        -6.36844641e-02,  1.04032772e+00,  1.77047094e-01,\n",
       "         3.56063358e+00,  1.21967912e+00,  4.55838669e-01,\n",
       "        -4.27931527e-01],\n",
       "       [ 2.10514833e+00,  1.19859226e+00, -2.46226654e-01,\n",
       "        -4.00006314e-01,  3.56244091e-01, -8.96738205e-02,\n",
       "         1.29111040e+00,  3.51643796e-01,  1.02305067e-01,\n",
       "         2.98335796e-01],\n",
       "       [ 4.30219859e-01,  1.37263657e+00,  3.74573113e-01,\n",
       "        -1.70084281e+00,  7.54495818e-01,  1.84732569e-01,\n",
       "         6.25896927e-01, -3.98073587e-01,  2.05333609e+00,\n",
       "        -5.13885728e-01],\n",
       "       [-1.03668488e-01, -6.92719990e-01,  1.32667896e+00,\n",
       "         1.34197344e+00,  1.55527016e+00, -4.14303318e-01,\n",
       "        -3.31581438e-01, -1.51204105e-01, -1.05026938e+00,\n",
       "        -1.62279609e-01],\n",
       "       [-1.32225176e+00,  1.10125613e+00, -2.19814251e-01,\n",
       "        -1.39550750e+00,  7.73115937e-01, -9.13156424e-01,\n",
       "         1.49435312e+00, -6.09405263e-01,  4.68401275e-01,\n",
       "        -1.04420062e+00],\n",
       "       [-3.05027439e-01, -1.77645565e-01,  1.35665283e-01,\n",
       "         1.40997703e+00, -1.16581159e+00,  1.49937942e-01,\n",
       "        -1.31439253e+00, -2.34200100e+00, -1.65456976e+00,\n",
       "        -5.14487719e-01],\n",
       "       [-1.08209499e+00,  8.62570545e-01, -2.90952829e-01,\n",
       "        -6.46008307e-01,  6.80920378e-01, -5.17922251e-01,\n",
       "         5.75693557e-01,  1.84399581e+00, -2.59823836e-01,\n",
       "         7.02885540e-01],\n",
       "       [-1.36542885e-02, -5.72622632e-01,  8.10499645e-02,\n",
       "         1.96656636e+00,  3.86838714e-01, -1.25534433e+00,\n",
       "         6.43228933e-01,  7.23959242e-01, -1.13048232e+00,\n",
       "         8.41935288e-01],\n",
       "       [-2.23814289e-01, -2.71239198e-01, -1.47608720e+00,\n",
       "         6.61369179e-01,  7.48365482e-01, -5.15424451e-01,\n",
       "         4.19390088e-01, -4.25800868e-01,  6.21165256e-02,\n",
       "        -7.99398749e-01],\n",
       "       [ 1.43694916e+00, -9.78618316e-01,  1.14938802e+00,\n",
       "        -3.71731302e-01, -2.56449474e-01,  3.96323184e-01,\n",
       "         1.81056550e-01,  4.06599125e-01, -5.11589398e-01,\n",
       "        -8.45640734e-01],\n",
       "       [-2.04913014e+00, -7.13877863e-01,  1.13103285e+00,\n",
       "        -1.44380162e+00, -4.66358559e-01, -6.66639735e-01,\n",
       "        -1.81525070e+00,  2.01169433e+00,  1.30159829e+00,\n",
       "        -6.80763265e-01],\n",
       "       [-5.11835448e-01,  1.40001325e+00, -5.65868331e-01,\n",
       "         1.82364845e-01,  6.59764521e-01,  1.24191406e+00,\n",
       "         3.91949974e-01, -7.08949118e-01,  8.50920921e-01,\n",
       "        -7.54759995e-01],\n",
       "       [ 1.29014660e+00, -2.34430343e-01, -2.25207707e-01,\n",
       "         1.15104520e+00, -1.34030524e+00, -6.50869829e-01,\n",
       "         3.13494077e-01, -4.49187244e-01, -2.26192274e-01,\n",
       "        -2.60475397e-02],\n",
       "       [-1.11001222e+00,  1.97838308e+00, -1.76935101e-02,\n",
       "         3.36937444e-02,  3.98057389e-01, -5.52181490e-01,\n",
       "        -1.76230326e+00, -6.42585723e-01, -2.11374025e-01,\n",
       "        -6.49135823e-01],\n",
       "       [-1.37631866e+00,  2.28504337e-01,  9.44282786e-04,\n",
       "         8.56763673e-01, -8.83058481e-01,  7.10720534e-01,\n",
       "         1.16014021e+00,  1.38814215e+00, -6.95660601e-01,\n",
       "         6.02257385e-01],\n",
       "       [-1.43535981e+00,  6.01296987e-01, -6.14316443e-01,\n",
       "        -2.97053889e-01, -2.97143032e+00,  1.07376363e+00,\n",
       "         6.00361678e-01, -5.91928821e-01, -7.44676332e-01,\n",
       "        -7.41835239e-01],\n",
       "       [ 1.75714905e+00,  9.65824568e-01, -1.01113037e+00,\n",
       "        -2.58332867e-01,  9.62066927e-01, -1.30271752e+00,\n",
       "        -7.25269255e-01,  1.07298099e+00, -1.74696466e+00,\n",
       "         3.61944497e-01],\n",
       "       [-9.40435077e-01, -1.71558686e-01, -2.32671281e+00,\n",
       "         1.23003836e+00,  9.69381971e-01,  2.11410043e+00,\n",
       "        -2.02448298e+00, -1.02719979e+00,  1.61694244e-01,\n",
       "        -3.10154940e-01],\n",
       "       [ 2.83893925e-01,  3.81098304e-01, -6.16247851e-01,\n",
       "        -3.35370441e+00, -1.07358512e+00, -4.81113161e-01,\n",
       "        -2.16415610e-02, -1.50872909e+00, -1.71177725e+00,\n",
       "         1.06276583e+00],\n",
       "       [ 4.70515905e-02, -8.89487716e-01, -5.46810868e-01,\n",
       "        -1.67946811e+00,  4.15546090e-01,  4.35012883e-01,\n",
       "         9.34750909e-01, -6.29203769e-01, -3.90386923e-01,\n",
       "         5.20868106e-01],\n",
       "       [ 9.00651536e-01,  8.54380969e-01, -9.00570442e-02,\n",
       "        -2.60265736e+00,  4.72702582e-02, -1.25078063e+00,\n",
       "         2.22810574e-01,  1.66260749e+00,  5.73280113e-01,\n",
       "         1.89674480e-01],\n",
       "       [ 7.44464904e-02, -1.05726371e+00,  1.45701589e-01,\n",
       "         9.43643428e-01, -7.46656335e-01, -2.85623849e-01,\n",
       "         1.19732251e+00, -1.79067188e-01, -6.68359191e-01,\n",
       "        -4.33429882e-01],\n",
       "       [-1.19616161e+00, -1.58711240e+00,  9.52697533e-01,\n",
       "        -2.10308534e+00,  1.04094799e+00, -2.65148176e-01,\n",
       "        -9.35903767e-02,  1.71572327e-01,  2.87512468e-01,\n",
       "        -5.12849325e-01],\n",
       "       [ 1.90495200e+00,  3.88389931e-02, -5.52236560e-01,\n",
       "         8.40950254e-01, -1.25531049e+00,  1.44186363e-01,\n",
       "         2.83972066e-01,  1.07414511e+00,  1.67691393e-01,\n",
       "         9.11087357e-01],\n",
       "       [ 5.62446600e-01, -4.45218695e-01,  9.92974771e-01,\n",
       "         1.02325920e+00,  1.37238465e-01, -2.25000196e-01,\n",
       "         3.40266568e-01, -1.31923584e-01, -1.75583339e+00,\n",
       "         8.10550001e-02],\n",
       "       [ 1.18625405e+00,  6.37629339e-01, -1.52555205e+00,\n",
       "         1.02116751e+00,  7.81570628e-02, -2.79727264e-01,\n",
       "         5.85324551e-01,  1.26433793e+00, -5.50581666e-01,\n",
       "         7.50954790e-02],\n",
       "       [ 9.45987644e-01, -7.01034170e-02, -8.22237671e-01,\n",
       "         5.82248688e-02,  1.11962032e+00,  2.47581116e+00,\n",
       "        -1.61259285e-01,  2.51369206e-01, -4.17765713e-01,\n",
       "         1.00883418e+00],\n",
       "       [ 1.61063006e-01, -9.32996917e-01,  1.52474996e+00,\n",
       "        -8.46369492e-01,  3.31379887e-01,  2.56963425e-01,\n",
       "         3.82533999e-01, -6.94042297e-02, -7.52925858e-01,\n",
       "        -1.36526707e+00],\n",
       "       [-4.82408868e-01, -1.96254980e-01,  4.41140675e-02,\n",
       "         7.88616711e-01, -7.65654303e-01, -8.75877096e-01,\n",
       "        -1.95712565e-01,  8.12090319e-01, -1.23941833e-01,\n",
       "        -1.13222830e+00],\n",
       "       [-5.65354384e-01, -1.33024645e+00, -4.37929036e-01,\n",
       "         1.07467305e+00, -9.68743657e-01,  1.05526411e+00,\n",
       "        -1.63863655e+00,  9.90473583e-01,  1.47447777e+00,\n",
       "        -7.25319265e-02],\n",
       "       [-5.37577836e-01,  1.48823990e-02,  1.31681756e+00,\n",
       "        -2.09865398e-01, -1.25337729e+00,  1.17998119e+00,\n",
       "        -1.61283999e+00, -6.54210570e-01, -5.93458266e-01,\n",
       "         3.76214513e-01]])"
      ]
     },
     "execution_count": 39,
     "metadata": {},
     "output_type": "execute_result"
    }
   ],
   "source": [
    "np.random.randn(50,10)"
   ]
  },
  {
   "cell_type": "code",
   "execution_count": 41,
   "id": "d1f01771-de46-4108-8214-9199f61e1d77",
   "metadata": {},
   "outputs": [
    {
     "data": {
      "text/plain": [
       "array([[12.56075466, 11.32324732, 11.01420568, 10.00927512],\n",
       "       [10.4618137 ,  8.26593607,  9.5537705 ,  9.70619645],\n",
       "       [11.46424847,  8.38938434,  5.48438813,  6.64390383],\n",
       "       [ 7.07987783, 14.36888717,  8.26497501,  8.61087054],\n",
       "       [ 7.6871135 , 11.6815081 , 14.34718934, 10.91997006],\n",
       "       [ 9.45742969,  9.16294491,  9.03198331, 10.42430954],\n",
       "       [12.92933216, 10.11121822,  7.67715654,  7.83314738]])"
      ]
     },
     "execution_count": 41,
     "metadata": {},
     "output_type": "execute_result"
    }
   ],
   "source": [
    "np.random.normal(10,2,(7,4))"
   ]
  },
  {
   "cell_type": "code",
   "execution_count": 45,
   "id": "fdd1a4c8-9a2c-4230-962c-a4a0ea3953e0",
   "metadata": {},
   "outputs": [
    {
     "data": {
      "text/plain": [
       "array([60, 82, 48, 82, 45, 37, 40, 60, 64, 45, 50, 44, 67, 65, 68, 59, 40,\n",
       "       75, 49, 46, 82, 41, 50, 58, 39, 84, 48, 79, 70, 54, 80, 83, 68, 50,\n",
       "       69, 45, 42, 60, 84, 85, 38, 53, 79, 71, 52, 47, 35, 73, 80, 37, 56,\n",
       "       79, 67, 68, 68, 74, 58, 51, 35, 46, 79, 70, 56, 67, 53, 81, 67, 61,\n",
       "       60, 52, 49, 76, 38, 70, 70, 59, 77, 49, 60, 53, 79, 61, 81, 37, 44,\n",
       "       63, 79, 51, 41, 73, 70, 69, 50, 74, 62, 82, 81, 80, 59, 65, 66, 72,\n",
       "       77, 42, 67, 57, 49, 51, 80, 76, 59, 67, 40, 47, 43, 76, 40, 35, 42,\n",
       "       70, 64, 82, 53, 83, 73, 70, 52, 59, 46, 72, 65, 68, 80, 81, 46, 43,\n",
       "       49, 37, 41, 71, 82, 49, 79, 48, 36, 44, 46, 39, 76, 82, 81, 57, 66,\n",
       "       63, 65, 58, 74, 77, 38, 73, 42, 75, 39, 42, 55, 80, 58, 37, 58, 69,\n",
       "       73, 38, 63, 47, 65, 46, 44, 71, 81, 36, 67, 79, 61, 75, 61, 66, 50,\n",
       "       79, 68, 35, 56, 43, 81, 40, 78, 50, 55, 35, 85, 44])"
      ]
     },
     "execution_count": 45,
     "metadata": {},
     "output_type": "execute_result"
    }
   ],
   "source": [
    "np.random.randint(35,86,200)"
   ]
  },
  {
   "cell_type": "code",
   "execution_count": 47,
   "id": "e7addcaa-5fe8-4938-9516-aa842d7eac22",
   "metadata": {},
   "outputs": [
    {
     "data": {
      "text/plain": [
       "array([[66, 84, 70, 80, 43],\n",
       "       [38, 42, 39, 51, 38],\n",
       "       [85, 51, 65, 57, 38],\n",
       "       [55, 72, 60, 83, 63],\n",
       "       [84, 79, 67, 73, 42]])"
      ]
     },
     "execution_count": 47,
     "metadata": {},
     "output_type": "execute_result"
    }
   ],
   "source": [
    "np.random.randint(35,86,(5,5))"
   ]
  },
  {
   "cell_type": "code",
   "execution_count": null,
   "id": "cfeec9ed-38f6-4a13-b2ef-b29ca2c992d8",
   "metadata": {},
   "outputs": [],
   "source": []
  }
 ],
 "metadata": {
  "kernelspec": {
   "display_name": "Python [conda env:base] *",
   "language": "python",
   "name": "conda-base-py"
  },
  "language_info": {
   "codemirror_mode": {
    "name": "ipython",
    "version": 3
   },
   "file_extension": ".py",
   "mimetype": "text/x-python",
   "name": "python",
   "nbconvert_exporter": "python",
   "pygments_lexer": "ipython3",
   "version": "3.12.7"
  }
 },
 "nbformat": 4,
 "nbformat_minor": 5
}
